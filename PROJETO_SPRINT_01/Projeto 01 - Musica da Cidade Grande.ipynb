{
 "cells": [
  {
   "cell_type": "markdown",
   "id": "dd7db0b1",
   "metadata": {},
   "source": [
    "<h1><font face='Calibri' color=\"#001A56\" size=+3.5><b>\n",
    "    Projeto 01: Música da cidade grande\n",
    "    </b></font></h1>\n",
    "    \n",
    "<h3><font face='Calibri' color=\"#001A56\" size=+1.5>\n",
    "    Bootcamp em análise de dados, Practicum by Yandex.\n",
    "    </font></h3>\n",
    "    \n",
    "<hr>\n",
    "\n",
    "<font face='Calibri' color=\"#001A56\" size=+0.8>\n",
    "    Na primeira <i>sprint</i> do bootcamp em análise de dados, são abordados os conceitos fundamentais e sintaxe básica de Pyhton (laços de repetição, condições,  funções, biblioteca pandas, etc.) e esse é o projeto de conclusão da <i>sprint</i>.\n",
    "    </font>\n",
    "\n",
    "<hr>"
   ]
  },
  {
   "cell_type": "markdown",
   "id": "9a86668a",
   "metadata": {},
   "source": [
    "<a id='back'></a>\n",
    "<h2><font face='Calibri' color=\"#001A56\" size=+3.0>\n",
    "    Índice.\n",
    "    </font></h2>"
   ]
  },
  {
   "cell_type": "markdown",
   "id": "3d34e8bb",
   "metadata": {},
   "source": [
    "<font face='Calibri' color=\"#001A56\" size=+0.8>\n",
    "    \n",
    "- [Introdução](#intro)\n",
    "    - [Objetivos](#obj)\n",
    "    - [Dados](#dados)\n",
    "* [Etapa 1. Visão geral dos dados](#data_review)\n",
    "    * [Conclusões](#data_review_conclusions)\n",
    "* [Etapa 2. Pré-processamento de dados](#data_preprocessing)\n",
    "    * [Estilo do cabeçalho](#header_style)\n",
    "    * [Valores ausentes](#missing_values)\n",
    "    * [Duplicatas](#duplicates)\n",
    "    * [Conclusões](#data_preprocessing_conclusions)\n",
    "* [Etapa 3. Testando as hipóteses](#hypotheses)\n",
    "    * [Hipótese 1: comparando o comportamento dos usuários em duas cidades](#activity)\n",
    "        * [Conclusões](#h1_conclusao)\n",
    "    * [Hipótese 2: música no começo e no fim da semana](#week)\n",
    "        * [Conclusões](#h2_conclusao)\n",
    "    * [Hipótese 3: preferências em Springfield e Shelbyville](#genre)\n",
    "        * [Conclusões](#h3_conclusao)\n",
    "* [Conclusão](#end)\n",
    "* [Fontes](#fontes)\n",
    "* [Contatos](#contato)   \n",
    " <hr>"
   ]
  },
  {
   "cell_type": "markdown",
   "id": "8f3fc528",
   "metadata": {},
   "source": [
    "<a id='intro'></a>\n",
    "<h2><font face='Calibri' color=\"#001A56\" size=+3.0>\n",
    "    Introdução\n",
    "    </font></h2> \n",
    "     <p>    \n",
    "<font face='Calibri' color=\"#001A56\" size=+0.8>\n",
    "Neste projeto iremos comparar as preferências musicais dos habitantes de Springfild e Shelbyville. Estudaremos os dados reais do Yandex.Music para testar as hipótese e comparar o comportamento do usuário para essas duas cidades.\n",
    "    </font>\n",
    "    \n",
    "<a id='obj'></a>    \n",
    "<h3><font face='Calibri' color=\"#013294\" size=+2.0>\n",
    "    Objetivos\n",
    "    </font></h3>\n",
    "    <p>\n",
    "    <font face='Calibri' color=\"#001A56\" size=+0.8>\n",
    "    Testar as seguintes hipóteses:\n",
    "<ol>\n",
    "<li> As atividades dos usuários são diferentes dependendo do dia da semana e da cidade. \n",
    "<li> Durante as manhãs de segundas-feiras, os moradores de Springfield e Shelbyville escutam diferentes gêneros. Isso também é verdadeiro para noites de sextas-feiras. \n",
    "<li> Os ouvintes de Springfield e Shelbyville têm diferentes preferências. Em Springfield, as pessoas preferem pop, enquanto Shelbyville tem mais fãs de rap.\n",
    "    </ol></font>\n",
    "    \n",
    "<a id='dados'></a>\n",
    "<h3><font face='Calibri' color=\"#013294\" size=+2.0>\n",
    "    Dados\n",
    "    </font></h3>\n",
    "    <p>\n",
    "<font face='Calibri' color=\"#001A56\" size=+0.8>    \n",
    "Os dados sobre o comportamento dos usuários estão armazenados no arquivo <code>music_project_en.csv</code>. Não há informação sobre a qualidade dos dados, então, precisaremos examiná-los antes de testar a hipótese.\n",
    "<p>\n",
    "\n",
    "    \n",
    "[Voltar ao Índice](#back)\n",
    "    \n",
    "<hr>"
   ]
  },
  {
   "cell_type": "markdown",
   "id": "d6c1b56c",
   "metadata": {},
   "source": [
    "<h2><font face='Calibri' color=\"#001A56\" size=+3.0>\n",
    "Etapa 1. Visão geral dos dados\n",
    "    </font></h2><a id='data_review'></a>\n",
    "<p>\n",
    "<font face='Calibri' color=\"#001A56\" size=+0.8>\n",
    "Importaremos os dados da Yandex.Music presentes no arquivo <code>music_project_en.csv</code> e iremos explorá-los. Para isso precisaremos da biblioteca Pandas que também será importada."
   ]
  },
  {
   "cell_type": "code",
   "execution_count": 30,
   "id": "901c158c",
   "metadata": {},
   "outputs": [],
   "source": [
    "# Importando a biblioteca Pandas\n",
    "import pandas as pd"
   ]
  },
  {
   "cell_type": "code",
   "execution_count": 31,
   "id": "5a946a8f",
   "metadata": {},
   "outputs": [
    {
     "data": {
      "text/html": [
       "<div>\n",
       "<style scoped>\n",
       "    .dataframe tbody tr th:only-of-type {\n",
       "        vertical-align: middle;\n",
       "    }\n",
       "\n",
       "    .dataframe tbody tr th {\n",
       "        vertical-align: top;\n",
       "    }\n",
       "\n",
       "    .dataframe thead th {\n",
       "        text-align: right;\n",
       "    }\n",
       "</style>\n",
       "<table border=\"1\" class=\"dataframe\">\n",
       "  <thead>\n",
       "    <tr style=\"text-align: right;\">\n",
       "      <th></th>\n",
       "      <th>userID</th>\n",
       "      <th>Track</th>\n",
       "      <th>artist</th>\n",
       "      <th>genre</th>\n",
       "      <th>City</th>\n",
       "      <th>time</th>\n",
       "      <th>Day</th>\n",
       "    </tr>\n",
       "  </thead>\n",
       "  <tbody>\n",
       "    <tr>\n",
       "      <th>0</th>\n",
       "      <td>FFB692EC</td>\n",
       "      <td>Kamigata To Boots</td>\n",
       "      <td>The Mass Missile</td>\n",
       "      <td>rock</td>\n",
       "      <td>Shelbyville</td>\n",
       "      <td>20:28:33</td>\n",
       "      <td>Wednesday</td>\n",
       "    </tr>\n",
       "    <tr>\n",
       "      <th>1</th>\n",
       "      <td>55204538</td>\n",
       "      <td>Delayed Because of Accident</td>\n",
       "      <td>Andreas Rönnberg</td>\n",
       "      <td>rock</td>\n",
       "      <td>Springfield</td>\n",
       "      <td>14:07:09</td>\n",
       "      <td>Friday</td>\n",
       "    </tr>\n",
       "    <tr>\n",
       "      <th>2</th>\n",
       "      <td>20EC38</td>\n",
       "      <td>Funiculì funiculà</td>\n",
       "      <td>Mario Lanza</td>\n",
       "      <td>pop</td>\n",
       "      <td>Shelbyville</td>\n",
       "      <td>20:58:07</td>\n",
       "      <td>Wednesday</td>\n",
       "    </tr>\n",
       "    <tr>\n",
       "      <th>3</th>\n",
       "      <td>A3DD03C9</td>\n",
       "      <td>Dragons in the Sunset</td>\n",
       "      <td>Fire + Ice</td>\n",
       "      <td>folk</td>\n",
       "      <td>Shelbyville</td>\n",
       "      <td>08:37:09</td>\n",
       "      <td>Monday</td>\n",
       "    </tr>\n",
       "    <tr>\n",
       "      <th>4</th>\n",
       "      <td>E2DC1FAE</td>\n",
       "      <td>Soul People</td>\n",
       "      <td>Space Echo</td>\n",
       "      <td>dance</td>\n",
       "      <td>Springfield</td>\n",
       "      <td>08:34:34</td>\n",
       "      <td>Monday</td>\n",
       "    </tr>\n",
       "  </tbody>\n",
       "</table>\n",
       "</div>"
      ],
      "text/plain": [
       "     userID                        Track            artist  genre  \\\n",
       "0  FFB692EC            Kamigata To Boots  The Mass Missile   rock   \n",
       "1  55204538  Delayed Because of Accident  Andreas Rönnberg   rock   \n",
       "2    20EC38            Funiculì funiculà       Mario Lanza    pop   \n",
       "3  A3DD03C9        Dragons in the Sunset        Fire + Ice   folk   \n",
       "4  E2DC1FAE                  Soul People        Space Echo  dance   \n",
       "\n",
       "        City        time        Day  \n",
       "0  Shelbyville  20:28:33  Wednesday  \n",
       "1  Springfield  14:07:09     Friday  \n",
       "2  Shelbyville  20:58:07  Wednesday  \n",
       "3  Shelbyville  08:37:09     Monday  \n",
       "4  Springfield  08:34:34     Monday  "
      ]
     },
     "execution_count": 31,
     "metadata": {},
     "output_type": "execute_result"
    }
   ],
   "source": [
    "# Importando os dados\n",
    "df = pd.read_csv('Datasets_Practicum\\music_project_en.csv')\n",
    "\n",
    "# Exibindo as primeiras linhas da tabela\n",
    "df.head()"
   ]
  },
  {
   "cell_type": "markdown",
   "id": "a543f7b1",
   "metadata": {},
   "source": [
    "<font face='Calibri' color=\"#001A56\" size=+0.8>\n",
    "Obtendo as informações gerais sobre a tabela. "
   ]
  },
  {
   "cell_type": "code",
   "execution_count": 32,
   "id": "3f5354f5",
   "metadata": {},
   "outputs": [
    {
     "name": "stdout",
     "output_type": "stream",
     "text": [
      "<class 'pandas.core.frame.DataFrame'>\n",
      "RangeIndex: 65079 entries, 0 to 65078\n",
      "Data columns (total 7 columns):\n",
      " #   Column    Non-Null Count  Dtype \n",
      "---  ------    --------------  ----- \n",
      " 0     userID  65079 non-null  object\n",
      " 1   Track     63736 non-null  object\n",
      " 2   artist    57512 non-null  object\n",
      " 3   genre     63881 non-null  object\n",
      " 4     City    65079 non-null  object\n",
      " 5   time      65079 non-null  object\n",
      " 6   Day       65079 non-null  object\n",
      "dtypes: object(7)\n",
      "memory usage: 3.5+ MB\n"
     ]
    }
   ],
   "source": [
    "df.info()"
   ]
  },
  {
   "cell_type": "markdown",
   "id": "e02eb65b",
   "metadata": {},
   "source": [
    "<font face='Calibri' color=\"#001A56\" size=+0.8>\n",
    "Obtendo a descrição dos dados das colunas da tabela. "
   ]
  },
  {
   "cell_type": "code",
   "execution_count": 33,
   "id": "626137b3",
   "metadata": {},
   "outputs": [
    {
     "data": {
      "text/html": [
       "<div>\n",
       "<style scoped>\n",
       "    .dataframe tbody tr th:only-of-type {\n",
       "        vertical-align: middle;\n",
       "    }\n",
       "\n",
       "    .dataframe tbody tr th {\n",
       "        vertical-align: top;\n",
       "    }\n",
       "\n",
       "    .dataframe thead th {\n",
       "        text-align: right;\n",
       "    }\n",
       "</style>\n",
       "<table border=\"1\" class=\"dataframe\">\n",
       "  <thead>\n",
       "    <tr style=\"text-align: right;\">\n",
       "      <th></th>\n",
       "      <th>userID</th>\n",
       "      <th>Track</th>\n",
       "      <th>artist</th>\n",
       "      <th>genre</th>\n",
       "      <th>City</th>\n",
       "      <th>time</th>\n",
       "      <th>Day</th>\n",
       "    </tr>\n",
       "  </thead>\n",
       "  <tbody>\n",
       "    <tr>\n",
       "      <th>count</th>\n",
       "      <td>65079</td>\n",
       "      <td>63736</td>\n",
       "      <td>57512</td>\n",
       "      <td>63881</td>\n",
       "      <td>65079</td>\n",
       "      <td>65079</td>\n",
       "      <td>65079</td>\n",
       "    </tr>\n",
       "    <tr>\n",
       "      <th>unique</th>\n",
       "      <td>41748</td>\n",
       "      <td>39666</td>\n",
       "      <td>37806</td>\n",
       "      <td>268</td>\n",
       "      <td>2</td>\n",
       "      <td>20392</td>\n",
       "      <td>3</td>\n",
       "    </tr>\n",
       "    <tr>\n",
       "      <th>top</th>\n",
       "      <td>A8AE9169</td>\n",
       "      <td>Brand</td>\n",
       "      <td>Kartvelli</td>\n",
       "      <td>pop</td>\n",
       "      <td>Springfield</td>\n",
       "      <td>08:14:07</td>\n",
       "      <td>Friday</td>\n",
       "    </tr>\n",
       "    <tr>\n",
       "      <th>freq</th>\n",
       "      <td>76</td>\n",
       "      <td>136</td>\n",
       "      <td>136</td>\n",
       "      <td>8850</td>\n",
       "      <td>45360</td>\n",
       "      <td>14</td>\n",
       "      <td>23149</td>\n",
       "    </tr>\n",
       "  </tbody>\n",
       "</table>\n",
       "</div>"
      ],
      "text/plain": [
       "          userID  Track     artist  genre       City        time     Day\n",
       "count      65079  63736      57512  63881        65079     65079   65079\n",
       "unique     41748  39666      37806    268            2     20392       3\n",
       "top     A8AE9169  Brand  Kartvelli    pop  Springfield  08:14:07  Friday\n",
       "freq          76    136        136   8850        45360        14   23149"
      ]
     },
     "execution_count": 33,
     "metadata": {},
     "output_type": "execute_result"
    }
   ],
   "source": [
    "df.describe()"
   ]
  },
  {
   "cell_type": "markdown",
   "id": "d4fde20f",
   "metadata": {},
   "source": [
    "<font face='Calibri' color=\"#001A56\" size=+0.8>\n",
    "A tabela contém sete colunas. Elas armazenam o mesmo tipo de dado: \"objetos\".\n",
    "<p>    \n",
    "A informação que cada uma das colunas armazenam são:\n",
    "    <lu>\n",
    "    <li><code>userID</code> — identificação do usuário.\n",
    "    <li><code>Track</code> — título da música.\n",
    "<li><code>artist</code> — nome do artista.\n",
    "<li><code>genre</code> — o gênero.\n",
    "<li><code>City</code> — cidade do usuário.\n",
    "<li><code>time</code> — tempo exato que a música foi tocada.\n",
    "<li><code>Day</code> — dia da semana.\n",
    "\n",
    "Nós podemos ver três problemas com os nomes das colunas:\n",
    "1. Alguns nomes estão com letra maiúscula, alguns com letra minúscula.\n",
    "2. Há espaços em alguns nomes.\n",
    "3. Há nomes composto por mais de uma palavra que não estão separadas por underline(code>_), o correto seria <code>user_id</code>.\n",
    "\n",
    "A quantidade de valores das colunas é diferente. Isso significa que os dados contém valores ausentes."
   ]
  },
  {
   "cell_type": "markdown",
   "id": "2c4a9e18",
   "metadata": {},
   "source": [
    "<a id='data_review_conclusions'></a> \n",
    "<h3><font face='Calibri' color=\"#013294\" size=+2.0>\n",
    "    Conclusões\n",
    "    </font></h3><a id='dados'></a><p> \n",
    "    \n",
    "<font face='Calibri' color=\"#001A56\" size=+0.8>\n",
    "Cada linha na tabela armazena dados sobre uma música que foi tocada. Algumas colunas descrevem a música por si só: seu título, artista e gênero. O restante contém informações sobre o usuário: a cidade de onde eles vêm, a quantidade de vezes que a música foi tocada. \n",
    "\n",
    "Está claro que os dados são suficientes para testar as hipóteses. Entretanto, há valores ausentes.\n",
    "\n",
    "Para seguir adiante, precisamos pré-processar os dados.\n",
    "    \n",
    "[Voltar ao Índice](#back)\n",
    "    \n",
    "<hr>"
   ]
  },
  {
   "cell_type": "markdown",
   "id": "9bdbfb38",
   "metadata": {},
   "source": [
    "<a id='data_preprocessing'></a>\n",
    "<h2><font face='Calibri' color=\"#001A56\" size=+3.0>\n",
    "Etapa 2. Pré-processar dados\n",
    "    </font></h2>\n",
    "<p>\n",
    "<font face='Calibri' color=\"#001A56\" size=+0.8> \n",
    "Iremos corrigir a formatação no cabeçalho da coluna e também trataremos dos valores ausentes. Depois, verificaremos se há a presenã de dados duplicados."
   ]
  },
  {
   "cell_type": "markdown",
   "id": "fc35d159",
   "metadata": {},
   "source": [
    "<a id='header_style'></a>\n",
    "<h3><font face='Calibri' color=\"#013294\" size=+2.0>\n",
    "Estilo do cabeçalho \n",
    "    </font></h3>\n",
    "<p>\n",
    "<font face='Calibri' color=\"#001A56\" size=+0.8> \n",
    "Exibiremos os nomes das colunas:"
   ]
  },
  {
   "cell_type": "code",
   "execution_count": 34,
   "id": "f53970d3",
   "metadata": {},
   "outputs": [
    {
     "data": {
      "text/plain": [
       "Index(['  userID', 'Track', 'artist', 'genre', '  City  ', 'time', 'Day'], dtype='object')"
      ]
     },
     "execution_count": 34,
     "metadata": {},
     "output_type": "execute_result"
    }
   ],
   "source": [
    "df.columns"
   ]
  },
  {
   "cell_type": "markdown",
   "id": "90125f7b",
   "metadata": {},
   "source": [
    "<font face='Calibri' color=\"#001A56\" size=+0.8> \n",
    "Mudaremos os nomes das colunas de acordo com as regras da boa prática de estilo:\n",
    "<lu>\n",
    "<li>Se o nome tiver várias palavras, use snake_case.\n",
    "<li>Todos os caracteres precisam estar com letras minúsculas.\n",
    "<li>Deletar espaços.\n",
    "    </lu>"
   ]
  },
  {
   "cell_type": "code",
   "execution_count": 35,
   "id": "5de1efb1",
   "metadata": {},
   "outputs": [
    {
     "data": {
      "text/plain": [
       "Index(['user_id', 'track', 'artist', 'genre', 'city', 'time', 'day'], dtype='object')"
      ]
     },
     "execution_count": 35,
     "metadata": {},
     "output_type": "execute_result"
    }
   ],
   "source": [
    "# Renomeando as colunas\n",
    "df = df.rename(columns={'  userID': 'user_id',\n",
    "                        'Track': 'track',\n",
    "                        'artist': 'artist',\n",
    "                        'genre': 'genre',\n",
    "                        '  City  ': 'city',\n",
    "                        'time': 'time',\n",
    "                        'Day': 'day'})\n",
    "\n",
    "# Exibindo os nomes das colunas novamente\n",
    "df.columns"
   ]
  },
  {
   "cell_type": "markdown",
   "id": "5ebd9235",
   "metadata": {},
   "source": [
    "<a id='missing_values'></a>\n",
    "<h3><font face='Calibri' color=\"#013294\" size=+2.0>\n",
    "Valores ausentes\n",
    "    </font></h3>\n",
    "<p>\n",
    "<font face='Calibri' color=\"#001A56\" size=+0.8> \n",
    "Agora encontraremos a quantidade de valores ausentes na tabela. Para fazer isso usaremos dois métodos pandas:"
   ]
  },
  {
   "cell_type": "code",
   "execution_count": 36,
   "id": "cca0fb6d",
   "metadata": {},
   "outputs": [
    {
     "data": {
      "text/plain": [
       "user_id       0\n",
       "track      1343\n",
       "artist     7567\n",
       "genre      1198\n",
       "city          0\n",
       "time          0\n",
       "day           0\n",
       "dtype: int64"
      ]
     },
     "execution_count": 36,
     "metadata": {},
     "output_type": "execute_result"
    }
   ],
   "source": [
    "# Utilizando método .isna() e .sum().\n",
    "df.isna().sum()"
   ]
  },
  {
   "cell_type": "markdown",
   "id": "c5fa6878",
   "metadata": {},
   "source": [
    "<font face='Calibri' color=\"#001A56\" size=+0.8> \n",
    "Nem todos os valores ausentes afetam a pesquisa. Por exemplo, os valores ausentes nas músicas e artistas não são decisivos. Podemos simplesmente substituí-los por marcadores claros (como \"desconhecido\").\n",
    "\n",
    "Mas valores ausentes em <code>genre</code> pode afetar a comparação de preferências musicais de Springfield e Shelbyville. Na vida real, seria útil descobrir as razões pelas quais os dados estão ausentes e tentar compensá-los. Mas nós não temos essa possibilidade neste projeto. Então, faremos o seguinte:\n",
    "<lu>\n",
    "<li>Preencheremos os valores ausentes com marcadores \"unknown\".\n",
    "<li>Avaliaremos o quanto os valores ausentes podem afetar os nossos cálculos."
   ]
  },
  {
   "cell_type": "code",
   "execution_count": 37,
   "id": "a3e8d78d",
   "metadata": {},
   "outputs": [],
   "source": [
    "# Selecionando as colunas com valores ausentes.\n",
    "columns_to_replace = ['track', 'artist', 'genre']\n",
    "\n",
    "# Realizando a substituição com um loop for.\n",
    "for coluna in columns_to_replace:\n",
    "    df['track'] = df['track'].fillna('unknown')\n",
    "    df['artist'] = df['artist'].fillna('unknown')\n",
    "    df['genre'] = df['genre'].fillna('unknown')"
   ]
  },
  {
   "cell_type": "markdown",
   "id": "ab9b86c6",
   "metadata": {},
   "source": [
    "<font face='Calibri' color=\"#001A56\" size=+0.8> \n",
    "Iremos contar os valores ausentes novamente para nos certificarmos que foram eliminados."
   ]
  },
  {
   "cell_type": "code",
   "execution_count": 38,
   "id": "dd879388",
   "metadata": {},
   "outputs": [
    {
     "data": {
      "text/plain": [
       "user_id    0\n",
       "track      0\n",
       "artist     0\n",
       "genre      0\n",
       "city       0\n",
       "time       0\n",
       "day        0\n",
       "dtype: int64"
      ]
     },
     "execution_count": 38,
     "metadata": {},
     "output_type": "execute_result"
    }
   ],
   "source": [
    "df.isna().sum()"
   ]
  },
  {
   "cell_type": "markdown",
   "id": "561e1274",
   "metadata": {},
   "source": [
    "<a id='duplicates'></a>\n",
    "<h2><font face='Calibri' color=\"#013294\" size=+2.0>\n",
    "Duplicatas\n",
    "        </font></h2>\n",
    "<p>\n",
    "<font face='Calibri' color=\"#001A56\" size=+0.8> \n",
    "Encontraremos o número de duplicatas óbvias na tabela usando o seguinte comando"
   ]
  },
  {
   "cell_type": "code",
   "execution_count": 39,
   "id": "f14f69c2",
   "metadata": {},
   "outputs": [
    {
     "data": {
      "text/plain": [
       "3826"
      ]
     },
     "execution_count": 39,
     "metadata": {},
     "output_type": "execute_result"
    }
   ],
   "source": [
    "df.duplicated().sum()"
   ]
  },
  {
   "cell_type": "markdown",
   "id": "1cd521c0",
   "metadata": {},
   "source": [
    "<font face='Calibri' color=\"#001A56\" size=+0.8> \n",
    "Chamaremos um método da biblioteca Pandas para nos livrar das duplicatas óbvias"
   ]
  },
  {
   "cell_type": "code",
   "execution_count": 40,
   "id": "04fce169",
   "metadata": {},
   "outputs": [],
   "source": [
    "df = df.drop_duplicates().reset_index(drop=True)"
   ]
  },
  {
   "cell_type": "markdown",
   "id": "d0e0b326",
   "metadata": {},
   "source": [
    "<font face='Calibri' color=\"#001A56\" size=+0.8> \n",
    "Contaremos as duplicatas óbvias mais uma vez para nos certificar-que todas elas foram removidas"
   ]
  },
  {
   "cell_type": "code",
   "execution_count": 41,
   "id": "aa070c1d",
   "metadata": {},
   "outputs": [
    {
     "data": {
      "text/plain": [
       "0"
      ]
     },
     "execution_count": 41,
     "metadata": {},
     "output_type": "execute_result"
    }
   ],
   "source": [
    "df.duplicated().sum()"
   ]
  },
  {
   "cell_type": "markdown",
   "id": "d811d8f0",
   "metadata": {},
   "source": [
    "<font face='Calibri' color=\"#001A56\" size=+0.8> \n",
    "Agora, nos livraremos das duplicatas implícitas na coluna <code>genre</code>. Por exemplo, o nome de um gênero pode ser escrito de maneiras diferentes. Alguns erros afetarão também o resultado.\n",
    "<p>\n",
    "Exibiremos a lista de nomes de gêneros únicos, organizados em ordem alfabética. Para fazer isso:\n",
    "    <lu>\n",
    "    <li>Recuperaremos o DataFrame da coluna pretendida.\n",
    "    <li>Aplicaremos um método de escolha para isso.\n",
    "    <li>Para a coluna <code>genre</code>, chamaremos um método que irá retornar todos os valores únicos das colunas."
   ]
  },
  {
   "cell_type": "code",
   "execution_count": 42,
   "id": "4caad3bf",
   "metadata": {},
   "outputs": [
    {
     "data": {
      "text/plain": [
       "array(['acid', 'acoustic', 'action', 'adult', 'africa', 'afrikaans',\n",
       "       'alternative', 'ambient', 'americana', 'animated', 'anime',\n",
       "       'arabesk', 'arabic', 'arena', 'argentinetango', 'art', 'audiobook',\n",
       "       'avantgarde', 'axé', 'baile', 'balkan', 'beats', 'bigroom',\n",
       "       'black', 'bluegrass', 'blues', 'bollywood', 'bossa', 'brazilian',\n",
       "       'breakbeat', 'breaks', 'broadway', 'cantautori', 'cantopop',\n",
       "       'canzone', 'caribbean', 'caucasian', 'celtic', 'chamber',\n",
       "       'children', 'chill', 'chinese', 'choral', 'christian', 'christmas',\n",
       "       'classical', 'classicmetal', 'club', 'colombian', 'comedy',\n",
       "       'conjazz', 'contemporary', 'country', 'cuban', 'dance',\n",
       "       'dancehall', 'dancepop', 'dark', 'death', 'deep', 'deutschrock',\n",
       "       'deutschspr', 'dirty', 'disco', 'dnb', 'documentary', 'downbeat',\n",
       "       'downtempo', 'drum', 'dub', 'dubstep', 'eastern', 'easy',\n",
       "       'electronic', 'electropop', 'emo', 'entehno', 'epicmetal',\n",
       "       'estrada', 'ethnic', 'eurofolk', 'european', 'experimental',\n",
       "       'extrememetal', 'fado', 'film', 'fitness', 'flamenco', 'folk',\n",
       "       'folklore', 'folkmetal', 'folkrock', 'folktronica', 'forró',\n",
       "       'frankreich', 'französisch', 'french', 'funk', 'future', 'gangsta',\n",
       "       'garage', 'german', 'ghazal', 'gitarre', 'glitch', 'gospel',\n",
       "       'gothic', 'grime', 'grunge', 'gypsy', 'handsup', \"hard'n'heavy\",\n",
       "       'hardcore', 'hardstyle', 'hardtechno', 'hip', 'hip-hop', 'hiphop',\n",
       "       'historisch', 'holiday', 'hop', 'horror', 'house', 'idm',\n",
       "       'independent', 'indian', 'indie', 'indipop', 'industrial',\n",
       "       'inspirational', 'instrumental', 'international', 'irish', 'jam',\n",
       "       'japanese', 'jazz', 'jewish', 'jpop', 'jungle', 'k-pop',\n",
       "       'karadeniz', 'karaoke', 'kayokyoku', 'korean', 'laiko', 'latin',\n",
       "       'latino', 'leftfield', 'local', 'lounge', 'loungeelectronic',\n",
       "       'lovers', 'malaysian', 'mandopop', 'marschmusik', 'meditative',\n",
       "       'mediterranean', 'melodic', 'metal', 'metalcore', 'mexican',\n",
       "       'middle', 'minimal', 'miscellaneous', 'modern', 'mood', 'mpb',\n",
       "       'muslim', 'native', 'neoklassik', 'neue', 'new', 'newage',\n",
       "       'newwave', 'nu', 'nujazz', 'numetal', 'oceania', 'old', 'opera',\n",
       "       'orchestral', 'other', 'piano', 'pop', 'popelectronic',\n",
       "       'popeurodance', 'post', 'posthardcore', 'postrock', 'power',\n",
       "       'progmetal', 'progressive', 'psychedelic', 'punjabi', 'punk',\n",
       "       'quebecois', 'ragga', 'ram', 'rancheras', 'rap', 'rave', 'reggae',\n",
       "       'reggaeton', 'regional', 'relax', 'religious', 'retro', 'rhythm',\n",
       "       'rnb', 'rnr', 'rock', 'rockabilly', 'romance', 'roots', 'ruspop',\n",
       "       'rusrap', 'rusrock', 'salsa', 'samba', 'schlager', 'self',\n",
       "       'sertanejo', 'shoegazing', 'showtunes', 'singer', 'ska', 'slow',\n",
       "       'smooth', 'soul', 'soulful', 'sound', 'soundtrack', 'southern',\n",
       "       'specialty', 'speech', 'spiritual', 'sport', 'stonerrock', 'surf',\n",
       "       'swing', 'synthpop', 'sängerportrait', 'tango', 'tanzorchester',\n",
       "       'taraftar', 'tech', 'techno', 'thrash', 'top', 'traditional',\n",
       "       'tradjazz', 'trance', 'tribal', 'trip', 'triphop', 'tropical',\n",
       "       'türk', 'türkçe', 'unknown', 'urban', 'uzbek', 'variété', 'vi',\n",
       "       'videogame', 'vocal', 'western', 'world', 'worldbeat', 'ïîï'],\n",
       "      dtype=object)"
      ]
     },
     "execution_count": 42,
     "metadata": {},
     "output_type": "execute_result"
    }
   ],
   "source": [
    "df.sort_values(by='genre')['genre'].unique()"
   ]
  },
  {
   "cell_type": "markdown",
   "id": "a3e032fb",
   "metadata": {},
   "source": [
    "<font face='Calibri' color=\"#001A56\" size=+0.8>\n",
    "    Olhando a lista encontramos duplicatas implícitas do gênero <code>hiphop</code>. Esses são nomes escritos incorretamente, ou nomes alternativos para o mesmo gênero.\n",
    "\n",
    "Podemos observar as seguintes duplicatas implícitas:\n",
    "* `hip`\n",
    "* `hop`\n",
    "* `hip-hop`\n",
    "\n",
    "Para se livrar deles, declare a função `replace_wrong_genres()` com dois parâmetros: \n",
    "* `wrong_genres` — a lista de duplicatas\n",
    "* `correct_genre` — a string com o valor correto\n",
    "\n",
    "A função deve corrigir os nomes na coluna `genre` da tabela `df` isto é, substituindo cada valor da lista `wrong_genres` por valores de `correct_genre`."
   ]
  },
  {
   "cell_type": "code",
   "execution_count": 43,
   "id": "86c3475b",
   "metadata": {},
   "outputs": [],
   "source": [
    "# Criando a função\n",
    "def replace_wrong_genres(wrong_genres, correct_genres):\n",
    "    df['genre'] = df['genre'].replace(wrong_genres, correct_genres)"
   ]
  },
  {
   "cell_type": "code",
   "execution_count": 44,
   "id": "d5a97e5a",
   "metadata": {},
   "outputs": [],
   "source": [
    "# Aplicando a função.\n",
    "wrong_genres = ['hip', 'hop', 'hip-hop']\n",
    "correct_genres = 'hiphop'\n",
    "\n",
    "for genres in df:\n",
    "    replace_wrong_genres(wrong_genres, correct_genres)\n",
    "    \n",
    "replace_wrong_genres(wrong_genres, correct_genres)"
   ]
  },
  {
   "cell_type": "markdown",
   "id": "f4fee04f",
   "metadata": {},
   "source": [
    "<font face='Calibri' color=\"#001A56\" size=+0.8>\n",
    "Nos certificaremos que os nomes duplicados foram removidos. Exibiremos a lista de valores únicos da coluna"
   ]
  },
  {
   "cell_type": "code",
   "execution_count": 45,
   "id": "cf876331",
   "metadata": {},
   "outputs": [
    {
     "data": {
      "text/plain": [
       "array(['acid', 'acoustic', 'action', 'adult', 'africa', 'afrikaans',\n",
       "       'alternative', 'ambient', 'americana', 'animated', 'anime',\n",
       "       'arabesk', 'arabic', 'arena', 'argentinetango', 'art', 'audiobook',\n",
       "       'avantgarde', 'axé', 'baile', 'balkan', 'beats', 'bigroom',\n",
       "       'black', 'bluegrass', 'blues', 'bollywood', 'bossa', 'brazilian',\n",
       "       'breakbeat', 'breaks', 'broadway', 'cantautori', 'cantopop',\n",
       "       'canzone', 'caribbean', 'caucasian', 'celtic', 'chamber',\n",
       "       'children', 'chill', 'chinese', 'choral', 'christian', 'christmas',\n",
       "       'classical', 'classicmetal', 'club', 'colombian', 'comedy',\n",
       "       'conjazz', 'contemporary', 'country', 'cuban', 'dance',\n",
       "       'dancehall', 'dancepop', 'dark', 'death', 'deep', 'deutschrock',\n",
       "       'deutschspr', 'dirty', 'disco', 'dnb', 'documentary', 'downbeat',\n",
       "       'downtempo', 'drum', 'dub', 'dubstep', 'eastern', 'easy',\n",
       "       'electronic', 'electropop', 'emo', 'entehno', 'epicmetal',\n",
       "       'estrada', 'ethnic', 'eurofolk', 'european', 'experimental',\n",
       "       'extrememetal', 'fado', 'film', 'fitness', 'flamenco', 'folk',\n",
       "       'folklore', 'folkmetal', 'folkrock', 'folktronica', 'forró',\n",
       "       'frankreich', 'französisch', 'french', 'funk', 'future', 'gangsta',\n",
       "       'garage', 'german', 'ghazal', 'gitarre', 'glitch', 'gospel',\n",
       "       'gothic', 'grime', 'grunge', 'gypsy', 'handsup', \"hard'n'heavy\",\n",
       "       'hardcore', 'hardstyle', 'hardtechno', 'hiphop', 'historisch',\n",
       "       'holiday', 'horror', 'house', 'idm', 'independent', 'indian',\n",
       "       'indie', 'indipop', 'industrial', 'inspirational', 'instrumental',\n",
       "       'international', 'irish', 'jam', 'japanese', 'jazz', 'jewish',\n",
       "       'jpop', 'jungle', 'k-pop', 'karadeniz', 'karaoke', 'kayokyoku',\n",
       "       'korean', 'laiko', 'latin', 'latino', 'leftfield', 'local',\n",
       "       'lounge', 'loungeelectronic', 'lovers', 'malaysian', 'mandopop',\n",
       "       'marschmusik', 'meditative', 'mediterranean', 'melodic', 'metal',\n",
       "       'metalcore', 'mexican', 'middle', 'minimal', 'miscellaneous',\n",
       "       'modern', 'mood', 'mpb', 'muslim', 'native', 'neoklassik', 'neue',\n",
       "       'new', 'newage', 'newwave', 'nu', 'nujazz', 'numetal', 'oceania',\n",
       "       'old', 'opera', 'orchestral', 'other', 'piano', 'pop',\n",
       "       'popelectronic', 'popeurodance', 'post', 'posthardcore',\n",
       "       'postrock', 'power', 'progmetal', 'progressive', 'psychedelic',\n",
       "       'punjabi', 'punk', 'quebecois', 'ragga', 'ram', 'rancheras', 'rap',\n",
       "       'rave', 'reggae', 'reggaeton', 'regional', 'relax', 'religious',\n",
       "       'retro', 'rhythm', 'rnb', 'rnr', 'rock', 'rockabilly', 'romance',\n",
       "       'roots', 'ruspop', 'rusrap', 'rusrock', 'salsa', 'samba',\n",
       "       'schlager', 'self', 'sertanejo', 'shoegazing', 'showtunes',\n",
       "       'singer', 'ska', 'slow', 'smooth', 'soul', 'soulful', 'sound',\n",
       "       'soundtrack', 'southern', 'specialty', 'speech', 'spiritual',\n",
       "       'sport', 'stonerrock', 'surf', 'swing', 'synthpop',\n",
       "       'sängerportrait', 'tango', 'tanzorchester', 'taraftar', 'tech',\n",
       "       'techno', 'thrash', 'top', 'traditional', 'tradjazz', 'trance',\n",
       "       'tribal', 'trip', 'triphop', 'tropical', 'türk', 'türkçe',\n",
       "       'unknown', 'urban', 'uzbek', 'variété', 'vi', 'videogame', 'vocal',\n",
       "       'western', 'world', 'worldbeat', 'ïîï'], dtype=object)"
      ]
     },
     "execution_count": 45,
     "metadata": {},
     "output_type": "execute_result"
    }
   ],
   "source": [
    "df.sort_values(by='genre')['genre'].unique()"
   ]
  },
  {
   "cell_type": "markdown",
   "id": "60d4079b",
   "metadata": {},
   "source": [
    "<font face='Calibri' color=\"#001A56\" size=+0.8>\n",
    "    \n",
    "[Voltar ao Índice](#back)"
   ]
  },
  {
   "cell_type": "markdown",
   "id": "060daf7f",
   "metadata": {},
   "source": [
    "<a id='data_preprocessing_conclusions'></a>\n",
    "<h3><font face='Calibri' color=\"#013294\" size=+2.0>\n",
    "Conclusões \n",
    "        </font></h3>\n",
    "<p>\n",
    "<font face='Calibri' color=\"#001A56\" size=+0.8> \n",
    "Nós detectamos três problemas com os dados:\n",
    "\n",
    "- Estilo de cabeçalho incorreto.\n",
    "- Valores ausentes.\n",
    "- Duplicatas óbvias e implícitas.\n",
    "\n",
    "O cabeçalho foi limpo para fazer o processamento da tabela mais simples.\n",
    "\n",
    "Todos os valores ausentes foram substituídos por `unknown`. Mas nós ainda temos que ver os se valores ausentes em `genre` afetará os nossos cálculos.\n",
    "\n",
    "A ausência de duplicatas deixará os resultados mais precisos e mais fáceis de entender.\n",
    "\n",
    "Agora testaremos as hipóteses anteriomente mencionadas.\n",
    "\n",
    "[Voltar ao Índice](#back)\n",
    "    \n",
    "<hr>"
   ]
  },
  {
   "cell_type": "markdown",
   "id": "292b0a92",
   "metadata": {},
   "source": [
    "<a id='hypotheses'></a>\n",
    "<h2><font face='Calibri' color=\"#001A56\" size=+3.0>\n",
    "Etapa 3. Testando hipóteses\n",
    "    </font></h2>\n",
    "    <p>\n",
    "    \n",
    "<a id='activity'></a>\n",
    "<h3><font face='Calibri' color=\"#013294\" size=+2.0>\n",
    "Hipótese 1: comparando o comportamento dos usuários em duas cidades\n",
    "    </font></h3>\n",
    "<p>\n",
    "<font face='Calibri' color=\"#001A56\" size=+0.8> \n",
    "De acordo com a primeira hipótese, usuários de Springfield and Shelbyville escutam música de forma diferente. Testaremos essa hipótese usando os dados de três dias da semana: segunda-feira, quarta-feira, e sexta-feira.\n",
    "<ol>\n",
    "<li>Dividiremos os usuários de cada cidade em grupos.\n",
    "<li>Compararemos quantas músicas cada grupo escutou na segunda-feira, quarta-feira e sexta-feira.\n",
    "    </ol>"
   ]
  },
  {
   "cell_type": "code",
   "execution_count": 47,
   "id": "6c958bf7",
   "metadata": {},
   "outputs": [
    {
     "data": {
      "text/plain": [
       "city\n",
       "Shelbyville    18512\n",
       "Springfield    42741\n",
       "Name: track, dtype: int64"
      ]
     },
     "execution_count": 47,
     "metadata": {},
     "output_type": "execute_result"
    }
   ],
   "source": [
    "# Agrupando os usuários por cidade.\n",
    "users_cities = df.groupby('city')['track'].count()\n",
    "\n",
    "# Exibindo a contagem de músicas por cidade.\n",
    "users_cities"
   ]
  },
  {
   "cell_type": "markdown",
   "id": "e5ecb4d6",
   "metadata": {},
   "source": [
    "<font face='Calibri' color=\"#001A56\" size=+0.8> \n",
    "Springfield tem mais músicas tocadas do que Shelbyville. Mas isso não quer dizer que os cidadãos de Springfield escutem música com mais frequência. Essa cidade é somente maior, e tem mais usuários.\n",
    "<p>   \n",
    "<p>\n",
    "Agora agruparemos os dados por dia da semana e encontraremos a quantidade de músicas tocadas na segunda, quarta e sexta-feira."
   ]
  },
  {
   "cell_type": "code",
   "execution_count": 48,
   "id": "25b20841",
   "metadata": {},
   "outputs": [
    {
     "data": {
      "text/plain": [
       "day\n",
       "Friday       21840\n",
       "Monday       21354\n",
       "Wednesday    18059\n",
       "Name: track, dtype: int64"
      ]
     },
     "execution_count": 48,
     "metadata": {},
     "output_type": "execute_result"
    }
   ],
   "source": [
    "# Agrupando os dados por dia.\n",
    "users_days = df.groupby('day')['track'].count()\n",
    "\n",
    "# Exibindo a contagem de musicas por dia.\n",
    "users_days"
   ]
  },
  {
   "cell_type": "markdown",
   "id": "7077f94f",
   "metadata": {},
   "source": [
    "<font face='Calibri' color=\"#001A56\" size=+0.8> \n",
    "Quarta-feira é o dia mais calmo em geral. Mas se considerarmos as duas cidades separadamente, devemos chegar a uma conclusão diferente.\n",
    "    <p>\n",
    "        Vimos como agrupar por cidade ou dia da semana funciona. Agora escreveremos a função que agrupa os dados pelos dois critérios.\n",
    "\n",
    "Criaremos a função `number_tracks()` para calcular o número de músicas tocadas em um determinado dia da semana e em cada cidade. Serão necessários dois parâmetros:\n",
    "* dia da semana.\n",
    "* nome da cidade.\n",
    "\n",
    "Na função, usaremos a variável para armazenar as linhas da tabela original, onde:\n",
    "  * `day`: o valor da coluna day é igual ao parâmetro dia.\n",
    "  * `city`: o valor da coluna city é igual ao parâmetro cidade.\n",
    "\n",
    "Aplicaremos filtros consecutivos com indexação lógica.\n",
    "\n",
    "Depois, calcularemos os valores da coluna `user_id` na tabela resultante. Armazenaremos o resultado na nova variável."
   ]
  },
  {
   "cell_type": "code",
   "execution_count": 49,
   "id": "beaa8595",
   "metadata": {},
   "outputs": [],
   "source": [
    "def number_tracks (day, city):\n",
    "    track_list = df[df['day'] == day]\n",
    "    track_list = track_list[track_list['city'] == city]\n",
    "    track_list_count = track_list['user_id'].count()\n",
    "    return track_list_count"
   ]
  },
  {
   "cell_type": "markdown",
   "id": "f0a5d8cb",
   "metadata": {},
   "source": [
    "<font face='Calibri' color=\"#001A56\" size=+0.8>\n",
    "Chamaremos a função <code>number_tracks()</code> seis vezes, mudando os valores dos parâmetros, para recuperamos os dados de ambas as cidades para os três dias."
   ]
  },
  {
   "cell_type": "code",
   "execution_count": 50,
   "id": "c958b0c2",
   "metadata": {},
   "outputs": [],
   "source": [
    "mon_spr = number_tracks ('Monday', 'Springfield')"
   ]
  },
  {
   "cell_type": "code",
   "execution_count": 51,
   "id": "ba11909a",
   "metadata": {},
   "outputs": [],
   "source": [
    "mon_she = number_tracks('Monday', 'Shelbyville')"
   ]
  },
  {
   "cell_type": "code",
   "execution_count": 52,
   "id": "98ce88a1",
   "metadata": {},
   "outputs": [],
   "source": [
    "wed_spr = number_tracks('Wednesday', 'Springfield')"
   ]
  },
  {
   "cell_type": "code",
   "execution_count": 53,
   "id": "cb2e79d6",
   "metadata": {},
   "outputs": [],
   "source": [
    "wed_she = number_tracks('Wednesday', 'Shelbyville')"
   ]
  },
  {
   "cell_type": "code",
   "execution_count": 54,
   "id": "55bb18a4",
   "metadata": {},
   "outputs": [],
   "source": [
    "fri_spr = number_tracks('Friday', 'Springfield')"
   ]
  },
  {
   "cell_type": "code",
   "execution_count": 55,
   "id": "b1e88825",
   "metadata": {},
   "outputs": [],
   "source": [
    "fri_she = number_tracks('Friday', 'Shelbyville')"
   ]
  },
  {
   "cell_type": "markdown",
   "id": "bc19c397",
   "metadata": {},
   "source": [
    "<font face='Calibri' color=\"#001A56\" size=+0.8>\n",
    "Usaremos `pd.DataFrame` para criar uma tabela, onde:\n",
    "    \n",
    "* Os nomes das colunas são: `'city', 'monday', 'wednesday', 'friday'`.\n",
    "* Os dados são o resultado que você recebe de `number_tracks()`."
   ]
  },
  {
   "cell_type": "code",
   "execution_count": 57,
   "id": "527a018f",
   "metadata": {},
   "outputs": [
    {
     "data": {
      "text/html": [
       "<div>\n",
       "<style scoped>\n",
       "    .dataframe tbody tr th:only-of-type {\n",
       "        vertical-align: middle;\n",
       "    }\n",
       "\n",
       "    .dataframe tbody tr th {\n",
       "        vertical-align: top;\n",
       "    }\n",
       "\n",
       "    .dataframe thead th {\n",
       "        text-align: right;\n",
       "    }\n",
       "</style>\n",
       "<table border=\"1\" class=\"dataframe\">\n",
       "  <thead>\n",
       "    <tr style=\"text-align: right;\">\n",
       "      <th></th>\n",
       "      <th>city</th>\n",
       "      <th>monday</th>\n",
       "      <th>wednesday</th>\n",
       "      <th>friday</th>\n",
       "    </tr>\n",
       "  </thead>\n",
       "  <tbody>\n",
       "    <tr>\n",
       "      <th>0</th>\n",
       "      <td>Springfield</td>\n",
       "      <td>15740</td>\n",
       "      <td>11056</td>\n",
       "      <td>15945</td>\n",
       "    </tr>\n",
       "    <tr>\n",
       "      <th>1</th>\n",
       "      <td>Shelbyville</td>\n",
       "      <td>5614</td>\n",
       "      <td>7003</td>\n",
       "      <td>5895</td>\n",
       "    </tr>\n",
       "  </tbody>\n",
       "</table>\n",
       "</div>"
      ],
      "text/plain": [
       "          city  monday  wednesday  friday\n",
       "0  Springfield   15740      11056   15945\n",
       "1  Shelbyville    5614       7003    5895"
      ]
     },
     "execution_count": 57,
     "metadata": {},
     "output_type": "execute_result"
    }
   ],
   "source": [
    "# Salvando todos os resultados da função em uma variável.\n",
    "dados = [['Springfield', mon_spr, wed_spr, fri_spr],\n",
    "         ['Shelbyville', mon_she, wed_she, fri_she]]\n",
    "\n",
    "# Salvando os nomes das colunas em uma variável.\n",
    "cities = ['city', 'monday', 'wednesday', 'friday']\n",
    "\n",
    "# Criando a tabela\n",
    "days_cities = pd.DataFrame(data=dados, columns=cities)\n",
    "\n",
    "#Exibindo os dados.\n",
    "days_cities                 "
   ]
  },
  {
   "cell_type": "markdown",
   "id": "e8de0169",
   "metadata": {},
   "source": [
    "<a id='h1_conclusao'></a>\n",
    "<h4><font face='Calibri' color=\"#1E90B6\" size=+2.0>\n",
    "Conclusões\n",
    "</font></h4>\n",
    "    <p>\n",
    "<font face='Calibri' color=\"#001A56\" size=+0.8>\n",
    "Os dados revelam diferenças no comportamento dos usuários:\n",
    "\n",
    "- Em Springfield, a quantidade de músicas tocadas é maior na segunda e sexta-feira, enquanto nas quarta-feira há uma diminuição na atividade.\n",
    "- Em Shelbyville, ao contrário, usuários escutam mais música na quarta-feira. A atividade na segunda e sexta-feira é pequena.\n",
    "\n",
    "Então a primeira hipótese está correta.\n",
    "    \n",
    "[Voltar ao Índice](#back)\n",
    "    "
   ]
  },
  {
   "cell_type": "markdown",
   "id": "911520e9",
   "metadata": {},
   "source": [
    "<a id='week'></a>\n",
    "<h3><font face='Calibri' color=\"#013294\" size=+2.0>\n",
    "Hipótese 2: música no começo e no fim da semana\n",
    "    </font></h3>\n",
    "<p>\n",
    "<font face='Calibri' color=\"#001A56\" size=+0.8>\n",
    "    De acordo com a segunda hipótese, na segunda-feira de manhã e sexta-feira à noite, habitantes de Springfield escutam gêneros diferentes dos usuários de Shelbyville.\n",
    "    \n",
    "Criaremos uma tabela para cada uma das cidades:\n",
    "* Para Springfield — `spr_general`.\n",
    "* Para Shelbyville — `shel_general`."
   ]
  },
  {
   "cell_type": "code",
   "execution_count": 58,
   "id": "85b77d86",
   "metadata": {},
   "outputs": [],
   "source": [
    "# obtendo a tabela spr_general.\n",
    "spr_general = df[df['city'] == 'Springfield']"
   ]
  },
  {
   "cell_type": "code",
   "execution_count": 59,
   "id": "5ce4ad63",
   "metadata": {},
   "outputs": [],
   "source": [
    "# obtendo a tabela shel_general.\n",
    "shel_general = df[df['city'] == 'Shelbyville']"
   ]
  },
  {
   "cell_type": "markdown",
   "id": "18204f4d",
   "metadata": {},
   "source": [
    "<font face='Calibri' color=\"#001A56\" size=+0.8>\n",
    "Escreveremos a função <code>genre_weekday()</code> com quatro parâmetros:\n",
    "    \n",
    "* Uma tabela para dados.\n",
    "* O dia da semana.\n",
    "* O primeiro carimbo de hora, no formato 'HH:MM'.\n",
    "* O último carimbo de hora, no formato 'HH,MM'.\n",
    "\n",
    "A função dretornará informações sobre os 15 gêneros mais populares em um determinado dia, dentro do período entre os dois horários."
   ]
  },
  {
   "cell_type": "code",
   "execution_count": 60,
   "id": "9d4d414b",
   "metadata": {},
   "outputs": [],
   "source": [
    "def genre_weekday(df, day, time1, time2):\n",
    "    genre_df = df[df['day'] == day]\n",
    "    genre_df = genre_df[genre_df['time'] < time2]\n",
    "    genre_df = genre_df[genre_df['time'] > time1]\n",
    "    genre_df_grouped = genre_df.groupby('genre')['genre'].count()\n",
    "    genre_df_sorted = genre_df_grouped.sort_values(ascending=False)\n",
    "    return genre_df_sorted[:15]"
   ]
  },
  {
   "cell_type": "markdown",
   "id": "c8f79b05",
   "metadata": {},
   "source": [
    "<font face='Calibri' color=\"#001A56\" size=+0.8>\n",
    "Iremos comparar os resultados da função <code>genre_weekday()</code> para Springfield e Shelbyville na segunda-feira de manhã (de 7hs à 11hs) e na sexta-feira de tarde (das 17hs às 23hs):"
   ]
  },
  {
   "cell_type": "code",
   "execution_count": 61,
   "id": "6eb9f567",
   "metadata": {},
   "outputs": [
    {
     "data": {
      "text/plain": [
       "genre\n",
       "pop            781\n",
       "dance          549\n",
       "electronic     480\n",
       "rock           474\n",
       "hiphop         286\n",
       "ruspop         186\n",
       "world          181\n",
       "rusrap         175\n",
       "alternative    164\n",
       "unknown        161\n",
       "classical      157\n",
       "metal          120\n",
       "jazz           100\n",
       "folk            97\n",
       "soundtrack      95\n",
       "Name: genre, dtype: int64"
      ]
     },
     "execution_count": 61,
     "metadata": {},
     "output_type": "execute_result"
    }
   ],
   "source": [
    "# chamando a função para segunda-feira de manha em Springfield.\n",
    "genre_weekday(spr_general, 'Monday', '07:00', '11:00')"
   ]
  },
  {
   "cell_type": "code",
   "execution_count": 62,
   "id": "d78f35c9",
   "metadata": {},
   "outputs": [
    {
     "data": {
      "text/plain": [
       "genre\n",
       "pop            218\n",
       "dance          182\n",
       "rock           162\n",
       "electronic     147\n",
       "hiphop          80\n",
       "ruspop          64\n",
       "alternative     58\n",
       "rusrap          55\n",
       "jazz            44\n",
       "classical       40\n",
       "world           36\n",
       "rap             32\n",
       "soundtrack      31\n",
       "rnb             27\n",
       "metal           27\n",
       "Name: genre, dtype: int64"
      ]
     },
     "execution_count": 62,
     "metadata": {},
     "output_type": "execute_result"
    }
   ],
   "source": [
    "# chamando a função para segunda-feira de manhã em Shelbyville.\n",
    "genre_weekday(shel_general, 'Monday', '07:00', '11:00')"
   ]
  },
  {
   "cell_type": "code",
   "execution_count": 63,
   "id": "ce783ca0",
   "metadata": {},
   "outputs": [
    {
     "data": {
      "text/plain": [
       "genre\n",
       "pop            713\n",
       "rock           517\n",
       "dance          495\n",
       "electronic     482\n",
       "hiphop         273\n",
       "world          208\n",
       "ruspop         170\n",
       "classical      163\n",
       "alternative    163\n",
       "rusrap         142\n",
       "jazz           111\n",
       "unknown        110\n",
       "soundtrack     105\n",
       "rnb             90\n",
       "metal           88\n",
       "Name: genre, dtype: int64"
      ]
     },
     "execution_count": 63,
     "metadata": {},
     "output_type": "execute_result"
    }
   ],
   "source": [
    "# chamando a função para sexta-feira à tarde em Springfield.\n",
    "genre_weekday(spr_general, 'Friday', '17:00', '23:00')"
   ]
  },
  {
   "cell_type": "code",
   "execution_count": 65,
   "id": "4fd6056e",
   "metadata": {},
   "outputs": [
    {
     "data": {
      "text/plain": [
       "genre\n",
       "pop            256\n",
       "rock           216\n",
       "electronic     216\n",
       "dance          210\n",
       "hiphop          97\n",
       "alternative     63\n",
       "jazz            61\n",
       "classical       60\n",
       "rusrap          59\n",
       "world           54\n",
       "unknown         47\n",
       "ruspop          47\n",
       "soundtrack      40\n",
       "metal           39\n",
       "rap             36\n",
       "Name: genre, dtype: int64"
      ]
     },
     "execution_count": 65,
     "metadata": {},
     "output_type": "execute_result"
    }
   ],
   "source": [
    "# chamando a função para sexta-feira à tarde em Shelbyville.\n",
    "genre_weekday(shel_general, 'Friday', '17:00', '23:00')"
   ]
  },
  {
   "cell_type": "markdown",
   "id": "a806e3a9",
   "metadata": {},
   "source": [
    "<a id='h2_conclusao'></a>\n",
    "<h4><font face='Calibri' color=\"#1E90B6\" size=+2.0>\n",
    "    Conclusões\n",
    "</font></h4>\n",
    "    <p>\n",
    "<font face='Calibri' color=\"#001A56\" size=+0.8>\n",
    "Tendo comparado os 15 gêneros mais ouvidos na segunda-feira de manhã, nós podemos tirar as seguintes conclusões:\n",
    "\n",
    "1. Usuários de Springfield e Shelbyville escutam músicas semelhantes. Os cinco gêneros mais ouvidos são os mesmos, apenas rock e música eletrônica trocaram de lugar.\n",
    "\n",
    "2. Em Springfield, a quantidade de valores ausentes acabaram por serem tantos que o valor `'unknown'` veio em 10º. Isso significa que valores ausentes tiveram uma considerável porção dos dados.\n",
    "\n",
    "Para sexta-feira à tarde, a situação é parecida. Gêneros individuais variam um pouco, mas no todo, os 15 gêneros mais ouvidos são parecidos para as duas cidades.\n",
    "\n",
    "Assim, a segunda hipótese foi parcialmente provada:\n",
    "* Usuários escutam gêneros musicais parecidos no começo e no fim da semana.\n",
    "* Não há grande diferença entre Springfield e Shelbyville. Nas duas cidades, pop é o gênero mais popular.\n",
    "\n",
    "No entanto, o número de valores ausentes faz com que esse resultado possa ser questionável. Em Springfield, musicas de gênero desconhecidos estão em 10º lugar. Talvez, se não nos faltassem esses valores a ordem dos gêneros mais ouvidos poderia ser diferente.\n",
    "\n",
    "[Voltar ao Índice](#back)"
   ]
  },
  {
   "cell_type": "markdown",
   "id": "e7649607",
   "metadata": {},
   "source": [
    "<a id='genre'></a>\n",
    "<h3><font face='Calibri' color=\"#013294\" size=+2.0>\n",
    "    Hipótese 3: preferências em Springfield e Shelbyville \n",
    "  </font></h3>\n",
    "<p>\n",
    "<font face='Calibri' color=\"#001A56\" size=+0.8> \n",
    "Hipótese: Shelbyville ama Rap. Cidadãos de Springfield curtem mais Pop.\n",
    "\n",
    "\n",
    "Agruparemos a tabela `spr_general` por gênero e encontre o número de músicas tocadas para cada gênero com o método `.count()`. Depois organizaremos o resultado em ordem decrescente e armazenaremos em `spr_genres`."
   ]
  },
  {
   "cell_type": "code",
   "execution_count": 68,
   "id": "bdde6412",
   "metadata": {},
   "outputs": [
    {
     "data": {
      "text/plain": [
       "genre\n",
       "pop            5892\n",
       "dance          4435\n",
       "rock           3965\n",
       "electronic     3786\n",
       "hiphop         2096\n",
       "classical      1616\n",
       "world          1432\n",
       "alternative    1379\n",
       "ruspop         1372\n",
       "rusrap         1161\n",
       "Name: track, dtype: int64"
      ]
     },
     "execution_count": 68,
     "metadata": {},
     "output_type": "execute_result"
    }
   ],
   "source": [
    "# Agrupando os dados.\n",
    "group1 = spr_general.groupby('genre')['track'].count()\n",
    "\n",
    "# Ordenando os resultados\n",
    "spr_genres = group1.sort_values(ascending=False)\n",
    "\n",
    "# Exibindo as 10 primeiras linhas\n",
    "spr_genres.head(10)"
   ]
  },
  {
   "cell_type": "markdown",
   "id": "18b200ba",
   "metadata": {},
   "source": [
    "<font face='Calibri' color=\"#001A56\" size=+0.8>\n",
    "Agora faremos o mesmo com os dados de Shelbyville.\n",
    "\n",
    "Agruparemos a tabela `shel_general` por gênero e encontraremos o número de músicas tocadas de cada gênero. Depois organizaremos o resultado em ordem decrescente e armazene-o na tabela `shel_genres`."
   ]
  },
  {
   "cell_type": "code",
   "execution_count": 69,
   "id": "67028f62",
   "metadata": {},
   "outputs": [
    {
     "data": {
      "text/plain": [
       "genre\n",
       "pop            2431\n",
       "dance          1932\n",
       "rock           1879\n",
       "electronic     1736\n",
       "hiphop          960\n",
       "alternative     649\n",
       "classical       646\n",
       "rusrap          564\n",
       "ruspop          538\n",
       "world           515\n",
       "Name: track, dtype: int64"
      ]
     },
     "execution_count": 69,
     "metadata": {},
     "output_type": "execute_result"
    }
   ],
   "source": [
    "# Agrupando os dados.\n",
    "group = shel_general.groupby('genre')['track'].count()\n",
    "\n",
    "# Ordenando os dados.\n",
    "shel_genres = group.sort_values(ascending=False)\n",
    "\n",
    "# Exibindo as 10 primeiras linhas\n",
    "shel_genres.head(10)"
   ]
  },
  {
   "cell_type": "markdown",
   "id": "5a2eedda",
   "metadata": {},
   "source": [
    "<a id='h3_conclusao'></a>\n",
    "<h4><font face='Calibri' color=\"#1E90B6\" size=+2.0>\n",
    "    Conclusões\n",
    "    </font></h4>\n",
    "    <p>\n",
    "<font face='Calibri' color=\"#001A56\" size=+0.8>\n",
    "A hipótese foi parcialmente provada:\n",
    "    \n",
    "* Música Pop é o gênero mais em Springfield, como esperado.\n",
    "* Entretanto, música Pop acabou por ser igualmente popular em Springfield e Shelbyville, e Rap não estava no top 5 em nenhuma das cidades.    \n",
    "    \n",
    "    \n",
    "[Voltar ao Índice](#back)\n",
    "    \n",
    "<hr>"
   ]
  },
  {
   "cell_type": "markdown",
   "id": "d601d324",
   "metadata": {},
   "source": [
    "<a id='end'></a>\n",
    "<h2><font face='Calibri' color=\"#001A56\" size=+3.0>\n",
    "Conclusão\n",
    "     </font></h2>\n",
    "    <p>\n",
    "    \n",
    "<font face='Calibri' color=\"#001A56\" size=+0.8>\n",
    "Depois de analisar os dados, foi possível chegar as seguintes conclusões quanto a noosas hipóteses inciais:\n",
    "<p>    \n",
    "<font face='Calibri' color=\"#001A56\" size=+0.8>\n",
    "<b>Hipótese 1.</b> A atividade do usuário varia dependendo do dia da semana e da cidade.\n",
    "    <ul>\n",
    "    <li>As atividades dos usuários em Springfield e Shelbyville depende do dia da semana, embora as cidades variam de formas diferentes, por esse motivo consideramos a hipótese verdadeira.\n",
    "    </ul>  \n",
    "    \n",
    "<b>Hipótese 2.</b> Nas segundas-feiras de manhã, os habitantes de Springfield e Shelbyville escutam diferentes gêneros. Isso também é verdadeiro para noites de sextas-feiras. \n",
    "    <ul>\n",
    "    <li>As preferências musicais não variam significativamente ao decorrer da semana tanto em Springfield como em Shelbyville. Nós podemos ver pequenas diferenças na ordem nas segundas-feiras.\n",
    "    <li>Em Springfield e Shelbyville, as pessoas escutam mais música Pop.\n",
    "    <li>Os resultado poderiam ter sido diferentes se não houvessem valores ausentes.\n",
    "    <li>Por esses motivos consideramos a hipótese verdadeira.\n",
    "    </ul>\n",
    "        \n",
    "<b>Hipótese 3.</b> Ouvintes de Springfield e Shelbyville têm preferências diferentes. Tanto em Springfield como Shellbyville, eles preferem pop.\n",
    "    <ul>\n",
    "    <li>As preferências musicais dos usuários de Springfield e Shelbyville são bastante parecidas.\n",
    "    <li>A terceira hipótese foi rejeitada. Aparentemente as preferências iguais.\n",
    "  \n",
    "[Voltar ao Índice](#back)        \n",
    "<hr>"
   ]
  },
  {
   "cell_type": "markdown",
   "id": "aee8db9a",
   "metadata": {},
   "source": [
    "<a id='fontes'></a>\n",
    "<h2><font face='Calibri' color=\"#001A56\" size=+3.0>\n",
    "Fontes\n",
    "     </font></h2>\n",
    "    <p>\n",
    "    \n",
    "<font face='Calibri' color=\"#001A56\" size=+0.8>\n",
    "<ul>\n",
    "<li> Documentação da biblioteca <a href=\"https://pandas.pydata.org/docs/\" target=\"_blank\">Pandas.\n",
    "    "
   ]
  },
  {
   "cell_type": "markdown",
   "id": "4cb21a7c",
   "metadata": {},
   "source": [
    "<a id='contato'></a>\n",
    "<h2><font face='Calibri' color=\"#001A56\" size=+3.0>\n",
    "Contatos\n",
    "     </font></h2>\n",
    "    <p>\n",
    "<font face='Calibri' color=\"#001A56\" size=+0.8>\n",
    "    <ul>\n",
    "    <li><b>Autor:</b> Maycon Douglas dos Santos\n",
    "    <p>    \n",
    "    <li><b>E-mail:</b> mayconds13@live.com\n",
    "    <p>  \n",
    "    <li><b>LinkedIn:</b> <a href=\"https://www.linkedin.com/in/maycondouglasdossantos/\"> linkedin.com/in/maycondouglasdossantos </a>\n",
    "    <p>    \n",
    "    <li><b>GitHub:</b> <a href=\"https://github.com/mayconddsantos\"> github.com/mayconddsantos </a>\n",
    "    <p>    \n",
    "    <li><b>Repositório deste projeto:</b><a href=\"https://github.com/mayconddsantos/Projetos_Practicum\"> github.com/mayconddsantos/Projetos_Practicum </a>\n"
   ]
  }
 ],
 "metadata": {
  "kernelspec": {
   "display_name": "Python 3 (ipykernel)",
   "language": "python",
   "name": "python3"
  },
  "language_info": {
   "codemirror_mode": {
    "name": "ipython",
    "version": 3
   },
   "file_extension": ".py",
   "mimetype": "text/x-python",
   "name": "python",
   "nbconvert_exporter": "python",
   "pygments_lexer": "ipython3",
   "version": "3.9.12"
  }
 },
 "nbformat": 4,
 "nbformat_minor": 5
}
