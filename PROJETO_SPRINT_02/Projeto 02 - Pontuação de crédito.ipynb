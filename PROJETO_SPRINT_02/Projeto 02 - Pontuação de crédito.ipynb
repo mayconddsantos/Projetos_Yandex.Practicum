{
 "cells": [
  {
   "cell_type": "markdown",
   "id": "2ca13402",
   "metadata": {},
   "source": [
    "<h1><font face='Calibri' color=\"#001A56\" size=+3.5><b>\n",
    "    Projeto 02: Pontuação de crédito\n",
    "    </b></font></h1>\n",
    "    \n",
    "<h3><font face='Calibri' color=\"#001A56\" size=+1.5>\n",
    "    Bootcamp em análise de dados, Practicum by Yandex.\n",
    "    </font></h3>\n",
    "    \n",
    "<hr>\n",
    "\n",
    "<font face='Calibri' color=\"#001A56\" size=+0.8>\n",
    "    Na segunda <i>sprint</i> aprendemos a avaliar a qualidade dos dados e se ela é alta o suficiente para testar hipóteses. Aprendemos como identificar e processar dados duplicados, dados ausentes, diferentes tipos de dados e a categorizar dados. Esse é o projeto de conclusão da <i>sprint</i> 02.\n",
    "    </font>\n",
    "\n",
    "<hr>"
   ]
  },
  {
   "cell_type": "markdown",
   "id": "a5b0e6d1",
   "metadata": {},
   "source": [
    "<a id='back'></a>\n",
    "<h2><font face='Calibri' color=\"#001A56\" size=+3.0>\n",
    "    Índice.\n",
    "    </font></h2>"
   ]
  },
  {
   "cell_type": "markdown",
   "id": "381c51ad",
   "metadata": {},
   "source": [
    "<font face='Calibri' color=\"#001A56\" size=+0.8>\n",
    "    \n",
    "- [Introdução](#intro)\n",
    "    - [Objetivos](#obj)\n",
    "    - [Dados](#dados)\n",
    "* [Etapa 1. Visão geral dos dados](#data_review)\n",
    "* [Etapa 2. Pré-processamento de dados](#data_preprocessing)\n",
    "    * [Analisando os valores ausentes.](#ausentes)\n",
    "    * [Analisando os dados da coluna education.](#education)\n",
    "    * [Analisando os dados da coluna children.](#children)\n",
    "    * [Analisando os dados da coluna dob_years.](#dob_years)\n",
    "    * [Analisando os dados da coluna family_status.](#family)\n",
    "    * [Analisando os dados da coluna gender.](#gender)\n",
    "    * [Analisando os dados da coluna income_type.](#income_type)\n",
    "    * [Verificando a presença de dados duplicados.](#duplicados)\n",
    "    * [Tratando os valores ausentes.](#Tausentes)\n",
    "    * [Categorização de dados.](#categorias)\n",
    "* [Etapa 3. Verificando as hipóteses](#hypotheses)\n",
    "    * [Hipótese 1: Existe uma correlação entre o nível de renda e do pagamento em dia?](#h1)\n",
    "        * [Conclusões](#h1_conclusao)\n",
    "    * [Hipótese 2: Existe uma correlação entre o status familiar e o pagamento em dia?](#h2)\n",
    "        * [Conclusões](#h2_conclusao)\n",
    "    * [Hipótese 3: Existe uma correlação entre o número de crianças e o pagamento em dia?](#h3)\n",
    "        * [Conclusões](#h3_conclusao)\n",
    "    * [Hipótese 4: Como a finalidade do crédito afeta a taxa de inadimplência?](#h4)\n",
    "        * [Conclusões](#h4_conclusao)\n",
    "    * [Hipótese 5: Existe uma correlação entre a educação e o pagamento em dia?](#h5)\n",
    "        * [Conclusões](#h5_conclusao)\n",
    "* [Conclusão](#end)\n",
    "* [Fontes](#fontes)\n",
    "* [Contatos](#contato)   \n",
    " <hr>"
   ]
  },
  {
   "cell_type": "markdown",
   "id": "2cd0f992",
   "metadata": {},
   "source": [
    "<a id='intro'></a>\n",
    "<h2><font face='Calibri' color=\"#001A56\" size=+3.0>\n",
    "    Introdução\n",
    "    </font></h2> \n",
    "     <p>    \n",
    "<font face='Calibri' color=\"#001A56\" size=+0.8>\n",
    "Nesse projeto iremos preparar um relatório para a divisão de empréstimos de um banco. Iremos descobrir informações como, se o estado civil de um cliente e o número de filhos têm impacto sobre a inadimplência de um empréstimo. O banco já tem alguns dados sobre a capacidade de crédito dos clientes.\n",
    "Nosso trabalho é criar uma pontuação de crédito de um cliente em potencial. Uma pontuação de crédito é usada para avaliar a capacidade de um devedor em potencial pagar seu empréstimo.\n",
    "    </font>    \n",
    "   \n",
    "    \n",
    "<a id='obj'></a>    \n",
    "<h3><font face='Calibri' color=\"#013294\" size=+2.0>\n",
    "    Objetivos\n",
    "    </font></h3>\n",
    "    <p>\n",
    "    <font face='Calibri' color=\"#001A56\" size=+0.8>\n",
    "    Durante esse projeto analisaremos as seguintes hipoteses:\n",
    "     \n",
    "<ol>\n",
    "<li> Existe uma correlação entre o nível de renda e o pagamento em dia?\n",
    "<li> Existe uma correlação entre o status familiar e o pagamento em dia? \n",
    "<li> Existe uma correlação entre a quantidade de crianças e o pagamento em dia?\n",
    "<li> Como a finalidade do crédito afeta a taxa de inadimplência?\n",
    "<li> Existe uma correlação entre a educação e o pagamento em dia?      \n",
    "    </ol></font>\n",
    "\n",
    "    \n",
    "    \n",
    "<a id='dados'></a>\n",
    "<h3><font face='Calibri' color=\"#013294\" size=+2.0>\n",
    "    Dados\n",
    "    </font></h3>\n",
    "    <p>\n",
    "<font face='Calibri' color=\"#001A56\" size=+0.8>    \n",
    "Os dados sobre a capacidade de crédito dos clientes estão armazenados no arquivo <code>credit_scoring_eng.csv</code>. Inicialmente não temos informações sobre a qualidade dos dados apenas as descrições da colunas, que são:\n",
    "    <ul>\n",
    "    <li><coder>children</coder>: o número de crianças na família.\n",
    "    <li><coder>days_employed</coder>: quanto tempo o cliente trabalhou.\n",
    "    <li><coder>dob_years</coder>: a idade do cliente.\n",
    "    <li><coder>education</coder>: o nível de educação do cliente.\n",
    "    <li><coder>education_id</coder>: identificador da educação do cliente.\n",
    "    <li><coder>family_status</coder>: estado civil do cliente.\n",
    "    <li><coder>family_status_id</coder>: identificador do estado civil do cliente.\n",
    "    <li><coder>gender</coder>: o sexo do cliente.\n",
    "    <li><coder>income_type</coder>: o tipo de renda do cliente.\n",
    "    <li><coder>debt</coder>: se o cliente já deixou de pagar um empréstimo.\n",
    "    <li><coder>total_income</coder>: renda mensal.\n",
    "    <li><coder>purpose</coder>: motivo para fazer um empréstimo.\n",
    "    </ul>\n",
    "<p>\n",
    "\n",
    "    \n",
    "[Voltar ao Índice](#back)\n",
    "    \n",
    "<hr>"
   ]
  },
  {
   "cell_type": "markdown",
   "id": "2b4f98ae",
   "metadata": {},
   "source": [
    "<h2><font face='Calibri' color=\"#001A56\" size=+3.0>\n",
    "Etapa 1. Visão geral dos dados\n",
    "    </font></h2><a id='data_review'></a>\n",
    "<p>\n",
    "<font face='Calibri' color=\"#001A56\" size=+0.8>\n",
    "Importaremos os dados sobre a capacidade de crédito dos clientes presentes no arquivo <code>credit_scoring_eng.csv</code>. Para isso precisaremos da biblioteca Pandas que também será importada."
   ]
  },
  {
   "cell_type": "code",
   "execution_count": 1,
   "id": "a5fdcefc",
   "metadata": {},
   "outputs": [],
   "source": [
    "# Importando bibliotecas\n",
    "import pandas as pd"
   ]
  },
  {
   "cell_type": "code",
   "execution_count": 2,
   "id": "bbfd1355",
   "metadata": {},
   "outputs": [
    {
     "name": "stdout",
     "output_type": "stream",
     "text": [
      "<class 'pandas.core.frame.DataFrame'>\n",
      "RangeIndex: 21525 entries, 0 to 21524\n",
      "Data columns (total 12 columns):\n",
      " #   Column            Non-Null Count  Dtype  \n",
      "---  ------            --------------  -----  \n",
      " 0   children          21525 non-null  int64  \n",
      " 1   days_employed     19351 non-null  float64\n",
      " 2   dob_years         21525 non-null  int64  \n",
      " 3   education         21525 non-null  object \n",
      " 4   education_id      21525 non-null  int64  \n",
      " 5   family_status     21525 non-null  object \n",
      " 6   family_status_id  21525 non-null  int64  \n",
      " 7   gender            21525 non-null  object \n",
      " 8   income_type       21525 non-null  object \n",
      " 9   debt              21525 non-null  int64  \n",
      " 10  total_income      19351 non-null  float64\n",
      " 11  purpose           21525 non-null  object \n",
      "dtypes: float64(2), int64(5), object(5)\n",
      "memory usage: 2.0+ MB\n"
     ]
    }
   ],
   "source": [
    "# Importando os dados\n",
    "df = pd.read_csv('credit_scoring_eng.csv')\n",
    "\n",
    "# Exibindo as informações da tabela\n",
    "df.info()"
   ]
  },
  {
   "cell_type": "code",
   "execution_count": 3,
   "id": "775eae4b",
   "metadata": {},
   "outputs": [
    {
     "data": {
      "text/html": [
       "<div>\n",
       "<style scoped>\n",
       "    .dataframe tbody tr th:only-of-type {\n",
       "        vertical-align: middle;\n",
       "    }\n",
       "\n",
       "    .dataframe tbody tr th {\n",
       "        vertical-align: top;\n",
       "    }\n",
       "\n",
       "    .dataframe thead th {\n",
       "        text-align: right;\n",
       "    }\n",
       "</style>\n",
       "<table border=\"1\" class=\"dataframe\">\n",
       "  <thead>\n",
       "    <tr style=\"text-align: right;\">\n",
       "      <th></th>\n",
       "      <th>children</th>\n",
       "      <th>days_employed</th>\n",
       "      <th>dob_years</th>\n",
       "      <th>education</th>\n",
       "      <th>education_id</th>\n",
       "      <th>family_status</th>\n",
       "      <th>family_status_id</th>\n",
       "      <th>gender</th>\n",
       "      <th>income_type</th>\n",
       "      <th>debt</th>\n",
       "      <th>total_income</th>\n",
       "      <th>purpose</th>\n",
       "    </tr>\n",
       "  </thead>\n",
       "  <tbody>\n",
       "    <tr>\n",
       "      <th>0</th>\n",
       "      <td>1</td>\n",
       "      <td>-8437.673028</td>\n",
       "      <td>42</td>\n",
       "      <td>bachelor's degree</td>\n",
       "      <td>0</td>\n",
       "      <td>married</td>\n",
       "      <td>0</td>\n",
       "      <td>F</td>\n",
       "      <td>employee</td>\n",
       "      <td>0</td>\n",
       "      <td>40620.102</td>\n",
       "      <td>purchase of the house</td>\n",
       "    </tr>\n",
       "    <tr>\n",
       "      <th>1</th>\n",
       "      <td>1</td>\n",
       "      <td>-4024.803754</td>\n",
       "      <td>36</td>\n",
       "      <td>secondary education</td>\n",
       "      <td>1</td>\n",
       "      <td>married</td>\n",
       "      <td>0</td>\n",
       "      <td>F</td>\n",
       "      <td>employee</td>\n",
       "      <td>0</td>\n",
       "      <td>17932.802</td>\n",
       "      <td>car purchase</td>\n",
       "    </tr>\n",
       "    <tr>\n",
       "      <th>2</th>\n",
       "      <td>0</td>\n",
       "      <td>-5623.422610</td>\n",
       "      <td>33</td>\n",
       "      <td>Secondary Education</td>\n",
       "      <td>1</td>\n",
       "      <td>married</td>\n",
       "      <td>0</td>\n",
       "      <td>M</td>\n",
       "      <td>employee</td>\n",
       "      <td>0</td>\n",
       "      <td>23341.752</td>\n",
       "      <td>purchase of the house</td>\n",
       "    </tr>\n",
       "    <tr>\n",
       "      <th>3</th>\n",
       "      <td>3</td>\n",
       "      <td>-4124.747207</td>\n",
       "      <td>32</td>\n",
       "      <td>secondary education</td>\n",
       "      <td>1</td>\n",
       "      <td>married</td>\n",
       "      <td>0</td>\n",
       "      <td>M</td>\n",
       "      <td>employee</td>\n",
       "      <td>0</td>\n",
       "      <td>42820.568</td>\n",
       "      <td>supplementary education</td>\n",
       "    </tr>\n",
       "    <tr>\n",
       "      <th>4</th>\n",
       "      <td>0</td>\n",
       "      <td>340266.072047</td>\n",
       "      <td>53</td>\n",
       "      <td>secondary education</td>\n",
       "      <td>1</td>\n",
       "      <td>civil partnership</td>\n",
       "      <td>1</td>\n",
       "      <td>F</td>\n",
       "      <td>retiree</td>\n",
       "      <td>0</td>\n",
       "      <td>25378.572</td>\n",
       "      <td>to have a wedding</td>\n",
       "    </tr>\n",
       "  </tbody>\n",
       "</table>\n",
       "</div>"
      ],
      "text/plain": [
       "   children  days_employed  dob_years            education  education_id  \\\n",
       "0         1   -8437.673028         42    bachelor's degree             0   \n",
       "1         1   -4024.803754         36  secondary education             1   \n",
       "2         0   -5623.422610         33  Secondary Education             1   \n",
       "3         3   -4124.747207         32  secondary education             1   \n",
       "4         0  340266.072047         53  secondary education             1   \n",
       "\n",
       "       family_status  family_status_id gender income_type  debt  total_income  \\\n",
       "0            married                 0      F    employee     0     40620.102   \n",
       "1            married                 0      F    employee     0     17932.802   \n",
       "2            married                 0      M    employee     0     23341.752   \n",
       "3            married                 0      M    employee     0     42820.568   \n",
       "4  civil partnership                 1      F     retiree     0     25378.572   \n",
       "\n",
       "                   purpose  \n",
       "0    purchase of the house  \n",
       "1             car purchase  \n",
       "2    purchase of the house  \n",
       "3  supplementary education  \n",
       "4        to have a wedding  "
      ]
     },
     "execution_count": 3,
     "metadata": {},
     "output_type": "execute_result"
    }
   ],
   "source": [
    "# Exibindo as primeiras linhas da tabela\n",
    "df.head()"
   ]
  },
  {
   "cell_type": "code",
   "execution_count": 4,
   "id": "462dc56b",
   "metadata": {},
   "outputs": [
    {
     "data": {
      "text/html": [
       "<div>\n",
       "<style scoped>\n",
       "    .dataframe tbody tr th:only-of-type {\n",
       "        vertical-align: middle;\n",
       "    }\n",
       "\n",
       "    .dataframe tbody tr th {\n",
       "        vertical-align: top;\n",
       "    }\n",
       "\n",
       "    .dataframe thead th {\n",
       "        text-align: right;\n",
       "    }\n",
       "</style>\n",
       "<table border=\"1\" class=\"dataframe\">\n",
       "  <thead>\n",
       "    <tr style=\"text-align: right;\">\n",
       "      <th></th>\n",
       "      <th>children</th>\n",
       "      <th>days_employed</th>\n",
       "      <th>dob_years</th>\n",
       "      <th>education_id</th>\n",
       "      <th>family_status_id</th>\n",
       "      <th>debt</th>\n",
       "      <th>total_income</th>\n",
       "    </tr>\n",
       "  </thead>\n",
       "  <tbody>\n",
       "    <tr>\n",
       "      <th>count</th>\n",
       "      <td>21525.000000</td>\n",
       "      <td>19351.000000</td>\n",
       "      <td>21525.000000</td>\n",
       "      <td>21525.000000</td>\n",
       "      <td>21525.000000</td>\n",
       "      <td>21525.000000</td>\n",
       "      <td>19351.000000</td>\n",
       "    </tr>\n",
       "    <tr>\n",
       "      <th>mean</th>\n",
       "      <td>0.538908</td>\n",
       "      <td>63046.497661</td>\n",
       "      <td>43.293380</td>\n",
       "      <td>0.817236</td>\n",
       "      <td>0.972544</td>\n",
       "      <td>0.080883</td>\n",
       "      <td>26787.568355</td>\n",
       "    </tr>\n",
       "    <tr>\n",
       "      <th>std</th>\n",
       "      <td>1.381587</td>\n",
       "      <td>140827.311974</td>\n",
       "      <td>12.574584</td>\n",
       "      <td>0.548138</td>\n",
       "      <td>1.420324</td>\n",
       "      <td>0.272661</td>\n",
       "      <td>16475.450632</td>\n",
       "    </tr>\n",
       "    <tr>\n",
       "      <th>min</th>\n",
       "      <td>-1.000000</td>\n",
       "      <td>-18388.949901</td>\n",
       "      <td>0.000000</td>\n",
       "      <td>0.000000</td>\n",
       "      <td>0.000000</td>\n",
       "      <td>0.000000</td>\n",
       "      <td>3306.762000</td>\n",
       "    </tr>\n",
       "    <tr>\n",
       "      <th>25%</th>\n",
       "      <td>0.000000</td>\n",
       "      <td>-2747.423625</td>\n",
       "      <td>33.000000</td>\n",
       "      <td>1.000000</td>\n",
       "      <td>0.000000</td>\n",
       "      <td>0.000000</td>\n",
       "      <td>16488.504500</td>\n",
       "    </tr>\n",
       "    <tr>\n",
       "      <th>50%</th>\n",
       "      <td>0.000000</td>\n",
       "      <td>-1203.369529</td>\n",
       "      <td>42.000000</td>\n",
       "      <td>1.000000</td>\n",
       "      <td>0.000000</td>\n",
       "      <td>0.000000</td>\n",
       "      <td>23202.870000</td>\n",
       "    </tr>\n",
       "    <tr>\n",
       "      <th>75%</th>\n",
       "      <td>1.000000</td>\n",
       "      <td>-291.095954</td>\n",
       "      <td>53.000000</td>\n",
       "      <td>1.000000</td>\n",
       "      <td>1.000000</td>\n",
       "      <td>0.000000</td>\n",
       "      <td>32549.611000</td>\n",
       "    </tr>\n",
       "    <tr>\n",
       "      <th>max</th>\n",
       "      <td>20.000000</td>\n",
       "      <td>401755.400475</td>\n",
       "      <td>75.000000</td>\n",
       "      <td>4.000000</td>\n",
       "      <td>4.000000</td>\n",
       "      <td>1.000000</td>\n",
       "      <td>362496.645000</td>\n",
       "    </tr>\n",
       "  </tbody>\n",
       "</table>\n",
       "</div>"
      ],
      "text/plain": [
       "           children  days_employed     dob_years  education_id  \\\n",
       "count  21525.000000   19351.000000  21525.000000  21525.000000   \n",
       "mean       0.538908   63046.497661     43.293380      0.817236   \n",
       "std        1.381587  140827.311974     12.574584      0.548138   \n",
       "min       -1.000000  -18388.949901      0.000000      0.000000   \n",
       "25%        0.000000   -2747.423625     33.000000      1.000000   \n",
       "50%        0.000000   -1203.369529     42.000000      1.000000   \n",
       "75%        1.000000    -291.095954     53.000000      1.000000   \n",
       "max       20.000000  401755.400475     75.000000      4.000000   \n",
       "\n",
       "       family_status_id          debt   total_income  \n",
       "count      21525.000000  21525.000000   19351.000000  \n",
       "mean           0.972544      0.080883   26787.568355  \n",
       "std            1.420324      0.272661   16475.450632  \n",
       "min            0.000000      0.000000    3306.762000  \n",
       "25%            0.000000      0.000000   16488.504500  \n",
       "50%            0.000000      0.000000   23202.870000  \n",
       "75%            1.000000      0.000000   32549.611000  \n",
       "max            4.000000      1.000000  362496.645000  "
      ]
     },
     "execution_count": 4,
     "metadata": {},
     "output_type": "execute_result"
    }
   ],
   "source": [
    "df.describe()"
   ]
  },
  {
   "cell_type": "markdown",
   "id": "b5c14032",
   "metadata": {},
   "source": [
    "<font face='Calibri' color=\"#001A56\" size=+0.8>\n",
    "Existem vários problemas com os dados recebidos, entre eles:\n",
    "    <ul>\n",
    "        <li><code>days_employed</code>: dados do tipo <b>float</b>, o ideal seria altera-los para <b>int</b>. Ainda nessa coluna vemos números negativos e positivos, o ideal seria saber o motivo dessa divergência, inicialmente parece que números positivos estão ligados aos aposentados. Possui valores ausentes.\n",
    "    <li><code>education</code>: as descrições de educação estão todas iguais, porém em alguns casos foram utilizadas letras maiúsculas enquanto em outros apenas minúsculas, será necessário alterar para que fiquem todas escritas somente com letras minúsculas.\n",
    "    <li><code>education_id</code>: aparentemente essa coluna tem a mesma função da coluna education, categorizar o nível de educação.\n",
    "    <li><code>family_status</code> e <code>family_status_id</code>: aparentemente essas colunas possuem a mesma função, fornecem a mesma informação.\n",
    "    <li><code>total_income</code>: Possui valores ausentes.\n",
    "    <li><code>purpose</code>: As descrições são longas e diferentes mesmo quando são assuntos semelhantes, o ideal seria categoriza-las de formas mais concisa.\n",
    "    \n",
    "[Voltar ao Índice](#back)\n",
    "    \n",
    "<hr>"
   ]
  },
  {
   "cell_type": "markdown",
   "id": "817efbe3",
   "metadata": {},
   "source": [
    "<a id='data_preprocessing'></a>\n",
    "<h2><font face='Calibri' color=\"#001A56\" size=+3.0>\n",
    "Etapa 2. Pré-processamento de dados\n",
    "    </font></h2>\n",
    "<p>\n",
    "<font face='Calibri' color=\"#001A56\" size=+0.8> \n",
    "Nessa etapa iremos análisar os problemas acima relatados e tratá-los caso seja possível."
   ]
  },
  {
   "cell_type": "markdown",
   "id": "658e5ac4",
   "metadata": {},
   "source": [
    "<a id='ausentes'></a>\n",
    "<h3><font face='Calibri' color=\"#013294\" size=+2.0>\n",
    "Analisando os valores ausentes. \n",
    "    </font></h3>\n",
    "<p>\n",
    "<font face='Calibri' color=\"#001A56\" size=+0.8> \n",
    "Primeiramente iremos analisar se o valores ausentes são simétricos."
   ]
  },
  {
   "cell_type": "code",
   "execution_count": 5,
   "id": "42b34907",
   "metadata": {},
   "outputs": [
    {
     "data": {
      "text/plain": [
       "children               0\n",
       "days_employed       2174\n",
       "dob_years              0\n",
       "education              0\n",
       "education_id           0\n",
       "family_status          0\n",
       "family_status_id       0\n",
       "gender                 0\n",
       "income_type            0\n",
       "debt                   0\n",
       "total_income        2174\n",
       "purpose                0\n",
       "dtype: int64"
      ]
     },
     "execution_count": 5,
     "metadata": {},
     "output_type": "execute_result"
    }
   ],
   "source": [
    "# Somando os valores ausentes.\n",
    "df.isna().sum()"
   ]
  },
  {
   "cell_type": "code",
   "execution_count": 6,
   "id": "1c281425",
   "metadata": {},
   "outputs": [
    {
     "data": {
      "text/plain": [
       "2174"
      ]
     },
     "execution_count": 6,
     "metadata": {},
     "output_type": "execute_result"
    }
   ],
   "source": [
    "# Filtrando os valores ausentes pela colunas days_employed\n",
    "missing = df[df['days_employed'].isna()]\n",
    "\n",
    "# Somando os valores ausentes da coluna total_income dos dados filtrados\n",
    "missing['total_income'].isna().sum()"
   ]
  },
  {
   "cell_type": "markdown",
   "id": "68e4a279",
   "metadata": {},
   "source": [
    "<font face='Calibri' color=\"#001A56\" size=+0.8> \n",
    "Primeiro filtrei em uma nova variável (<code>missing</code>) todas as linhas com valores ausentes na coluna <b>days_employed</b> e depois realizei a contagem de valores ausentes na coluna <b>total_income</b> da tabela filtrada e a contagem de valores ausentes foram iguais (2174), ou seja, os valores ausentes são simétricos, o que pode indicar que essas informações possuem relação.\n",
    "\n",
    "\n",
    "Irei verificar a distribuição dos valores ausentes em relação as outras informações dos clientes na tentativa de identificar algum padrão ou algo que justifique os valores ausentes. Ou então se há alguma tendência que deva ser levada em consideração quando for realizar os calculos para preenchimento dos valores ausentes."
   ]
  },
  {
   "cell_type": "code",
   "execution_count": 7,
   "id": "c0008c78",
   "metadata": {},
   "outputs": [
    {
     "data": {
      "text/plain": [
       "children             0.000000\n",
       "days_employed       11.234562\n",
       "dob_years            0.000000\n",
       "education            0.000000\n",
       "education_id         0.000000\n",
       "family_status        0.000000\n",
       "family_status_id     0.000000\n",
       "gender               0.000000\n",
       "income_type          0.000000\n",
       "debt                 0.000000\n",
       "total_income        11.234562\n",
       "purpose              0.000000\n",
       "dtype: float64"
      ]
     },
     "execution_count": 7,
     "metadata": {},
     "output_type": "execute_result"
    }
   ],
   "source": [
    "df.isna().sum() / df.count() * 100"
   ]
  },
  {
   "cell_type": "markdown",
   "id": "4948e75f",
   "metadata": {},
   "source": [
    "<font face='Calibri' color=\"#001A56\" size=+0.8> \n",
    "11,23% dos dados possuem valores ausentes."
   ]
  },
  {
   "cell_type": "code",
   "execution_count": 8,
   "id": "4592d7e1",
   "metadata": {},
   "outputs": [
    {
     "data": {
      "text/plain": [
       "employee         0.508280\n",
       "business         0.233671\n",
       "retiree          0.189972\n",
       "civil servant    0.067617\n",
       "entrepreneur     0.000460\n",
       "Name: income_type, dtype: float64"
      ]
     },
     "execution_count": 8,
     "metadata": {},
     "output_type": "execute_result"
    }
   ],
   "source": [
    "missing['income_type'].value_counts(normalize=True)"
   ]
  },
  {
   "cell_type": "code",
   "execution_count": 9,
   "id": "1e41de30",
   "metadata": {},
   "outputs": [
    {
     "data": {
      "text/plain": [
       "business                       0.099902\n",
       "civil servant                  0.100754\n",
       "employee                       0.099379\n",
       "entrepreneur                   0.500000\n",
       "paternity / maternity leave         NaN\n",
       "retiree                        0.107106\n",
       "student                             NaN\n",
       "unemployed                          NaN\n",
       "Name: income_type, dtype: float64"
      ]
     },
     "execution_count": 9,
     "metadata": {},
     "output_type": "execute_result"
    }
   ],
   "source": [
    "missing['income_type'].value_counts() / df['income_type'].value_counts()"
   ]
  },
  {
   "cell_type": "code",
   "execution_count": 10,
   "id": "625b11be",
   "metadata": {},
   "outputs": [
    {
     "data": {
      "text/plain": [
       "employee                       11119\n",
       "business                        5085\n",
       "retiree                         3856\n",
       "civil servant                   1459\n",
       "unemployed                         2\n",
       "entrepreneur                       2\n",
       "student                            1\n",
       "paternity / maternity leave        1\n",
       "Name: income_type, dtype: int64"
      ]
     },
     "execution_count": 10,
     "metadata": {},
     "output_type": "execute_result"
    }
   ],
   "source": [
    "df['income_type'].value_counts()"
   ]
  },
  {
   "cell_type": "code",
   "execution_count": 11,
   "id": "4561c954",
   "metadata": {},
   "outputs": [
    {
     "data": {
      "text/plain": [
       "secondary education    0.647654\n",
       "bachelor's degree      0.228151\n",
       "SECONDARY EDUCATION    0.030819\n",
       "Secondary Education    0.029899\n",
       "some college           0.025299\n",
       "Bachelor's Degree      0.011500\n",
       "BACHELOR'S DEGREE      0.010580\n",
       "primary education      0.008740\n",
       "Some College           0.003220\n",
       "SOME COLLEGE           0.003220\n",
       "Primary Education      0.000460\n",
       "PRIMARY EDUCATION      0.000460\n",
       "Name: education, dtype: float64"
      ]
     },
     "execution_count": 11,
     "metadata": {},
     "output_type": "execute_result"
    }
   ],
   "source": [
    "missing['education'].value_counts(normalize=True)"
   ]
  },
  {
   "cell_type": "code",
   "execution_count": 12,
   "id": "a6dc41af",
   "metadata": {},
   "outputs": [
    {
     "data": {
      "text/plain": [
       "BACHELOR'S DEGREE      0.083942\n",
       "Bachelor's Degree      0.093284\n",
       "GRADUATE DEGREE             NaN\n",
       "Graduate Degree             NaN\n",
       "PRIMARY EDUCATION      0.058824\n",
       "Primary Education      0.066667\n",
       "SECONDARY EDUCATION    0.086788\n",
       "SOME COLLEGE           0.241379\n",
       "Secondary Education    0.091421\n",
       "Some College           0.148936\n",
       "bachelor's degree      0.105129\n",
       "graduate degree             NaN\n",
       "primary education      0.076000\n",
       "secondary education    0.102400\n",
       "some college           0.082335\n",
       "Name: education, dtype: float64"
      ]
     },
     "execution_count": 12,
     "metadata": {},
     "output_type": "execute_result"
    }
   ],
   "source": [
    "missing['education'].value_counts() / df['education'].value_counts()"
   ]
  },
  {
   "cell_type": "code",
   "execution_count": 13,
   "id": "160b392e",
   "metadata": {},
   "outputs": [
    {
     "data": {
      "text/plain": [
       "F    0.682613\n",
       "M    0.317387\n",
       "Name: gender, dtype: float64"
      ]
     },
     "execution_count": 13,
     "metadata": {},
     "output_type": "execute_result"
    }
   ],
   "source": [
    "missing['gender'].value_counts(normalize=True)"
   ]
  },
  {
   "cell_type": "code",
   "execution_count": 14,
   "id": "28deda88",
   "metadata": {},
   "outputs": [
    {
     "data": {
      "text/plain": [
       "F      0.104243\n",
       "M      0.094676\n",
       "XNA         NaN\n",
       "Name: gender, dtype: float64"
      ]
     },
     "execution_count": 14,
     "metadata": {},
     "output_type": "execute_result"
    }
   ],
   "source": [
    "missing['gender'].value_counts() / df['gender'].value_counts()"
   ]
  },
  {
   "cell_type": "code",
   "execution_count": 15,
   "id": "01ba9566",
   "metadata": {},
   "outputs": [
    {
     "data": {
      "text/plain": [
       "married              0.568997\n",
       "civil partnership    0.203312\n",
       "unmarried            0.132475\n",
       "divorced             0.051518\n",
       "widow / widower      0.043698\n",
       "Name: family_status, dtype: float64"
      ]
     },
     "execution_count": 15,
     "metadata": {},
     "output_type": "execute_result"
    }
   ],
   "source": [
    "missing['family_status'].value_counts(normalize=True)"
   ]
  },
  {
   "cell_type": "code",
   "execution_count": 16,
   "id": "57300065",
   "metadata": {},
   "outputs": [
    {
     "data": {
      "text/plain": [
       "married              0.099919\n",
       "civil partnership    0.105818\n",
       "unmarried            0.102382\n",
       "divorced             0.093724\n",
       "widow / widower      0.098958\n",
       "Name: family_status, dtype: float64"
      ]
     },
     "execution_count": 16,
     "metadata": {},
     "output_type": "execute_result"
    }
   ],
   "source": [
    "missing['family_status'].value_counts() / df['family_status'].value_counts()"
   ]
  },
  {
   "cell_type": "code",
   "execution_count": 17,
   "id": "564029c1",
   "metadata": {},
   "outputs": [
    {
     "data": {
      "text/plain": [
       " 0     0.661914\n",
       " 1     0.218491\n",
       " 2     0.093836\n",
       " 3     0.016559\n",
       " 20    0.004140\n",
       " 4     0.003220\n",
       "-1     0.001380\n",
       " 5     0.000460\n",
       "Name: children, dtype: float64"
      ]
     },
     "execution_count": 17,
     "metadata": {},
     "output_type": "execute_result"
    }
   ],
   "source": [
    "missing['children'].value_counts(normalize=True)"
   ]
  },
  {
   "cell_type": "code",
   "execution_count": 18,
   "id": "a313f1f7",
   "metadata": {},
   "outputs": [
    {
     "data": {
      "text/plain": [
       "-1     0.063830\n",
       " 0     0.101703\n",
       " 1     0.098589\n",
       " 2     0.099270\n",
       " 3     0.109091\n",
       " 4     0.170732\n",
       " 5     0.111111\n",
       " 20    0.118421\n",
       "Name: children, dtype: float64"
      ]
     },
     "execution_count": 18,
     "metadata": {},
     "output_type": "execute_result"
    }
   ],
   "source": [
    "missing['children'].value_counts() / df['children'].value_counts() "
   ]
  },
  {
   "cell_type": "markdown",
   "id": "95c2750c",
   "metadata": {},
   "source": [
    "<font face='Calibri' color=\"#001A56\" size=+0.8> \n",
    "Não encontramos até o momento nenhum indicio que as demais informações dos clientes posssam estar relacionadas com os valores ausentes. Também notamos que os valores ausentes não estão distribuidos de maneira uniforme entre todas as descrições das demais características como educação e emprego, e que provavelmente isso deverá ser levado em conta na hora de calcularmos os valores substitutos.\n",
    "<br>  \n",
    "<p>\n",
    "Não há um motivo explícito para os valores ausentes nos dados, aparentemente os valores parecem ser aleatórios, pelo menos não conseguimos encontrar nenhuma relação com outra informação até o momento. Acreditamos que exista uma relação, mas que seja justamente entre <b>days_employed</b> e <b>total_income</b>, justificando que os valores ausentes sejam simétricos.\n",
    "    \n",
    "<p>\n",
    "Analisaremos agora a distribuição dos valores ausentes no DataFrame completo e copararemos com os dados filtrados em <code>missing</code>"
   ]
  },
  {
   "cell_type": "code",
   "execution_count": 19,
   "id": "45b05811",
   "metadata": {},
   "outputs": [],
   "source": [
    "# Salvando uma cópia dos dados originais\n",
    "copy = df\n",
    "\n",
    "# Preenchedo os valores ousentes\n",
    "copy = copy.fillna('unknow')\n",
    "\n",
    "# Criando uma função para atribuir números aos dados com valores ausentes\n",
    "def ausencias(total_income):\n",
    "    if total_income == 'unknow':\n",
    "        return 1\n",
    "    else:\n",
    "        return 0\n",
    "\n",
    "# Criando uma coluna com a informação de dados ausentes.\n",
    "copy['ausentes'] = copy['total_income'].apply(ausencias)"
   ]
  },
  {
   "cell_type": "code",
   "execution_count": 20,
   "id": "a8ce7f1f",
   "metadata": {},
   "outputs": [
    {
     "data": {
      "text/html": [
       "<div>\n",
       "<style scoped>\n",
       "    .dataframe tbody tr th:only-of-type {\n",
       "        vertical-align: middle;\n",
       "    }\n",
       "\n",
       "    .dataframe tbody tr th {\n",
       "        vertical-align: top;\n",
       "    }\n",
       "\n",
       "    .dataframe thead th {\n",
       "        text-align: right;\n",
       "    }\n",
       "</style>\n",
       "<table border=\"1\" class=\"dataframe\">\n",
       "  <thead>\n",
       "    <tr style=\"text-align: right;\">\n",
       "      <th>education_id</th>\n",
       "      <th>0</th>\n",
       "      <th>1</th>\n",
       "      <th>2</th>\n",
       "      <th>3</th>\n",
       "      <th>4</th>\n",
       "      <th>All</th>\n",
       "    </tr>\n",
       "    <tr>\n",
       "      <th>income_type</th>\n",
       "      <th></th>\n",
       "      <th></th>\n",
       "      <th></th>\n",
       "      <th></th>\n",
       "      <th></th>\n",
       "      <th></th>\n",
       "    </tr>\n",
       "  </thead>\n",
       "  <tbody>\n",
       "    <tr>\n",
       "      <th>business</th>\n",
       "      <td>188.0</td>\n",
       "      <td>299.0</td>\n",
       "      <td>20.0</td>\n",
       "      <td>1.0</td>\n",
       "      <td>NaN</td>\n",
       "      <td>508</td>\n",
       "    </tr>\n",
       "    <tr>\n",
       "      <th>civil servant</th>\n",
       "      <td>62.0</td>\n",
       "      <td>77.0</td>\n",
       "      <td>6.0</td>\n",
       "      <td>2.0</td>\n",
       "      <td>0.0</td>\n",
       "      <td>147</td>\n",
       "    </tr>\n",
       "    <tr>\n",
       "      <th>employee</th>\n",
       "      <td>236.0</td>\n",
       "      <td>820.0</td>\n",
       "      <td>37.0</td>\n",
       "      <td>12.0</td>\n",
       "      <td>0.0</td>\n",
       "      <td>1105</td>\n",
       "    </tr>\n",
       "    <tr>\n",
       "      <th>entrepreneur</th>\n",
       "      <td>1.0</td>\n",
       "      <td>NaN</td>\n",
       "      <td>NaN</td>\n",
       "      <td>NaN</td>\n",
       "      <td>NaN</td>\n",
       "      <td>1</td>\n",
       "    </tr>\n",
       "    <tr>\n",
       "      <th>paternity / maternity leave</th>\n",
       "      <td>NaN</td>\n",
       "      <td>0.0</td>\n",
       "      <td>NaN</td>\n",
       "      <td>NaN</td>\n",
       "      <td>NaN</td>\n",
       "      <td>0</td>\n",
       "    </tr>\n",
       "    <tr>\n",
       "      <th>retiree</th>\n",
       "      <td>57.0</td>\n",
       "      <td>344.0</td>\n",
       "      <td>6.0</td>\n",
       "      <td>6.0</td>\n",
       "      <td>0.0</td>\n",
       "      <td>413</td>\n",
       "    </tr>\n",
       "    <tr>\n",
       "      <th>student</th>\n",
       "      <td>0.0</td>\n",
       "      <td>NaN</td>\n",
       "      <td>NaN</td>\n",
       "      <td>NaN</td>\n",
       "      <td>NaN</td>\n",
       "      <td>0</td>\n",
       "    </tr>\n",
       "    <tr>\n",
       "      <th>unemployed</th>\n",
       "      <td>0.0</td>\n",
       "      <td>0.0</td>\n",
       "      <td>NaN</td>\n",
       "      <td>NaN</td>\n",
       "      <td>NaN</td>\n",
       "      <td>0</td>\n",
       "    </tr>\n",
       "    <tr>\n",
       "      <th>All</th>\n",
       "      <td>544.0</td>\n",
       "      <td>1540.0</td>\n",
       "      <td>69.0</td>\n",
       "      <td>21.0</td>\n",
       "      <td>0.0</td>\n",
       "      <td>2174</td>\n",
       "    </tr>\n",
       "  </tbody>\n",
       "</table>\n",
       "</div>"
      ],
      "text/plain": [
       "education_id                     0       1     2     3    4   All\n",
       "income_type                                                      \n",
       "business                     188.0   299.0  20.0   1.0  NaN   508\n",
       "civil servant                 62.0    77.0   6.0   2.0  0.0   147\n",
       "employee                     236.0   820.0  37.0  12.0  0.0  1105\n",
       "entrepreneur                   1.0     NaN   NaN   NaN  NaN     1\n",
       "paternity / maternity leave    NaN     0.0   NaN   NaN  NaN     0\n",
       "retiree                       57.0   344.0   6.0   6.0  0.0   413\n",
       "student                        0.0     NaN   NaN   NaN  NaN     0\n",
       "unemployed                     0.0     0.0   NaN   NaN  NaN     0\n",
       "All                          544.0  1540.0  69.0  21.0  0.0  2174"
      ]
     },
     "execution_count": 20,
     "metadata": {},
     "output_type": "execute_result"
    }
   ],
   "source": [
    "# Criando uma tabela com a informação de dados ausentes conforme a educação e tipo da renda.\n",
    "copy.pivot_table(index='income_type', columns='education_id', values='ausentes',  aggfunc='sum', margins=True)"
   ]
  },
  {
   "cell_type": "code",
   "execution_count": 21,
   "id": "9ce96fdd",
   "metadata": {},
   "outputs": [
    {
     "data": {
      "text/html": [
       "<div>\n",
       "<style scoped>\n",
       "    .dataframe tbody tr th:only-of-type {\n",
       "        vertical-align: middle;\n",
       "    }\n",
       "\n",
       "    .dataframe tbody tr th {\n",
       "        vertical-align: top;\n",
       "    }\n",
       "\n",
       "    .dataframe thead th {\n",
       "        text-align: right;\n",
       "    }\n",
       "</style>\n",
       "<table border=\"1\" class=\"dataframe\">\n",
       "  <thead>\n",
       "    <tr style=\"text-align: right;\">\n",
       "      <th>family_status</th>\n",
       "      <th>civil partnership</th>\n",
       "      <th>divorced</th>\n",
       "      <th>married</th>\n",
       "      <th>unmarried</th>\n",
       "      <th>widow / widower</th>\n",
       "      <th>All</th>\n",
       "    </tr>\n",
       "    <tr>\n",
       "      <th>gender</th>\n",
       "      <th></th>\n",
       "      <th></th>\n",
       "      <th></th>\n",
       "      <th></th>\n",
       "      <th></th>\n",
       "      <th></th>\n",
       "    </tr>\n",
       "  </thead>\n",
       "  <tbody>\n",
       "    <tr>\n",
       "      <th>F</th>\n",
       "      <td>309.0</td>\n",
       "      <td>93.0</td>\n",
       "      <td>800.0</td>\n",
       "      <td>192.0</td>\n",
       "      <td>90.0</td>\n",
       "      <td>1484</td>\n",
       "    </tr>\n",
       "    <tr>\n",
       "      <th>M</th>\n",
       "      <td>133.0</td>\n",
       "      <td>19.0</td>\n",
       "      <td>437.0</td>\n",
       "      <td>96.0</td>\n",
       "      <td>5.0</td>\n",
       "      <td>690</td>\n",
       "    </tr>\n",
       "    <tr>\n",
       "      <th>XNA</th>\n",
       "      <td>0.0</td>\n",
       "      <td>NaN</td>\n",
       "      <td>NaN</td>\n",
       "      <td>NaN</td>\n",
       "      <td>NaN</td>\n",
       "      <td>0</td>\n",
       "    </tr>\n",
       "    <tr>\n",
       "      <th>All</th>\n",
       "      <td>442.0</td>\n",
       "      <td>112.0</td>\n",
       "      <td>1237.0</td>\n",
       "      <td>288.0</td>\n",
       "      <td>95.0</td>\n",
       "      <td>2174</td>\n",
       "    </tr>\n",
       "  </tbody>\n",
       "</table>\n",
       "</div>"
      ],
      "text/plain": [
       "family_status  civil partnership  divorced  married  unmarried  \\\n",
       "gender                                                           \n",
       "F                          309.0      93.0    800.0      192.0   \n",
       "M                          133.0      19.0    437.0       96.0   \n",
       "XNA                          0.0       NaN      NaN        NaN   \n",
       "All                        442.0     112.0   1237.0      288.0   \n",
       "\n",
       "family_status  widow / widower   All  \n",
       "gender                                \n",
       "F                         90.0  1484  \n",
       "M                          5.0   690  \n",
       "XNA                        NaN     0  \n",
       "All                       95.0  2174  "
      ]
     },
     "execution_count": 21,
     "metadata": {},
     "output_type": "execute_result"
    }
   ],
   "source": [
    "# Criando uma tabela com a informação de dados ausentes conforme o gênero e status familiar.\n",
    "copy.pivot_table(index='gender', columns='family_status', values='ausentes',  aggfunc='sum', margins=True)"
   ]
  },
  {
   "cell_type": "code",
   "execution_count": 22,
   "id": "620df6b2",
   "metadata": {},
   "outputs": [
    {
     "data": {
      "text/plain": [
       "employee                       0.516562\n",
       "business                       0.236237\n",
       "retiree                        0.179141\n",
       "civil servant                  0.067782\n",
       "unemployed                     0.000093\n",
       "entrepreneur                   0.000093\n",
       "student                        0.000046\n",
       "paternity / maternity leave    0.000046\n",
       "Name: income_type, dtype: float64"
      ]
     },
     "execution_count": 22,
     "metadata": {},
     "output_type": "execute_result"
    }
   ],
   "source": [
    "df['income_type'].value_counts(normalize=True)"
   ]
  },
  {
   "cell_type": "code",
   "execution_count": 23,
   "id": "1e6dfe2f",
   "metadata": {},
   "outputs": [
    {
     "data": {
      "text/plain": [
       "employee         0.508280\n",
       "business         0.233671\n",
       "retiree          0.189972\n",
       "civil servant    0.067617\n",
       "entrepreneur     0.000460\n",
       "Name: income_type, dtype: float64"
      ]
     },
     "execution_count": 23,
     "metadata": {},
     "output_type": "execute_result"
    }
   ],
   "source": [
    "missing['income_type'].value_counts(normalize=True)"
   ]
  },
  {
   "cell_type": "code",
   "execution_count": 24,
   "id": "3985b6a1",
   "metadata": {},
   "outputs": [
    {
     "data": {
      "text/plain": [
       "secondary education    0.638792\n",
       "bachelor's degree      0.219187\n",
       "SECONDARY EDUCATION    0.035865\n",
       "Secondary Education    0.033031\n",
       "some college           0.031034\n",
       "BACHELOR'S DEGREE      0.012729\n",
       "Bachelor's Degree      0.012451\n",
       "primary education      0.011614\n",
       "Some College           0.002184\n",
       "SOME COLLEGE           0.001347\n",
       "PRIMARY EDUCATION      0.000790\n",
       "Primary Education      0.000697\n",
       "graduate degree        0.000186\n",
       "Graduate Degree        0.000046\n",
       "GRADUATE DEGREE        0.000046\n",
       "Name: education, dtype: float64"
      ]
     },
     "execution_count": 24,
     "metadata": {},
     "output_type": "execute_result"
    }
   ],
   "source": [
    "df['education'].value_counts(normalize=True)"
   ]
  },
  {
   "cell_type": "code",
   "execution_count": 25,
   "id": "43ea15f6",
   "metadata": {},
   "outputs": [
    {
     "data": {
      "text/plain": [
       "secondary education    0.647654\n",
       "bachelor's degree      0.228151\n",
       "SECONDARY EDUCATION    0.030819\n",
       "Secondary Education    0.029899\n",
       "some college           0.025299\n",
       "Bachelor's Degree      0.011500\n",
       "BACHELOR'S DEGREE      0.010580\n",
       "primary education      0.008740\n",
       "Some College           0.003220\n",
       "SOME COLLEGE           0.003220\n",
       "Primary Education      0.000460\n",
       "PRIMARY EDUCATION      0.000460\n",
       "Name: education, dtype: float64"
      ]
     },
     "execution_count": 25,
     "metadata": {},
     "output_type": "execute_result"
    }
   ],
   "source": [
    "missing['education'].value_counts(normalize=True)"
   ]
  },
  {
   "cell_type": "code",
   "execution_count": 26,
   "id": "3dbc6d03",
   "metadata": {},
   "outputs": [
    {
     "data": {
      "text/plain": [
       "F      0.661370\n",
       "M      0.338583\n",
       "XNA    0.000046\n",
       "Name: gender, dtype: float64"
      ]
     },
     "execution_count": 26,
     "metadata": {},
     "output_type": "execute_result"
    }
   ],
   "source": [
    "df['gender'].value_counts(normalize=True)"
   ]
  },
  {
   "cell_type": "code",
   "execution_count": 27,
   "id": "0d605a3d",
   "metadata": {},
   "outputs": [
    {
     "data": {
      "text/plain": [
       "F    0.682613\n",
       "M    0.317387\n",
       "Name: gender, dtype: float64"
      ]
     },
     "execution_count": 27,
     "metadata": {},
     "output_type": "execute_result"
    }
   ],
   "source": [
    "missing['gender'].value_counts(normalize=True)"
   ]
  },
  {
   "cell_type": "code",
   "execution_count": 28,
   "id": "0750687c",
   "metadata": {},
   "outputs": [
    {
     "data": {
      "text/plain": [
       "married              0.575145\n",
       "civil partnership    0.194053\n",
       "unmarried            0.130685\n",
       "divorced             0.055517\n",
       "widow / widower      0.044599\n",
       "Name: family_status, dtype: float64"
      ]
     },
     "execution_count": 28,
     "metadata": {},
     "output_type": "execute_result"
    }
   ],
   "source": [
    "df['family_status'].value_counts(normalize=True)"
   ]
  },
  {
   "cell_type": "code",
   "execution_count": 29,
   "id": "c307c2ef",
   "metadata": {},
   "outputs": [
    {
     "data": {
      "text/plain": [
       "married              0.568997\n",
       "civil partnership    0.203312\n",
       "unmarried            0.132475\n",
       "divorced             0.051518\n",
       "widow / widower      0.043698\n",
       "Name: family_status, dtype: float64"
      ]
     },
     "execution_count": 29,
     "metadata": {},
     "output_type": "execute_result"
    }
   ],
   "source": [
    "missing['family_status'].value_counts(normalize=True)"
   ]
  },
  {
   "cell_type": "code",
   "execution_count": 30,
   "id": "718e7d7c",
   "metadata": {},
   "outputs": [
    {
     "data": {
      "text/plain": [
       "35    0.028664\n",
       "40    0.028293\n",
       "41    0.028200\n",
       "34    0.028014\n",
       "38    0.027782\n",
       "42    0.027735\n",
       "33    0.026992\n",
       "39    0.026620\n",
       "31    0.026016\n",
       "36    0.025784\n",
       "44    0.025412\n",
       "29    0.025319\n",
       "30    0.025087\n",
       "48    0.024994\n",
       "37    0.024948\n",
       "50    0.023879\n",
       "43    0.023833\n",
       "32    0.023693\n",
       "49    0.023600\n",
       "28    0.023368\n",
       "45    0.023089\n",
       "27    0.022904\n",
       "56    0.022625\n",
       "52    0.022485\n",
       "47    0.022300\n",
       "54    0.022253\n",
       "46    0.022067\n",
       "58    0.021417\n",
       "57    0.021370\n",
       "53    0.021324\n",
       "51    0.020813\n",
       "59    0.020627\n",
       "55    0.020581\n",
       "26    0.018955\n",
       "60    0.017515\n",
       "25    0.016585\n",
       "61    0.016492\n",
       "62    0.016353\n",
       "63    0.012497\n",
       "64    0.012311\n",
       "24    0.012265\n",
       "23    0.011800\n",
       "65    0.009013\n",
       "22    0.008502\n",
       "66    0.008502\n",
       "67    0.007758\n",
       "21    0.005157\n",
       "0     0.004692\n",
       "68    0.004599\n",
       "69    0.003949\n",
       "70    0.003020\n",
       "71    0.002695\n",
       "20    0.002369\n",
       "72    0.001533\n",
       "19    0.000650\n",
       "73    0.000372\n",
       "74    0.000279\n",
       "75    0.000046\n",
       "Name: dob_years, dtype: float64"
      ]
     },
     "execution_count": 30,
     "metadata": {},
     "output_type": "execute_result"
    }
   ],
   "source": [
    "df['dob_years'].sort_values(ascending=True).value_counts(normalize=True)"
   ]
  },
  {
   "cell_type": "code",
   "execution_count": 31,
   "id": "f4f53897",
   "metadata": {},
   "outputs": [
    {
     "data": {
      "text/plain": [
       "34    0.031739\n",
       "40    0.030359\n",
       "31    0.029899\n",
       "42    0.029899\n",
       "35    0.029439\n",
       "36    0.028979\n",
       "47    0.027139\n",
       "41    0.027139\n",
       "30    0.026679\n",
       "28    0.026219\n",
       "58    0.025759\n",
       "57    0.025759\n",
       "54    0.025299\n",
       "38    0.024839\n",
       "56    0.024839\n",
       "52    0.024379\n",
       "37    0.024379\n",
       "33    0.023459\n",
       "50    0.023459\n",
       "39    0.023459\n",
       "51    0.022999\n",
       "49    0.022999\n",
       "45    0.022999\n",
       "29    0.022999\n",
       "43    0.022999\n",
       "55    0.022079\n",
       "46    0.022079\n",
       "48    0.021159\n",
       "44    0.020239\n",
       "53    0.020239\n",
       "60    0.017939\n",
       "62    0.017479\n",
       "61    0.017479\n",
       "64    0.017019\n",
       "32    0.017019\n",
       "27    0.016559\n",
       "23    0.016559\n",
       "26    0.016099\n",
       "59    0.015639\n",
       "63    0.013339\n",
       "25    0.010580\n",
       "24    0.009660\n",
       "66    0.009200\n",
       "65    0.009200\n",
       "21    0.008280\n",
       "22    0.007820\n",
       "67    0.007360\n",
       "0     0.004600\n",
       "68    0.004140\n",
       "20    0.002300\n",
       "69    0.002300\n",
       "71    0.002300\n",
       "70    0.001380\n",
       "72    0.000920\n",
       "19    0.000460\n",
       "73    0.000460\n",
       "Name: dob_years, dtype: float64"
      ]
     },
     "execution_count": 31,
     "metadata": {},
     "output_type": "execute_result"
    }
   ],
   "source": [
    "missing['dob_years'].sort_values(ascending=True).value_counts(normalize=True)"
   ]
  },
  {
   "cell_type": "markdown",
   "id": "ca255394",
   "metadata": {},
   "source": [
    "<font face='Calibri' color=\"#001A56\" size=+0.8> \n",
    "As distribuiçãos em ambos os conjuntos são semelhantes, por isso consideramos os dados ausentes como aleatórios.\n",
    "    \n",
    "Não encontramos nenhum padrão que possa explicar os dados ausentes, pois esses dados estão presentes em quase todas as categorias das demais colunas, dessa forma não havendo nenhuma correlação direta com outra informação do cliente.\n",
    "\n",
    "Antes de tratar os valores ausentes iremos analisar os dados isolados de cada coluna para tratar possíveis erros presentes, feito isso, iremos verificar a variação dos valores conforme outras caracteristicas dos clientes, como educação e emprego. E por último analisaremos qual a melhor forma de preencher esses valores, com a média ou mediana, e se os valores serão relacionados a outras caracteristicas.\n",
    "    \n",
    "[Voltar ao Índice](#back)"
   ]
  },
  {
   "cell_type": "markdown",
   "id": "22cc7ccf",
   "metadata": {},
   "source": [
    "<a id='education'></a>\n",
    "<h3><font face='Calibri' color=\"#013294\" size=+2.0>\n",
    "Analisando os dados da coluna <b>education</b>.\n",
    "    </font></h3>\n",
    "<p>\n",
    "<font face='Calibri' color=\"#001A56\" size=+0.8> \n",
    "Analisaremos agora as informações da coluna <b>education</b>, pelo oque foi possível observar nas etapas anteriores temos informações iguais porém escritas de formas diferentes, vejamos:"
   ]
  },
  {
   "cell_type": "code",
   "execution_count": 32,
   "id": "f4055e1b",
   "metadata": {},
   "outputs": [
    {
     "data": {
      "text/plain": [
       "array([\"bachelor's degree\", 'secondary education', 'Secondary Education',\n",
       "       'SECONDARY EDUCATION', \"BACHELOR'S DEGREE\", 'some college',\n",
       "       'primary education', \"Bachelor's Degree\", 'SOME COLLEGE',\n",
       "       'Some College', 'PRIMARY EDUCATION', 'Primary Education',\n",
       "       'Graduate Degree', 'GRADUATE DEGREE', 'graduate degree'],\n",
       "      dtype=object)"
      ]
     },
     "execution_count": 32,
     "metadata": {},
     "output_type": "execute_result"
    }
   ],
   "source": [
    "# Exibindo os resulados unívocos da coluna education.\n",
    "df['education'].unique()"
   ]
  },
  {
   "cell_type": "code",
   "execution_count": 33,
   "id": "42a6977c",
   "metadata": {},
   "outputs": [
    {
     "data": {
      "text/plain": [
       "array([\"bachelor's degree\", 'secondary education', 'some college',\n",
       "       'primary education', 'graduate degree'], dtype=object)"
      ]
     },
     "execution_count": 33,
     "metadata": {},
     "output_type": "execute_result"
    }
   ],
   "source": [
    "# Alterando todos os resultados para letras minúsculas\n",
    "df['education'] = df['education'].str.lower()\n",
    "\n",
    "# Exibindo os resulados unívocos da coluna education após alteração.\n",
    "df['education'].unique()"
   ]
  },
  {
   "cell_type": "code",
   "execution_count": 34,
   "id": "773028e3",
   "metadata": {},
   "outputs": [
    {
     "data": {
      "text/plain": [
       "secondary education    0.707689\n",
       "bachelor's degree      0.244367\n",
       "some college           0.034564\n",
       "primary education      0.013101\n",
       "graduate degree        0.000279\n",
       "Name: education, dtype: float64"
      ]
     },
     "execution_count": 34,
     "metadata": {},
     "output_type": "execute_result"
    }
   ],
   "source": [
    "df['education'].value_counts(normalize=True)"
   ]
  },
  {
   "cell_type": "code",
   "execution_count": 35,
   "id": "05d97c43",
   "metadata": {},
   "outputs": [
    {
     "data": {
      "text/plain": [
       "secondary education    15233\n",
       "bachelor's degree       5260\n",
       "some college             744\n",
       "primary education        282\n",
       "graduate degree            6\n",
       "Name: education, dtype: int64"
      ]
     },
     "execution_count": 35,
     "metadata": {},
     "output_type": "execute_result"
    }
   ],
   "source": [
    "df['education'].value_counts()"
   ]
  },
  {
   "cell_type": "markdown",
   "id": "6304e0b9",
   "metadata": {},
   "source": [
    "<font face='Calibri' color=\"#001A56\" size=+0.8>\n",
    "Os dados foram corrigidos, agora temos apenas 5 resultados possíveis para a coluna <b>education</b>.\n",
    "    \n",
    "[Voltar ao Índice](#back)"
   ]
  },
  {
   "cell_type": "markdown",
   "id": "b83b42b1",
   "metadata": {},
   "source": [
    "<a id='children'></a>\n",
    "<h3><font face='Calibri' color=\"#013294\" size=+2.0>\n",
    "Analisando os dados da coluna children.\n",
    "</font></h3>\n",
    "<p>\n",
    "<font face='Calibri' color=\"#001A56\" size=+0.8>\n",
    "    Analisaremos agora os dados da coluna children."
   ]
  },
  {
   "cell_type": "code",
   "execution_count": 36,
   "id": "848cce1b",
   "metadata": {},
   "outputs": [
    {
     "data": {
      "text/plain": [
       " 0     0.657329\n",
       " 1     0.223833\n",
       " 2     0.095470\n",
       " 3     0.015331\n",
       " 20    0.003531\n",
       "-1     0.002184\n",
       " 4     0.001905\n",
       " 5     0.000418\n",
       "Name: children, dtype: float64"
      ]
     },
     "execution_count": 36,
     "metadata": {},
     "output_type": "execute_result"
    }
   ],
   "source": [
    "# Quantidade de valores da coluna\n",
    "df['children'].value_counts(normalize=True)"
   ]
  },
  {
   "cell_type": "markdown",
   "id": "0b343ea6",
   "metadata": {},
   "source": [
    "<font face='Calibri' color=\"#001A56\" size=+0.8>\n",
    "Há dois tipos de dados com erros. O primeiro são os com valores -1 (0,21%), pois é impossível alguém ter 1 filho negativo, e o segundo são com valores 20  (0,35%), sabemos que atualmente as familias não são mais tão grandes como antigamente e com 20 filhos seria quase impossível.\n",
    "\n",
    "Acredito que ambos casos tenham sidos erros de digitação, provavelmente essas pessoas tinham a intenção de digitar 1 e 2, que são valores mais realistas para essa informação, como podemos ver pelos demais dados da coluna.\n",
    "\n",
    "Por acreditar que esses são erros de digitação e por representarem uma quantidade muito pequena de dados, aproximadamente 0,56%, eu irei corrigir esses valores para 1 e 2."
   ]
  },
  {
   "cell_type": "code",
   "execution_count": 37,
   "id": "20282987",
   "metadata": {},
   "outputs": [
    {
     "data": {
      "text/plain": [
       "0    0.657329\n",
       "1    0.226016\n",
       "2    0.099001\n",
       "3    0.015331\n",
       "4    0.001905\n",
       "5    0.000418\n",
       "Name: children, dtype: float64"
      ]
     },
     "execution_count": 37,
     "metadata": {},
     "output_type": "execute_result"
    }
   ],
   "source": [
    "# Subistituindo os resultados 20 por 2.\n",
    "df['children'] = df['children'].replace(20,2)\n",
    "\n",
    "# Subistituindo os resultados -1 por 1.\n",
    "df['children'] = df['children'].replace(-1,1)\n",
    "\n",
    "# Quantidade de valores da coluna\n",
    "df['children'].value_counts(normalize=True)"
   ]
  },
  {
   "cell_type": "markdown",
   "id": "68ebf4b5",
   "metadata": {},
   "source": [
    "<font face='Calibri' color=\"#001A56\" size=+0.8>\n",
    "Os valores foram subistiuidos e não alteraram significativamente as proporções dos demais dados."
   ]
  },
  {
   "cell_type": "markdown",
   "id": "ff8d31e7",
   "metadata": {},
   "source": [
    "<a id='days_employed'></a>\n",
    "<h3><font face='Calibri' color=\"#013294\" size=+2.0>\n",
    "Analisando os dados da coluna days_employed.\n",
    "</font></h3>\n",
    "<p>\n",
    "<font face='Calibri' color=\"#001A56\" size=+0.8>\n",
    "    "
   ]
  },
  {
   "cell_type": "code",
   "execution_count": 38,
   "id": "c14b0132",
   "metadata": {},
   "outputs": [
    {
     "data": {
      "text/plain": [
       "count     19351.000000\n",
       "mean      63046.497661\n",
       "std      140827.311974\n",
       "min      -18388.949901\n",
       "25%       -2747.423625\n",
       "50%       -1203.369529\n",
       "75%        -291.095954\n",
       "max      401755.400475\n",
       "Name: days_employed, dtype: float64"
      ]
     },
     "execution_count": 38,
     "metadata": {},
     "output_type": "execute_result"
    }
   ],
   "source": [
    "df['days_employed'].describe()"
   ]
  },
  {
   "cell_type": "code",
   "execution_count": 39,
   "id": "5bc1183f",
   "metadata": {},
   "outputs": [
    {
     "data": {
      "text/plain": [
       "children            0.738955\n",
       "days_employed       0.821973\n",
       "dob_years           0.738955\n",
       "education           0.738955\n",
       "education_id        0.738955\n",
       "family_status       0.738955\n",
       "family_status_id    0.738955\n",
       "gender              0.738955\n",
       "income_type         0.738955\n",
       "debt                0.738955\n",
       "total_income        0.821973\n",
       "purpose             0.738955\n",
       "dtype: float64"
      ]
     },
     "execution_count": 39,
     "metadata": {},
     "output_type": "execute_result"
    }
   ],
   "source": [
    "df[df['days_employed'] <= 0].count() / df.count()"
   ]
  },
  {
   "cell_type": "code",
   "execution_count": 40,
   "id": "0690f72e",
   "metadata": {},
   "outputs": [
    {
     "data": {
      "text/plain": [
       "children            15906\n",
       "days_employed       15906\n",
       "dob_years           15906\n",
       "education           15906\n",
       "education_id        15906\n",
       "family_status       15906\n",
       "family_status_id    15906\n",
       "gender              15906\n",
       "income_type         15906\n",
       "debt                15906\n",
       "total_income        15906\n",
       "purpose             15906\n",
       "dtype: int64"
      ]
     },
     "execution_count": 40,
     "metadata": {},
     "output_type": "execute_result"
    }
   ],
   "source": [
    "df[df['days_employed'] < 0].count()"
   ]
  },
  {
   "cell_type": "code",
   "execution_count": 41,
   "id": "5697609f",
   "metadata": {},
   "outputs": [
    {
     "data": {
      "text/plain": [
       "children            3445\n",
       "days_employed       3445\n",
       "dob_years           3445\n",
       "education           3445\n",
       "education_id        3445\n",
       "family_status       3445\n",
       "family_status_id    3445\n",
       "gender              3445\n",
       "income_type         3445\n",
       "debt                3445\n",
       "total_income        3445\n",
       "purpose             3445\n",
       "dtype: int64"
      ]
     },
     "execution_count": 41,
     "metadata": {},
     "output_type": "execute_result"
    }
   ],
   "source": [
    "df[df['days_employed'] >= 0].count()"
   ]
  },
  {
   "cell_type": "code",
   "execution_count": 42,
   "id": "c39cac5c",
   "metadata": {},
   "outputs": [
    {
     "data": {
      "text/html": [
       "<div>\n",
       "<style scoped>\n",
       "    .dataframe tbody tr th:only-of-type {\n",
       "        vertical-align: middle;\n",
       "    }\n",
       "\n",
       "    .dataframe tbody tr th {\n",
       "        vertical-align: top;\n",
       "    }\n",
       "\n",
       "    .dataframe thead th {\n",
       "        text-align: right;\n",
       "    }\n",
       "</style>\n",
       "<table border=\"1\" class=\"dataframe\">\n",
       "  <thead>\n",
       "    <tr style=\"text-align: right;\">\n",
       "      <th></th>\n",
       "      <th>children</th>\n",
       "      <th>days_employed</th>\n",
       "      <th>dob_years</th>\n",
       "      <th>education</th>\n",
       "      <th>education_id</th>\n",
       "      <th>family_status</th>\n",
       "      <th>family_status_id</th>\n",
       "      <th>gender</th>\n",
       "      <th>income_type</th>\n",
       "      <th>debt</th>\n",
       "      <th>total_income</th>\n",
       "      <th>purpose</th>\n",
       "    </tr>\n",
       "  </thead>\n",
       "  <tbody>\n",
       "    <tr>\n",
       "      <th>3133</th>\n",
       "      <td>1</td>\n",
       "      <td>337524.466835</td>\n",
       "      <td>31</td>\n",
       "      <td>secondary education</td>\n",
       "      <td>1</td>\n",
       "      <td>married</td>\n",
       "      <td>0</td>\n",
       "      <td>M</td>\n",
       "      <td>unemployed</td>\n",
       "      <td>1</td>\n",
       "      <td>9593.119</td>\n",
       "      <td>buying property for renting out</td>\n",
       "    </tr>\n",
       "    <tr>\n",
       "      <th>14798</th>\n",
       "      <td>0</td>\n",
       "      <td>395302.838654</td>\n",
       "      <td>45</td>\n",
       "      <td>bachelor's degree</td>\n",
       "      <td>0</td>\n",
       "      <td>civil partnership</td>\n",
       "      <td>1</td>\n",
       "      <td>F</td>\n",
       "      <td>unemployed</td>\n",
       "      <td>0</td>\n",
       "      <td>32435.602</td>\n",
       "      <td>housing renovation</td>\n",
       "    </tr>\n",
       "  </tbody>\n",
       "</table>\n",
       "</div>"
      ],
      "text/plain": [
       "       children  days_employed  dob_years            education  education_id  \\\n",
       "3133          1  337524.466835         31  secondary education             1   \n",
       "14798         0  395302.838654         45    bachelor's degree             0   \n",
       "\n",
       "           family_status  family_status_id gender income_type  debt  \\\n",
       "3133             married                 0      M  unemployed     1   \n",
       "14798  civil partnership                 1      F  unemployed     0   \n",
       "\n",
       "       total_income                          purpose  \n",
       "3133       9593.119  buying property for renting out  \n",
       "14798     32435.602               housing renovation  "
      ]
     },
     "execution_count": 42,
     "metadata": {},
     "output_type": "execute_result"
    }
   ],
   "source": [
    "# Filtrando os dados dos clientes desempregados\n",
    "unemployed = df[df['income_type'] == 'unemployed']\n",
    "\n",
    "# Exibindo as primeiras linhas\n",
    "unemployed.head()"
   ]
  },
  {
   "cell_type": "code",
   "execution_count": 43,
   "id": "34b78e14",
   "metadata": {},
   "outputs": [
    {
     "data": {
      "text/plain": [
       "children            2\n",
       "days_employed       2\n",
       "dob_years           2\n",
       "education           2\n",
       "education_id        2\n",
       "family_status       2\n",
       "family_status_id    2\n",
       "gender              2\n",
       "income_type         2\n",
       "debt                2\n",
       "total_income        2\n",
       "purpose             2\n",
       "dtype: int64"
      ]
     },
     "execution_count": 43,
     "metadata": {},
     "output_type": "execute_result"
    }
   ],
   "source": [
    "unemployed[unemployed['days_employed'] > 0].count()"
   ]
  },
  {
   "cell_type": "code",
   "execution_count": 44,
   "id": "db7277c8",
   "metadata": {},
   "outputs": [
    {
     "data": {
      "text/html": [
       "<div>\n",
       "<style scoped>\n",
       "    .dataframe tbody tr th:only-of-type {\n",
       "        vertical-align: middle;\n",
       "    }\n",
       "\n",
       "    .dataframe tbody tr th {\n",
       "        vertical-align: top;\n",
       "    }\n",
       "\n",
       "    .dataframe thead th {\n",
       "        text-align: right;\n",
       "    }\n",
       "</style>\n",
       "<table border=\"1\" class=\"dataframe\">\n",
       "  <thead>\n",
       "    <tr style=\"text-align: right;\">\n",
       "      <th></th>\n",
       "      <th>children</th>\n",
       "      <th>days_employed</th>\n",
       "      <th>dob_years</th>\n",
       "      <th>education</th>\n",
       "      <th>education_id</th>\n",
       "      <th>family_status</th>\n",
       "      <th>family_status_id</th>\n",
       "      <th>gender</th>\n",
       "      <th>income_type</th>\n",
       "      <th>debt</th>\n",
       "      <th>total_income</th>\n",
       "      <th>purpose</th>\n",
       "    </tr>\n",
       "  </thead>\n",
       "  <tbody>\n",
       "    <tr>\n",
       "      <th>4</th>\n",
       "      <td>0</td>\n",
       "      <td>340266.072047</td>\n",
       "      <td>53</td>\n",
       "      <td>secondary education</td>\n",
       "      <td>1</td>\n",
       "      <td>civil partnership</td>\n",
       "      <td>1</td>\n",
       "      <td>F</td>\n",
       "      <td>retiree</td>\n",
       "      <td>0</td>\n",
       "      <td>25378.572</td>\n",
       "      <td>to have a wedding</td>\n",
       "    </tr>\n",
       "    <tr>\n",
       "      <th>12</th>\n",
       "      <td>0</td>\n",
       "      <td>NaN</td>\n",
       "      <td>65</td>\n",
       "      <td>secondary education</td>\n",
       "      <td>1</td>\n",
       "      <td>civil partnership</td>\n",
       "      <td>1</td>\n",
       "      <td>M</td>\n",
       "      <td>retiree</td>\n",
       "      <td>0</td>\n",
       "      <td>NaN</td>\n",
       "      <td>to have a wedding</td>\n",
       "    </tr>\n",
       "    <tr>\n",
       "      <th>18</th>\n",
       "      <td>0</td>\n",
       "      <td>400281.136913</td>\n",
       "      <td>53</td>\n",
       "      <td>secondary education</td>\n",
       "      <td>1</td>\n",
       "      <td>widow / widower</td>\n",
       "      <td>2</td>\n",
       "      <td>F</td>\n",
       "      <td>retiree</td>\n",
       "      <td>0</td>\n",
       "      <td>9091.804</td>\n",
       "      <td>buying a second-hand car</td>\n",
       "    </tr>\n",
       "    <tr>\n",
       "      <th>24</th>\n",
       "      <td>1</td>\n",
       "      <td>338551.952911</td>\n",
       "      <td>57</td>\n",
       "      <td>secondary education</td>\n",
       "      <td>1</td>\n",
       "      <td>unmarried</td>\n",
       "      <td>4</td>\n",
       "      <td>F</td>\n",
       "      <td>retiree</td>\n",
       "      <td>0</td>\n",
       "      <td>46487.558</td>\n",
       "      <td>transactions with commercial real estate</td>\n",
       "    </tr>\n",
       "    <tr>\n",
       "      <th>25</th>\n",
       "      <td>0</td>\n",
       "      <td>363548.489348</td>\n",
       "      <td>67</td>\n",
       "      <td>secondary education</td>\n",
       "      <td>1</td>\n",
       "      <td>married</td>\n",
       "      <td>0</td>\n",
       "      <td>M</td>\n",
       "      <td>retiree</td>\n",
       "      <td>0</td>\n",
       "      <td>8818.041</td>\n",
       "      <td>buy real estate</td>\n",
       "    </tr>\n",
       "  </tbody>\n",
       "</table>\n",
       "</div>"
      ],
      "text/plain": [
       "    children  days_employed  dob_years            education  education_id  \\\n",
       "4          0  340266.072047         53  secondary education             1   \n",
       "12         0            NaN         65  secondary education             1   \n",
       "18         0  400281.136913         53  secondary education             1   \n",
       "24         1  338551.952911         57  secondary education             1   \n",
       "25         0  363548.489348         67  secondary education             1   \n",
       "\n",
       "        family_status  family_status_id gender income_type  debt  \\\n",
       "4   civil partnership                 1      F     retiree     0   \n",
       "12  civil partnership                 1      M     retiree     0   \n",
       "18    widow / widower                 2      F     retiree     0   \n",
       "24          unmarried                 4      F     retiree     0   \n",
       "25            married                 0      M     retiree     0   \n",
       "\n",
       "    total_income                                   purpose  \n",
       "4      25378.572                         to have a wedding  \n",
       "12           NaN                         to have a wedding  \n",
       "18      9091.804                  buying a second-hand car  \n",
       "24     46487.558  transactions with commercial real estate  \n",
       "25      8818.041                           buy real estate  "
      ]
     },
     "execution_count": 44,
     "metadata": {},
     "output_type": "execute_result"
    }
   ],
   "source": [
    "# Filtrando os dados dos aposentados\n",
    "retirees = df[df['income_type'] == 'retiree']\n",
    "\n",
    "# Exibindo as primeiras linhas\n",
    "retirees.head()"
   ]
  },
  {
   "cell_type": "code",
   "execution_count": 45,
   "id": "02ba7ed6",
   "metadata": {},
   "outputs": [
    {
     "data": {
      "text/plain": [
       "children            3443\n",
       "days_employed       3443\n",
       "dob_years           3443\n",
       "education           3443\n",
       "education_id        3443\n",
       "family_status       3443\n",
       "family_status_id    3443\n",
       "gender              3443\n",
       "income_type         3443\n",
       "debt                3443\n",
       "total_income        3443\n",
       "purpose             3443\n",
       "dtype: int64"
      ]
     },
     "execution_count": 45,
     "metadata": {},
     "output_type": "execute_result"
    }
   ],
   "source": [
    "retirees[retirees['days_employed'] > 0].count()"
   ]
  },
  {
   "cell_type": "code",
   "execution_count": 46,
   "id": "9da65ef6",
   "metadata": {},
   "outputs": [
    {
     "name": "stdout",
     "output_type": "stream",
     "text": [
      "children            3445\n",
      "days_employed       3445\n",
      "dob_years           3445\n",
      "education           3445\n",
      "education_id        3445\n",
      "family_status       3445\n",
      "family_status_id    3445\n",
      "gender              3445\n",
      "income_type         3445\n",
      "debt                3445\n",
      "total_income        3445\n",
      "purpose             3445\n",
      "dtype: int64\n"
     ]
    }
   ],
   "source": [
    "total = retirees[retirees['days_employed'] > 0].count() + unemployed[unemployed['days_employed'] > 0].count()\n",
    "print(total)"
   ]
  },
  {
   "cell_type": "markdown",
   "id": "6f3236e6",
   "metadata": {},
   "source": [
    "<font face='Calibri' color=\"#001A56\" size=+0.8>\n",
    "Os dados positivos são dos clientes desempregados e aposentados, portanto concluo que houve um erro no imput de dados, provalvemente foram invertidas as datas de inicio e data final. Para esse problema iremos corrigir os valores negativos, substituindo por positivos.\n",
    "\n",
    "Outro problema é a grandeza dos números, pois são números muito alto sendo incopativel até mesmo com a idade dos clientes, onde a quantidade de dias trabalhados era superior aos dias de vida do cliente. O ideal seria saber como essa métrica foi calculada para saber a causa raiz desse problema. Como isso não é possível vou considerar que seja um possível erro de digitação onde foi incluido duas casas decimais a mais na hora de digitar e para tratar isso irei dividir esses valores muito altos por 100, pois mesmo dividindo por 10 os valores peranecem muito altos."
   ]
  },
  {
   "cell_type": "code",
   "execution_count": 47,
   "id": "750e8e3e",
   "metadata": {},
   "outputs": [],
   "source": [
    "# Eliminando os valores negativos\n",
    "df['days_employed'] = abs(df['days_employed']) "
   ]
  },
  {
   "cell_type": "code",
   "execution_count": 48,
   "id": "cc5e0b93",
   "metadata": {},
   "outputs": [
    {
     "data": {
      "text/html": [
       "<div>\n",
       "<style scoped>\n",
       "    .dataframe tbody tr th:only-of-type {\n",
       "        vertical-align: middle;\n",
       "    }\n",
       "\n",
       "    .dataframe tbody tr th {\n",
       "        vertical-align: top;\n",
       "    }\n",
       "\n",
       "    .dataframe thead th {\n",
       "        text-align: right;\n",
       "    }\n",
       "</style>\n",
       "<table border=\"1\" class=\"dataframe\">\n",
       "  <thead>\n",
       "    <tr style=\"text-align: right;\">\n",
       "      <th></th>\n",
       "      <th>children</th>\n",
       "      <th>days_employed</th>\n",
       "      <th>dob_years</th>\n",
       "      <th>education</th>\n",
       "      <th>education_id</th>\n",
       "      <th>family_status</th>\n",
       "      <th>family_status_id</th>\n",
       "      <th>gender</th>\n",
       "      <th>income_type</th>\n",
       "      <th>debt</th>\n",
       "      <th>total_income</th>\n",
       "      <th>purpose</th>\n",
       "    </tr>\n",
       "  </thead>\n",
       "  <tbody>\n",
       "    <tr>\n",
       "      <th>0</th>\n",
       "      <td>1</td>\n",
       "      <td>8437.673028</td>\n",
       "      <td>42</td>\n",
       "      <td>bachelor's degree</td>\n",
       "      <td>0</td>\n",
       "      <td>married</td>\n",
       "      <td>0</td>\n",
       "      <td>F</td>\n",
       "      <td>employee</td>\n",
       "      <td>0</td>\n",
       "      <td>40620.102</td>\n",
       "      <td>purchase of the house</td>\n",
       "    </tr>\n",
       "    <tr>\n",
       "      <th>1</th>\n",
       "      <td>1</td>\n",
       "      <td>4024.803754</td>\n",
       "      <td>36</td>\n",
       "      <td>secondary education</td>\n",
       "      <td>1</td>\n",
       "      <td>married</td>\n",
       "      <td>0</td>\n",
       "      <td>F</td>\n",
       "      <td>employee</td>\n",
       "      <td>0</td>\n",
       "      <td>17932.802</td>\n",
       "      <td>car purchase</td>\n",
       "    </tr>\n",
       "    <tr>\n",
       "      <th>2</th>\n",
       "      <td>0</td>\n",
       "      <td>5623.422610</td>\n",
       "      <td>33</td>\n",
       "      <td>secondary education</td>\n",
       "      <td>1</td>\n",
       "      <td>married</td>\n",
       "      <td>0</td>\n",
       "      <td>M</td>\n",
       "      <td>employee</td>\n",
       "      <td>0</td>\n",
       "      <td>23341.752</td>\n",
       "      <td>purchase of the house</td>\n",
       "    </tr>\n",
       "    <tr>\n",
       "      <th>3</th>\n",
       "      <td>3</td>\n",
       "      <td>4124.747207</td>\n",
       "      <td>32</td>\n",
       "      <td>secondary education</td>\n",
       "      <td>1</td>\n",
       "      <td>married</td>\n",
       "      <td>0</td>\n",
       "      <td>M</td>\n",
       "      <td>employee</td>\n",
       "      <td>0</td>\n",
       "      <td>42820.568</td>\n",
       "      <td>supplementary education</td>\n",
       "    </tr>\n",
       "    <tr>\n",
       "      <th>4</th>\n",
       "      <td>0</td>\n",
       "      <td>3402.660720</td>\n",
       "      <td>53</td>\n",
       "      <td>secondary education</td>\n",
       "      <td>1</td>\n",
       "      <td>civil partnership</td>\n",
       "      <td>1</td>\n",
       "      <td>F</td>\n",
       "      <td>retiree</td>\n",
       "      <td>0</td>\n",
       "      <td>25378.572</td>\n",
       "      <td>to have a wedding</td>\n",
       "    </tr>\n",
       "  </tbody>\n",
       "</table>\n",
       "</div>"
      ],
      "text/plain": [
       "   children  days_employed  dob_years            education  education_id  \\\n",
       "0         1    8437.673028         42    bachelor's degree             0   \n",
       "1         1    4024.803754         36  secondary education             1   \n",
       "2         0    5623.422610         33  secondary education             1   \n",
       "3         3    4124.747207         32  secondary education             1   \n",
       "4         0    3402.660720         53  secondary education             1   \n",
       "\n",
       "       family_status  family_status_id gender income_type  debt  total_income  \\\n",
       "0            married                 0      F    employee     0     40620.102   \n",
       "1            married                 0      F    employee     0     17932.802   \n",
       "2            married                 0      M    employee     0     23341.752   \n",
       "3            married                 0      M    employee     0     42820.568   \n",
       "4  civil partnership                 1      F     retiree     0     25378.572   \n",
       "\n",
       "                   purpose  \n",
       "0    purchase of the house  \n",
       "1             car purchase  \n",
       "2    purchase of the house  \n",
       "3  supplementary education  \n",
       "4        to have a wedding  "
      ]
     },
     "execution_count": 48,
     "metadata": {},
     "output_type": "execute_result"
    }
   ],
   "source": [
    "# Função de divisão do dias empregrados.\n",
    "def correct_days_employed(row):\n",
    "    if row['days_employed']>row['dob_years']*365:\n",
    "        return row['days_employed']/100\n",
    "    else:\n",
    "        return row['days_employed']\n",
    "\n",
    "# Aplicando a função\n",
    "df['days_employed'] = df.apply(correct_days_employed, axis=1)\n",
    "\n",
    "# Exibindo as primeiras linhas da tabela\n",
    "df.head()"
   ]
  },
  {
   "cell_type": "markdown",
   "id": "7fd7bd27",
   "metadata": {},
   "source": [
    "<font face='Calibri' color=\"#001A56\" size=+0.8>\n",
    "Não possuímos mais valores negativos para a coluna <b>days_employed</b>, nem valores excessivamente altos.\n",
    "    \n",
    "    \n",
    "[Voltar ao Índice](#back)"
   ]
  },
  {
   "cell_type": "markdown",
   "id": "8d015dc1",
   "metadata": {},
   "source": [
    "<a id='dob_years'></a>\n",
    "<h3><font face='Calibri' color=\"#013294\" size=+2.0>\n",
    "Analisando os dados da coluna dob_years.\n",
    "</font></h3>\n",
    "<p>\n",
    "<font face='Calibri' color=\"#001A56\" size=+0.8>\n",
    " "
   ]
  },
  {
   "cell_type": "code",
   "execution_count": 49,
   "id": "b97591cf",
   "metadata": {},
   "outputs": [
    {
     "data": {
      "text/plain": [
       "array([42, 36, 33, 32, 53, 27, 43, 50, 35, 41, 40, 65, 54, 56, 26, 48, 24,\n",
       "       21, 57, 67, 28, 63, 62, 47, 34, 68, 25, 31, 30, 20, 49, 37, 45, 61,\n",
       "       64, 44, 52, 46, 23, 38, 39, 51,  0, 59, 29, 60, 55, 58, 71, 22, 73,\n",
       "       66, 69, 19, 72, 70, 74, 75], dtype=int64)"
      ]
     },
     "execution_count": 49,
     "metadata": {},
     "output_type": "execute_result"
    }
   ],
   "source": [
    "# Exibindo os números unívocos.\n",
    "df['dob_years'].unique()"
   ]
  },
  {
   "cell_type": "code",
   "execution_count": 50,
   "id": "69b1e093",
   "metadata": {},
   "outputs": [
    {
     "data": {
      "text/plain": [
       "35    617\n",
       "40    609\n",
       "41    607\n",
       "34    603\n",
       "38    598\n",
       "42    597\n",
       "33    581\n",
       "39    573\n",
       "31    560\n",
       "36    555\n",
       "44    547\n",
       "29    545\n",
       "30    540\n",
       "48    538\n",
       "37    537\n",
       "50    514\n",
       "43    513\n",
       "32    510\n",
       "49    508\n",
       "28    503\n",
       "45    497\n",
       "27    493\n",
       "56    487\n",
       "52    484\n",
       "47    480\n",
       "54    479\n",
       "46    475\n",
       "58    461\n",
       "57    460\n",
       "53    459\n",
       "51    448\n",
       "59    444\n",
       "55    443\n",
       "26    408\n",
       "60    377\n",
       "25    357\n",
       "61    355\n",
       "62    352\n",
       "63    269\n",
       "64    265\n",
       "24    264\n",
       "23    254\n",
       "65    194\n",
       "22    183\n",
       "66    183\n",
       "67    167\n",
       "21    111\n",
       "0     101\n",
       "68     99\n",
       "69     85\n",
       "70     65\n",
       "71     58\n",
       "20     51\n",
       "72     33\n",
       "19     14\n",
       "73      8\n",
       "74      6\n",
       "75      1\n",
       "Name: dob_years, dtype: int64"
      ]
     },
     "execution_count": 50,
     "metadata": {},
     "output_type": "execute_result"
    }
   ],
   "source": [
    "# Quantidade de clientes de cada idade.\n",
    "df['dob_years'].value_counts()"
   ]
  },
  {
   "cell_type": "markdown",
   "id": "e494e233",
   "metadata": {},
   "source": [
    "<font face='Calibri' color=\"#001A56\" size=+0.8>\n",
    "Os únicos dados aparentemente incosistentes que encontramos foram as idades com valor 0. Ireemos substituir pela média de idade levando em consideração o gênero, não utilizaremos a mediana pois não temos valores atípicos significativos."
   ]
  },
  {
   "cell_type": "code",
   "execution_count": 51,
   "id": "4ef07cdf",
   "metadata": {},
   "outputs": [
    {
     "data": {
      "text/plain": [
       "gender\n",
       "F      44.471972\n",
       "M      40.993825\n",
       "XNA    24.000000\n",
       "Name: dob_years, dtype: float64"
      ]
     },
     "execution_count": 51,
     "metadata": {},
     "output_type": "execute_result"
    }
   ],
   "source": [
    "# Calculando a média de idade por gênero.\n",
    "df.groupby('gender')['dob_years'].mean()"
   ]
  },
  {
   "cell_type": "code",
   "execution_count": 52,
   "id": "ac16a582",
   "metadata": {},
   "outputs": [],
   "source": [
    "# Função para correção de idade 0.\n",
    "def correção_de_idade(row):\n",
    "    if row['dob_years'] == 0:\n",
    "        if row['gender'] == 'F':\n",
    "            return 44\n",
    "        elif row['gender'] == 'M':\n",
    "            return 41\n",
    "    else:\n",
    "        return row['dob_years']\n",
    "\n",
    "# Aplicando a função    \n",
    "df['dob_years'] = df.apply(correção_de_idade, axis=1)"
   ]
  },
  {
   "cell_type": "code",
   "execution_count": 53,
   "id": "4bbadcf1",
   "metadata": {},
   "outputs": [
    {
     "data": {
      "text/plain": [
       "41    636\n",
       "44    619\n",
       "35    617\n",
       "40    609\n",
       "34    603\n",
       "38    598\n",
       "42    597\n",
       "33    581\n",
       "39    573\n",
       "31    560\n",
       "36    555\n",
       "29    545\n",
       "30    540\n",
       "48    538\n",
       "37    537\n",
       "50    514\n",
       "43    513\n",
       "32    510\n",
       "49    508\n",
       "28    503\n",
       "45    497\n",
       "27    493\n",
       "56    487\n",
       "52    484\n",
       "47    480\n",
       "54    479\n",
       "46    475\n",
       "58    461\n",
       "57    460\n",
       "53    459\n",
       "51    448\n",
       "59    444\n",
       "55    443\n",
       "26    408\n",
       "60    377\n",
       "25    357\n",
       "61    355\n",
       "62    352\n",
       "63    269\n",
       "64    265\n",
       "24    264\n",
       "23    254\n",
       "65    194\n",
       "22    183\n",
       "66    183\n",
       "67    167\n",
       "21    111\n",
       "68     99\n",
       "69     85\n",
       "70     65\n",
       "71     58\n",
       "20     51\n",
       "72     33\n",
       "19     14\n",
       "73      8\n",
       "74      6\n",
       "75      1\n",
       "Name: dob_years, dtype: int64"
      ]
     },
     "execution_count": 53,
     "metadata": {},
     "output_type": "execute_result"
    }
   ],
   "source": [
    "# Exibindo a nova contagem de idades.\n",
    "df['dob_years'].value_counts()"
   ]
  },
  {
   "cell_type": "markdown",
   "id": "8db0ac88",
   "metadata": {},
   "source": [
    "<font face='Calibri' color=\"#001A56\" size=+0.8>\n",
    "As idade com valores iguais a 0 foram eliminadas, analisaremos agora a próxima coluna.\n",
    "    \n",
    "<br>\n",
    "\n",
    "[Voltar ao Índice](#back)"
   ]
  },
  {
   "cell_type": "markdown",
   "id": "45352563",
   "metadata": {},
   "source": [
    "<a id='family'></a>\n",
    "<h3><font face='Calibri' color=\"#013294\" size=+2.0>\n",
    "Analisando os dados da coluna family_status.\n",
    "</font></h3>\n",
    "<p>"
   ]
  },
  {
   "cell_type": "code",
   "execution_count": 54,
   "id": "a41103b0",
   "metadata": {},
   "outputs": [
    {
     "data": {
      "text/plain": [
       "array(['married', 'civil partnership', 'widow / widower', 'divorced',\n",
       "       'unmarried'], dtype=object)"
      ]
     },
     "execution_count": 54,
     "metadata": {},
     "output_type": "execute_result"
    }
   ],
   "source": [
    "# Checando os resultados unívocos.\n",
    "df['family_status'].unique()"
   ]
  },
  {
   "cell_type": "code",
   "execution_count": 55,
   "id": "7206bdff",
   "metadata": {},
   "outputs": [
    {
     "data": {
      "text/plain": [
       "married              0.575145\n",
       "civil partnership    0.194053\n",
       "unmarried            0.130685\n",
       "divorced             0.055517\n",
       "widow / widower      0.044599\n",
       "Name: family_status, dtype: float64"
      ]
     },
     "execution_count": 55,
     "metadata": {},
     "output_type": "execute_result"
    }
   ],
   "source": [
    "# Contando os resultados de family_status.\n",
    "df['family_status'].value_counts(normalize=True, ascending=False)"
   ]
  },
  {
   "cell_type": "markdown",
   "id": "64787083",
   "metadata": {},
   "source": [
    "<font face='Calibri' color=\"#001A56\" size=+0.8>\n",
    "Não há problemas com os dados da coluna family_status, analisaremos agora a próxima coluna.\n",
    "    \n",
    "<br>\n",
    "\n",
    "[Voltar ao Índice](#back)"
   ]
  },
  {
   "cell_type": "markdown",
   "id": "bf9e96e0",
   "metadata": {},
   "source": [
    "<a id='gender'></a>\n",
    "<h3><font face='Calibri' color=\"#013294\" size=+2.0>\n",
    "Analisando os dados da coluna gender.\n",
    "</font></h3>\n",
    "<p>"
   ]
  },
  {
   "cell_type": "code",
   "execution_count": 56,
   "id": "8c0166d7",
   "metadata": {},
   "outputs": [
    {
     "data": {
      "text/plain": [
       "array(['F', 'M', 'XNA'], dtype=object)"
      ]
     },
     "execution_count": 56,
     "metadata": {},
     "output_type": "execute_result"
    }
   ],
   "source": [
    "# Verificando os valores unívocos da coluna gender.\n",
    "df['gender'].unique()"
   ]
  },
  {
   "cell_type": "code",
   "execution_count": 57,
   "id": "66f2cf73",
   "metadata": {},
   "outputs": [
    {
     "data": {
      "text/plain": [
       "F      14236\n",
       "M       7288\n",
       "XNA        1\n",
       "Name: gender, dtype: int64"
      ]
     },
     "execution_count": 57,
     "metadata": {},
     "output_type": "execute_result"
    }
   ],
   "source": [
    "# Contado a quantidade de valores de cada gênero.\n",
    "df['gender'].value_counts()"
   ]
  },
  {
   "cell_type": "markdown",
   "id": "38e35d40",
   "metadata": {},
   "source": [
    "<font face='Calibri' color=\"#001A56\" size=+0.8>\n",
    "Não encontramos nenhum problema com os dados da coluna 'gender'. Unico dado que chamou atenção foi o valor 'XNA', iremos considerar que é alguém que não se identifica com os genêros Feminino e Masculino por esse motivo iremos manter da forma que está.\n",
    "<br>\n",
    "\n",
    "[Voltar ao Índice](#back)"
   ]
  },
  {
   "cell_type": "markdown",
   "id": "983e33dc",
   "metadata": {},
   "source": [
    "<a id='income_type'></a>\n",
    "<h3><font face='Calibri' color=\"#013294\" size=+2.0>\n",
    "Analisando os dados da coluna income_type.\n",
    "</font></h3>\n",
    "<p>"
   ]
  },
  {
   "cell_type": "code",
   "execution_count": 58,
   "id": "d7a6131f",
   "metadata": {},
   "outputs": [
    {
     "data": {
      "text/plain": [
       "array(['employee', 'retiree', 'business', 'civil servant', 'unemployed',\n",
       "       'entrepreneur', 'student', 'paternity / maternity leave'],\n",
       "      dtype=object)"
      ]
     },
     "execution_count": 58,
     "metadata": {},
     "output_type": "execute_result"
    }
   ],
   "source": [
    "# Verificando os valores unívocos da coluna income_type.\n",
    "df['income_type'].unique()"
   ]
  },
  {
   "cell_type": "code",
   "execution_count": 59,
   "id": "f3bf3526",
   "metadata": {},
   "outputs": [
    {
     "data": {
      "text/plain": [
       "employee                       11119\n",
       "business                        5085\n",
       "retiree                         3856\n",
       "civil servant                   1459\n",
       "unemployed                         2\n",
       "entrepreneur                       2\n",
       "student                            1\n",
       "paternity / maternity leave        1\n",
       "Name: income_type, dtype: int64"
      ]
     },
     "execution_count": 59,
     "metadata": {},
     "output_type": "execute_result"
    }
   ],
   "source": [
    "# Contando os valores da coluna\n",
    "df['income_type'].value_counts()"
   ]
  },
  {
   "cell_type": "markdown",
   "id": "96546646",
   "metadata": {},
   "source": [
    "<font face='Calibri' color=\"#001A56\" size=+0.8>\n",
    "Não encontreamos nenhum problema com os dados da coluna 'income_type'. Porém, iremos alterar 'entrepreneur' para 'business', pois são as mesmas atividades. Também iremos alterar os dados unemployed, student  e paternity / maternity leave, para others, pois são amostras muito pequenas diante da quantidade total de dados, mesmo somados esses dados representam apenas 0,01% do total."
   ]
  },
  {
   "cell_type": "code",
   "execution_count": 60,
   "id": "a5ba7672",
   "metadata": {},
   "outputs": [
    {
     "data": {
      "text/plain": [
       "employee         0.516562\n",
       "business         0.236330\n",
       "retiree          0.179141\n",
       "civil servant    0.067782\n",
       "others           0.000186\n",
       "Name: income_type, dtype: float64"
      ]
     },
     "execution_count": 60,
     "metadata": {},
     "output_type": "execute_result"
    }
   ],
   "source": [
    "# Função para alteração das atividades.\n",
    "def correct_income_type(row):\n",
    "    if row['income_type'] == 'entrepreneur':\n",
    "        return 'business'\n",
    "    if row['income_type'] == 'unemployed':\n",
    "        return 'others'\n",
    "    if row['income_type'] == 'student':\n",
    "        return 'others'\n",
    "    if row['income_type'] == 'paternity / maternity leave':\n",
    "        return 'others'\n",
    "    else:\n",
    "        return row['income_type']\n",
    "\n",
    "# Aplicando as funções.\n",
    "df['income_type'] = df.apply(correct_income_type, axis=1)\n",
    "\n",
    "# Contando os valores.\n",
    "df['income_type'].value_counts(normalize=True)"
   ]
  },
  {
   "cell_type": "markdown",
   "id": "7c0a4884",
   "metadata": {},
   "source": [
    "<font face='Calibri' color=\"#001A56\" size=+0.8>\n",
    "Os dados foram corrigidos, agora temos apenas 5 tipos diferentes de rendas. Verificaremos agora os dados duplicados.</font>\n",
    "    \n",
    "\n",
    "  \n",
    "[Voltar ao Índice](#back)"
   ]
  },
  {
   "cell_type": "markdown",
   "id": "3218c22d",
   "metadata": {},
   "source": [
    "<a id='duplicados'></a>\n",
    "<h3><font face='Calibri' color=\"#013294\" size=+2.0>\n",
    "Verificando a presença de dados duplicados.\n",
    "</font></h3>\n",
    "<p>"
   ]
  },
  {
   "cell_type": "code",
   "execution_count": 61,
   "id": "52911e83",
   "metadata": {},
   "outputs": [
    {
     "name": "stdout",
     "output_type": "stream",
     "text": [
      "<class 'pandas.core.frame.DataFrame'>\n",
      "RangeIndex: 21525 entries, 0 to 21524\n",
      "Data columns (total 12 columns):\n",
      " #   Column            Non-Null Count  Dtype  \n",
      "---  ------            --------------  -----  \n",
      " 0   children          21525 non-null  int64  \n",
      " 1   days_employed     19351 non-null  float64\n",
      " 2   dob_years         21525 non-null  int64  \n",
      " 3   education         21525 non-null  object \n",
      " 4   education_id      21525 non-null  int64  \n",
      " 5   family_status     21525 non-null  object \n",
      " 6   family_status_id  21525 non-null  int64  \n",
      " 7   gender            21525 non-null  object \n",
      " 8   income_type       21525 non-null  object \n",
      " 9   debt              21525 non-null  int64  \n",
      " 10  total_income      19351 non-null  float64\n",
      " 11  purpose           21525 non-null  object \n",
      "dtypes: float64(2), int64(5), object(5)\n",
      "memory usage: 2.0+ MB\n"
     ]
    }
   ],
   "source": [
    "# Exibindo as informações dos dados.\n",
    "df.info()"
   ]
  },
  {
   "cell_type": "code",
   "execution_count": 62,
   "id": "4457cae0",
   "metadata": {},
   "outputs": [
    {
     "data": {
      "text/html": [
       "<div>\n",
       "<style scoped>\n",
       "    .dataframe tbody tr th:only-of-type {\n",
       "        vertical-align: middle;\n",
       "    }\n",
       "\n",
       "    .dataframe tbody tr th {\n",
       "        vertical-align: top;\n",
       "    }\n",
       "\n",
       "    .dataframe thead th {\n",
       "        text-align: right;\n",
       "    }\n",
       "</style>\n",
       "<table border=\"1\" class=\"dataframe\">\n",
       "  <thead>\n",
       "    <tr style=\"text-align: right;\">\n",
       "      <th></th>\n",
       "      <th>children</th>\n",
       "      <th>days_employed</th>\n",
       "      <th>dob_years</th>\n",
       "      <th>education</th>\n",
       "      <th>education_id</th>\n",
       "      <th>family_status</th>\n",
       "      <th>family_status_id</th>\n",
       "      <th>gender</th>\n",
       "      <th>income_type</th>\n",
       "      <th>debt</th>\n",
       "      <th>total_income</th>\n",
       "      <th>purpose</th>\n",
       "    </tr>\n",
       "  </thead>\n",
       "  <tbody>\n",
       "    <tr>\n",
       "      <th>2849</th>\n",
       "      <td>0</td>\n",
       "      <td>NaN</td>\n",
       "      <td>41</td>\n",
       "      <td>secondary education</td>\n",
       "      <td>1</td>\n",
       "      <td>married</td>\n",
       "      <td>0</td>\n",
       "      <td>F</td>\n",
       "      <td>employee</td>\n",
       "      <td>0</td>\n",
       "      <td>NaN</td>\n",
       "      <td>purchase of the house for my family</td>\n",
       "    </tr>\n",
       "    <tr>\n",
       "      <th>3290</th>\n",
       "      <td>0</td>\n",
       "      <td>NaN</td>\n",
       "      <td>58</td>\n",
       "      <td>secondary education</td>\n",
       "      <td>1</td>\n",
       "      <td>civil partnership</td>\n",
       "      <td>1</td>\n",
       "      <td>F</td>\n",
       "      <td>retiree</td>\n",
       "      <td>0</td>\n",
       "      <td>NaN</td>\n",
       "      <td>to have a wedding</td>\n",
       "    </tr>\n",
       "    <tr>\n",
       "      <th>4182</th>\n",
       "      <td>1</td>\n",
       "      <td>NaN</td>\n",
       "      <td>34</td>\n",
       "      <td>bachelor's degree</td>\n",
       "      <td>0</td>\n",
       "      <td>civil partnership</td>\n",
       "      <td>1</td>\n",
       "      <td>F</td>\n",
       "      <td>employee</td>\n",
       "      <td>0</td>\n",
       "      <td>NaN</td>\n",
       "      <td>wedding ceremony</td>\n",
       "    </tr>\n",
       "    <tr>\n",
       "      <th>4851</th>\n",
       "      <td>0</td>\n",
       "      <td>NaN</td>\n",
       "      <td>60</td>\n",
       "      <td>secondary education</td>\n",
       "      <td>1</td>\n",
       "      <td>civil partnership</td>\n",
       "      <td>1</td>\n",
       "      <td>F</td>\n",
       "      <td>retiree</td>\n",
       "      <td>0</td>\n",
       "      <td>NaN</td>\n",
       "      <td>wedding ceremony</td>\n",
       "    </tr>\n",
       "    <tr>\n",
       "      <th>5557</th>\n",
       "      <td>0</td>\n",
       "      <td>NaN</td>\n",
       "      <td>58</td>\n",
       "      <td>secondary education</td>\n",
       "      <td>1</td>\n",
       "      <td>civil partnership</td>\n",
       "      <td>1</td>\n",
       "      <td>F</td>\n",
       "      <td>retiree</td>\n",
       "      <td>0</td>\n",
       "      <td>NaN</td>\n",
       "      <td>to have a wedding</td>\n",
       "    </tr>\n",
       "  </tbody>\n",
       "</table>\n",
       "</div>"
      ],
      "text/plain": [
       "      children  days_employed  dob_years            education  education_id  \\\n",
       "2849         0            NaN         41  secondary education             1   \n",
       "3290         0            NaN         58  secondary education             1   \n",
       "4182         1            NaN         34    bachelor's degree             0   \n",
       "4851         0            NaN         60  secondary education             1   \n",
       "5557         0            NaN         58  secondary education             1   \n",
       "\n",
       "          family_status  family_status_id gender income_type  debt  \\\n",
       "2849            married                 0      F    employee     0   \n",
       "3290  civil partnership                 1      F     retiree     0   \n",
       "4182  civil partnership                 1      F    employee     0   \n",
       "4851  civil partnership                 1      F     retiree     0   \n",
       "5557  civil partnership                 1      F     retiree     0   \n",
       "\n",
       "      total_income                              purpose  \n",
       "2849           NaN  purchase of the house for my family  \n",
       "3290           NaN                    to have a wedding  \n",
       "4182           NaN                     wedding ceremony  \n",
       "4851           NaN                     wedding ceremony  \n",
       "5557           NaN                    to have a wedding  "
      ]
     },
     "execution_count": 62,
     "metadata": {},
     "output_type": "execute_result"
    }
   ],
   "source": [
    "# Filtrando os dados duplicados.\n",
    "duplicados = df[df.duplicated()]\n",
    "\n",
    "# Exibindo as primeiras linhas dos dados duplicados.\n",
    "duplicados.head()"
   ]
  },
  {
   "cell_type": "code",
   "execution_count": 63,
   "id": "9eac5a66",
   "metadata": {},
   "outputs": [
    {
     "name": "stdout",
     "output_type": "stream",
     "text": [
      "<class 'pandas.core.frame.DataFrame'>\n",
      "Int64Index: 71 entries, 2849 to 21415\n",
      "Data columns (total 12 columns):\n",
      " #   Column            Non-Null Count  Dtype  \n",
      "---  ------            --------------  -----  \n",
      " 0   children          71 non-null     int64  \n",
      " 1   days_employed     0 non-null      float64\n",
      " 2   dob_years         71 non-null     int64  \n",
      " 3   education         71 non-null     object \n",
      " 4   education_id      71 non-null     int64  \n",
      " 5   family_status     71 non-null     object \n",
      " 6   family_status_id  71 non-null     int64  \n",
      " 7   gender            71 non-null     object \n",
      " 8   income_type       71 non-null     object \n",
      " 9   debt              71 non-null     int64  \n",
      " 10  total_income      0 non-null      float64\n",
      " 11  purpose           71 non-null     object \n",
      "dtypes: float64(2), int64(5), object(5)\n",
      "memory usage: 7.2+ KB\n"
     ]
    }
   ],
   "source": [
    "duplicados.info()"
   ]
  },
  {
   "cell_type": "code",
   "execution_count": 64,
   "id": "30e52a8f",
   "metadata": {},
   "outputs": [
    {
     "data": {
      "text/plain": [
       "children            0.003298\n",
       "days_employed       0.000000\n",
       "dob_years           0.003298\n",
       "education           0.003298\n",
       "education_id        0.003298\n",
       "family_status       0.003298\n",
       "family_status_id    0.003298\n",
       "gender              0.003298\n",
       "income_type         0.003298\n",
       "debt                0.003298\n",
       "total_income        0.000000\n",
       "purpose             0.003298\n",
       "dtype: float64"
      ]
     },
     "execution_count": 64,
     "metadata": {},
     "output_type": "execute_result"
    }
   ],
   "source": [
    "duplicados.count() / df.count()"
   ]
  },
  {
   "cell_type": "markdown",
   "id": "8f295b74",
   "metadata": {},
   "source": [
    "<font face='Calibri' color=\"#001A56\" size=+0.8>\n",
    "O número de dados duplicados é 71 (0,32% do total). Iremos excluir esses dados duplicados pois são uma quantia pequena em relação ao total."
   ]
  },
  {
   "cell_type": "code",
   "execution_count": 65,
   "id": "b20cd740",
   "metadata": {},
   "outputs": [
    {
     "name": "stdout",
     "output_type": "stream",
     "text": [
      "<class 'pandas.core.frame.DataFrame'>\n",
      "RangeIndex: 21454 entries, 0 to 21453\n",
      "Data columns (total 12 columns):\n",
      " #   Column            Non-Null Count  Dtype  \n",
      "---  ------            --------------  -----  \n",
      " 0   children          21454 non-null  int64  \n",
      " 1   days_employed     19351 non-null  float64\n",
      " 2   dob_years         21454 non-null  int64  \n",
      " 3   education         21454 non-null  object \n",
      " 4   education_id      21454 non-null  int64  \n",
      " 5   family_status     21454 non-null  object \n",
      " 6   family_status_id  21454 non-null  int64  \n",
      " 7   gender            21454 non-null  object \n",
      " 8   income_type       21454 non-null  object \n",
      " 9   debt              21454 non-null  int64  \n",
      " 10  total_income      19351 non-null  float64\n",
      " 11  purpose           21454 non-null  object \n",
      "dtypes: float64(2), int64(5), object(5)\n",
      "memory usage: 2.0+ MB\n"
     ]
    }
   ],
   "source": [
    "# Excluindo dados duplicados.\n",
    "df = df.drop_duplicates().reset_index(drop=True)\n",
    "\n",
    "# Exibindo informações dos dados.\n",
    "df.info()"
   ]
  },
  {
   "cell_type": "markdown",
   "id": "b8c6fd27",
   "metadata": {},
   "source": [
    "<font face='Calibri' color=\"#001A56\" size=+0.8>\n",
    "Os dados foram eliminados, trataremos agora dos valores ausentes.</font>\n",
    "    \n",
    "\n",
    "  \n",
    "[Voltar ao Índice](#back)"
   ]
  },
  {
   "cell_type": "markdown",
   "id": "21548ac8",
   "metadata": {},
   "source": [
    "<a id='Tausentes'></a>\n",
    "<h3><font face='Calibri' color=\"#013294\" size=+2.0>\n",
    "Tratando os valores ausentes.\n",
    "</font></h3>\n",
    "<p>\n",
    "    <font face='Calibri' color=\"#001A56\" size=+0.8>\n",
    "As colunas com valores ausentes são: <code>days_employed</code> e <code>total_income</code>.\n",
    "\n",
    "Para decidir com qual valor serão preenchidos esses valores, primeiro irei verificar quais outras caracteristicas podem influenciar essas duas informações, encontrando essas caracteristicas que influência irei analisar o que é mais apropriado para cada caso, se utilizar a média ou mediana. Para isso, iremos classificar os clientes por idade e depois analisar apenas os dados que não possuem valores ausentes."
   ]
  },
  {
   "cell_type": "code",
   "execution_count": 66,
   "id": "5f1b2f41",
   "metadata": {},
   "outputs": [],
   "source": [
    "# Função para classificação por idade.\n",
    "def faixa_etaria(row):\n",
    "    if row['dob_years'] <= 20:\n",
    "        return '0 - 20'\n",
    "    elif row['dob_years'] <31:\n",
    "        return '21 - 30'\n",
    "    elif row['dob_years'] <41:\n",
    "        return '31 - 40'\n",
    "    elif row['dob_years'] <51:\n",
    "        return '41 - 50'\n",
    "    elif row['dob_years'] <61:\n",
    "        return '51 - 60'\n",
    "    else:\n",
    "        return '+60'"
   ]
  },
  {
   "cell_type": "code",
   "execution_count": 67,
   "id": "5fdae8c7",
   "metadata": {},
   "outputs": [
    {
     "data": {
      "text/plain": [
       "'41 - 50'"
      ]
     },
     "execution_count": 67,
     "metadata": {},
     "output_type": "execute_result"
    }
   ],
   "source": [
    "# Testando a função.\n",
    "faixa_etaria(df.iloc[0])"
   ]
  },
  {
   "cell_type": "code",
   "execution_count": 68,
   "id": "49ca00b5",
   "metadata": {},
   "outputs": [
    {
     "data": {
      "text/html": [
       "<div>\n",
       "<style scoped>\n",
       "    .dataframe tbody tr th:only-of-type {\n",
       "        vertical-align: middle;\n",
       "    }\n",
       "\n",
       "    .dataframe tbody tr th {\n",
       "        vertical-align: top;\n",
       "    }\n",
       "\n",
       "    .dataframe thead th {\n",
       "        text-align: right;\n",
       "    }\n",
       "</style>\n",
       "<table border=\"1\" class=\"dataframe\">\n",
       "  <thead>\n",
       "    <tr style=\"text-align: right;\">\n",
       "      <th></th>\n",
       "      <th>children</th>\n",
       "      <th>days_employed</th>\n",
       "      <th>dob_years</th>\n",
       "      <th>education</th>\n",
       "      <th>education_id</th>\n",
       "      <th>family_status</th>\n",
       "      <th>family_status_id</th>\n",
       "      <th>gender</th>\n",
       "      <th>income_type</th>\n",
       "      <th>debt</th>\n",
       "      <th>total_income</th>\n",
       "      <th>purpose</th>\n",
       "      <th>faixa_etaria</th>\n",
       "    </tr>\n",
       "  </thead>\n",
       "  <tbody>\n",
       "    <tr>\n",
       "      <th>0</th>\n",
       "      <td>1</td>\n",
       "      <td>8437.673028</td>\n",
       "      <td>42</td>\n",
       "      <td>bachelor's degree</td>\n",
       "      <td>0</td>\n",
       "      <td>married</td>\n",
       "      <td>0</td>\n",
       "      <td>F</td>\n",
       "      <td>employee</td>\n",
       "      <td>0</td>\n",
       "      <td>40620.102</td>\n",
       "      <td>purchase of the house</td>\n",
       "      <td>41 - 50</td>\n",
       "    </tr>\n",
       "    <tr>\n",
       "      <th>1</th>\n",
       "      <td>1</td>\n",
       "      <td>4024.803754</td>\n",
       "      <td>36</td>\n",
       "      <td>secondary education</td>\n",
       "      <td>1</td>\n",
       "      <td>married</td>\n",
       "      <td>0</td>\n",
       "      <td>F</td>\n",
       "      <td>employee</td>\n",
       "      <td>0</td>\n",
       "      <td>17932.802</td>\n",
       "      <td>car purchase</td>\n",
       "      <td>31 - 40</td>\n",
       "    </tr>\n",
       "    <tr>\n",
       "      <th>2</th>\n",
       "      <td>0</td>\n",
       "      <td>5623.422610</td>\n",
       "      <td>33</td>\n",
       "      <td>secondary education</td>\n",
       "      <td>1</td>\n",
       "      <td>married</td>\n",
       "      <td>0</td>\n",
       "      <td>M</td>\n",
       "      <td>employee</td>\n",
       "      <td>0</td>\n",
       "      <td>23341.752</td>\n",
       "      <td>purchase of the house</td>\n",
       "      <td>31 - 40</td>\n",
       "    </tr>\n",
       "    <tr>\n",
       "      <th>3</th>\n",
       "      <td>3</td>\n",
       "      <td>4124.747207</td>\n",
       "      <td>32</td>\n",
       "      <td>secondary education</td>\n",
       "      <td>1</td>\n",
       "      <td>married</td>\n",
       "      <td>0</td>\n",
       "      <td>M</td>\n",
       "      <td>employee</td>\n",
       "      <td>0</td>\n",
       "      <td>42820.568</td>\n",
       "      <td>supplementary education</td>\n",
       "      <td>31 - 40</td>\n",
       "    </tr>\n",
       "    <tr>\n",
       "      <th>4</th>\n",
       "      <td>0</td>\n",
       "      <td>3402.660720</td>\n",
       "      <td>53</td>\n",
       "      <td>secondary education</td>\n",
       "      <td>1</td>\n",
       "      <td>civil partnership</td>\n",
       "      <td>1</td>\n",
       "      <td>F</td>\n",
       "      <td>retiree</td>\n",
       "      <td>0</td>\n",
       "      <td>25378.572</td>\n",
       "      <td>to have a wedding</td>\n",
       "      <td>51 - 60</td>\n",
       "    </tr>\n",
       "  </tbody>\n",
       "</table>\n",
       "</div>"
      ],
      "text/plain": [
       "   children  days_employed  dob_years            education  education_id  \\\n",
       "0         1    8437.673028         42    bachelor's degree             0   \n",
       "1         1    4024.803754         36  secondary education             1   \n",
       "2         0    5623.422610         33  secondary education             1   \n",
       "3         3    4124.747207         32  secondary education             1   \n",
       "4         0    3402.660720         53  secondary education             1   \n",
       "\n",
       "       family_status  family_status_id gender income_type  debt  total_income  \\\n",
       "0            married                 0      F    employee     0     40620.102   \n",
       "1            married                 0      F    employee     0     17932.802   \n",
       "2            married                 0      M    employee     0     23341.752   \n",
       "3            married                 0      M    employee     0     42820.568   \n",
       "4  civil partnership                 1      F     retiree     0     25378.572   \n",
       "\n",
       "                   purpose faixa_etaria  \n",
       "0    purchase of the house      41 - 50  \n",
       "1             car purchase      31 - 40  \n",
       "2    purchase of the house      31 - 40  \n",
       "3  supplementary education      31 - 40  \n",
       "4        to have a wedding      51 - 60  "
      ]
     },
     "execution_count": 68,
     "metadata": {},
     "output_type": "execute_result"
    }
   ],
   "source": [
    "# Criando uma nova coluna e aplicando a função.\n",
    "df['faixa_etaria'] = df.apply(faixa_etaria, axis=1)\n",
    "\n",
    "# Exibindo as primeiras linhas.\n",
    "df.head()"
   ]
  },
  {
   "cell_type": "code",
   "execution_count": 69,
   "id": "434e8030",
   "metadata": {},
   "outputs": [
    {
     "data": {
      "text/plain": [
       "31 - 40    0.267176\n",
       "41 - 50    0.249883\n",
       "51 - 60    0.210590\n",
       "21 - 30    0.170225\n",
       "+60        0.099096\n",
       "0 - 20     0.003030\n",
       "Name: faixa_etaria, dtype: float64"
      ]
     },
     "execution_count": 69,
     "metadata": {},
     "output_type": "execute_result"
    }
   ],
   "source": [
    "# Contado os usuários conforme classificação.\n",
    "df['faixa_etaria'].value_counts(normalize = True)"
   ]
  },
  {
   "cell_type": "code",
   "execution_count": 70,
   "id": "2320f2e8",
   "metadata": {},
   "outputs": [
    {
     "data": {
      "text/html": [
       "<div>\n",
       "<style scoped>\n",
       "    .dataframe tbody tr th:only-of-type {\n",
       "        vertical-align: middle;\n",
       "    }\n",
       "\n",
       "    .dataframe tbody tr th {\n",
       "        vertical-align: top;\n",
       "    }\n",
       "\n",
       "    .dataframe thead th {\n",
       "        text-align: right;\n",
       "    }\n",
       "</style>\n",
       "<table border=\"1\" class=\"dataframe\">\n",
       "  <thead>\n",
       "    <tr style=\"text-align: right;\">\n",
       "      <th></th>\n",
       "      <th>children</th>\n",
       "      <th>days_employed</th>\n",
       "      <th>dob_years</th>\n",
       "      <th>education</th>\n",
       "      <th>education_id</th>\n",
       "      <th>family_status</th>\n",
       "      <th>family_status_id</th>\n",
       "      <th>gender</th>\n",
       "      <th>income_type</th>\n",
       "      <th>debt</th>\n",
       "      <th>total_income</th>\n",
       "      <th>purpose</th>\n",
       "      <th>faixa_etaria</th>\n",
       "    </tr>\n",
       "  </thead>\n",
       "  <tbody>\n",
       "    <tr>\n",
       "      <th>0</th>\n",
       "      <td>1</td>\n",
       "      <td>8437.673028</td>\n",
       "      <td>42</td>\n",
       "      <td>bachelor's degree</td>\n",
       "      <td>0</td>\n",
       "      <td>married</td>\n",
       "      <td>0</td>\n",
       "      <td>F</td>\n",
       "      <td>employee</td>\n",
       "      <td>0</td>\n",
       "      <td>40620.102</td>\n",
       "      <td>purchase of the house</td>\n",
       "      <td>41 - 50</td>\n",
       "    </tr>\n",
       "    <tr>\n",
       "      <th>1</th>\n",
       "      <td>1</td>\n",
       "      <td>4024.803754</td>\n",
       "      <td>36</td>\n",
       "      <td>secondary education</td>\n",
       "      <td>1</td>\n",
       "      <td>married</td>\n",
       "      <td>0</td>\n",
       "      <td>F</td>\n",
       "      <td>employee</td>\n",
       "      <td>0</td>\n",
       "      <td>17932.802</td>\n",
       "      <td>car purchase</td>\n",
       "      <td>31 - 40</td>\n",
       "    </tr>\n",
       "    <tr>\n",
       "      <th>2</th>\n",
       "      <td>0</td>\n",
       "      <td>5623.422610</td>\n",
       "      <td>33</td>\n",
       "      <td>secondary education</td>\n",
       "      <td>1</td>\n",
       "      <td>married</td>\n",
       "      <td>0</td>\n",
       "      <td>M</td>\n",
       "      <td>employee</td>\n",
       "      <td>0</td>\n",
       "      <td>23341.752</td>\n",
       "      <td>purchase of the house</td>\n",
       "      <td>31 - 40</td>\n",
       "    </tr>\n",
       "    <tr>\n",
       "      <th>3</th>\n",
       "      <td>3</td>\n",
       "      <td>4124.747207</td>\n",
       "      <td>32</td>\n",
       "      <td>secondary education</td>\n",
       "      <td>1</td>\n",
       "      <td>married</td>\n",
       "      <td>0</td>\n",
       "      <td>M</td>\n",
       "      <td>employee</td>\n",
       "      <td>0</td>\n",
       "      <td>42820.568</td>\n",
       "      <td>supplementary education</td>\n",
       "      <td>31 - 40</td>\n",
       "    </tr>\n",
       "    <tr>\n",
       "      <th>4</th>\n",
       "      <td>0</td>\n",
       "      <td>3402.660720</td>\n",
       "      <td>53</td>\n",
       "      <td>secondary education</td>\n",
       "      <td>1</td>\n",
       "      <td>civil partnership</td>\n",
       "      <td>1</td>\n",
       "      <td>F</td>\n",
       "      <td>retiree</td>\n",
       "      <td>0</td>\n",
       "      <td>25378.572</td>\n",
       "      <td>to have a wedding</td>\n",
       "      <td>51 - 60</td>\n",
       "    </tr>\n",
       "  </tbody>\n",
       "</table>\n",
       "</div>"
      ],
      "text/plain": [
       "   children  days_employed  dob_years            education  education_id  \\\n",
       "0         1    8437.673028         42    bachelor's degree             0   \n",
       "1         1    4024.803754         36  secondary education             1   \n",
       "2         0    5623.422610         33  secondary education             1   \n",
       "3         3    4124.747207         32  secondary education             1   \n",
       "4         0    3402.660720         53  secondary education             1   \n",
       "\n",
       "       family_status  family_status_id gender income_type  debt  total_income  \\\n",
       "0            married                 0      F    employee     0     40620.102   \n",
       "1            married                 0      F    employee     0     17932.802   \n",
       "2            married                 0      M    employee     0     23341.752   \n",
       "3            married                 0      M    employee     0     42820.568   \n",
       "4  civil partnership                 1      F     retiree     0     25378.572   \n",
       "\n",
       "                   purpose faixa_etaria  \n",
       "0    purchase of the house      41 - 50  \n",
       "1             car purchase      31 - 40  \n",
       "2    purchase of the house      31 - 40  \n",
       "3  supplementary education      31 - 40  \n",
       "4        to have a wedding      51 - 60  "
      ]
     },
     "execution_count": 70,
     "metadata": {},
     "output_type": "execute_result"
    }
   ],
   "source": [
    "# Filtrando os dados completos.\n",
    "completos = df.dropna().reset_index(drop=True)\n",
    "\n",
    "# Exibindo as primeiras linhas.\n",
    "completos.head()"
   ]
  },
  {
   "cell_type": "code",
   "execution_count": 71,
   "id": "607de841",
   "metadata": {},
   "outputs": [
    {
     "data": {
      "text/plain": [
       "education\n",
       "bachelor's degree      33142.802434\n",
       "graduate degree        27960.024667\n",
       "primary education      21144.882211\n",
       "secondary education    24594.503037\n",
       "some college           29045.443644\n",
       "Name: total_income, dtype: float64"
      ]
     },
     "execution_count": 71,
     "metadata": {},
     "output_type": "execute_result"
    }
   ],
   "source": [
    "# Exibindo a média dos dados agrupados por education.\n",
    "completos.groupby('education')['total_income'].mean()"
   ]
  },
  {
   "cell_type": "code",
   "execution_count": 72,
   "id": "0f91b2b0",
   "metadata": {},
   "outputs": [
    {
     "data": {
      "text/plain": [
       "education\n",
       "bachelor's degree      28054.5310\n",
       "graduate degree        25161.5835\n",
       "primary education      18741.9760\n",
       "secondary education    21836.5830\n",
       "some college           25618.4640\n",
       "Name: total_income, dtype: float64"
      ]
     },
     "execution_count": 72,
     "metadata": {},
     "output_type": "execute_result"
    }
   ],
   "source": [
    "# Exibindo a mediana dos dados completos agrupados por education.\n",
    "completos.groupby('education')['total_income'].median()"
   ]
  },
  {
   "cell_type": "code",
   "execution_count": 73,
   "id": "196bbf9d",
   "metadata": {},
   "outputs": [
    {
     "data": {
      "text/plain": [
       "secondary education    13693\n",
       "bachelor's degree       4716\n",
       "some college             675\n",
       "primary education        261\n",
       "graduate degree            6\n",
       "Name: education, dtype: int64"
      ]
     },
     "execution_count": 73,
     "metadata": {},
     "output_type": "execute_result"
    }
   ],
   "source": [
    "# Exibindo a contagem dos dados em education.\n",
    "completos['education'].value_counts()"
   ]
  },
  {
   "cell_type": "code",
   "execution_count": 74,
   "id": "8b52d2c8",
   "metadata": {},
   "outputs": [
    {
     "data": {
      "text/plain": [
       "faixa_etaria\n",
       "+60        23057.777452\n",
       "0 - 20     19586.303559\n",
       "21 - 30    25928.848368\n",
       "31 - 40    28376.735148\n",
       "41 - 50    28332.806009\n",
       "51 - 60    25482.856294\n",
       "Name: total_income, dtype: float64"
      ]
     },
     "execution_count": 74,
     "metadata": {},
     "output_type": "execute_result"
    }
   ],
   "source": [
    "# Exibindo a média dos dados agrupados por faixa etária.\n",
    "completos.groupby('faixa_etaria')['total_income'].mean()"
   ]
  },
  {
   "cell_type": "code",
   "execution_count": 75,
   "id": "5807d636",
   "metadata": {},
   "outputs": [
    {
     "data": {
      "text/plain": [
       "faixa_etaria\n",
       "+60        19637.0560\n",
       "0 - 20     17257.2770\n",
       "21 - 30    23079.3820\n",
       "31 - 40    24825.1865\n",
       "41 - 50    24563.6500\n",
       "51 - 60    22056.7710\n",
       "Name: total_income, dtype: float64"
      ]
     },
     "execution_count": 75,
     "metadata": {},
     "output_type": "execute_result"
    }
   ],
   "source": [
    "# Exibindo a mediana dos dados agrupados por faixa etária.\n",
    "completos.groupby('faixa_etaria')['total_income'].median()"
   ]
  },
  {
   "cell_type": "code",
   "execution_count": 76,
   "id": "2379c72b",
   "metadata": {},
   "outputs": [
    {
     "data": {
      "text/plain": [
       "family_status\n",
       "civil partnership    26694.428597\n",
       "divorced             27189.354550\n",
       "married              27041.784689\n",
       "unmarried            26934.069805\n",
       "widow / widower      22984.208556\n",
       "Name: total_income, dtype: float64"
      ]
     },
     "execution_count": 76,
     "metadata": {},
     "output_type": "execute_result"
    }
   ],
   "source": [
    "# Exibindo a média dos dados agrupados por status familiar.\n",
    "completos.groupby('family_status')['total_income'].mean()"
   ]
  },
  {
   "cell_type": "code",
   "execution_count": 77,
   "id": "6295a68d",
   "metadata": {},
   "outputs": [
    {
     "data": {
      "text/plain": [
       "family_status\n",
       "civil partnership    23186.534\n",
       "divorced             23515.096\n",
       "married              23389.540\n",
       "unmarried            23149.028\n",
       "widow / widower      20514.190\n",
       "Name: total_income, dtype: float64"
      ]
     },
     "execution_count": 77,
     "metadata": {},
     "output_type": "execute_result"
    }
   ],
   "source": [
    "# Exibindo a mediana dos dados agrupados por status familiar.\n",
    "completos.groupby('family_status')['total_income'].median()"
   ]
  },
  {
   "cell_type": "code",
   "execution_count": 78,
   "id": "2cc3ac1c",
   "metadata": {},
   "outputs": [
    {
     "data": {
      "text/plain": [
       "gender\n",
       "F      24655.604757\n",
       "M      30907.144369\n",
       "XNA    32624.825000\n",
       "Name: total_income, dtype: float64"
      ]
     },
     "execution_count": 78,
     "metadata": {},
     "output_type": "execute_result"
    }
   ],
   "source": [
    "# Exibindo a média dos dados agrupados por gênero.\n",
    "completos.groupby('gender')['total_income'].mean()"
   ]
  },
  {
   "cell_type": "code",
   "execution_count": 79,
   "id": "2c764934",
   "metadata": {},
   "outputs": [
    {
     "data": {
      "text/plain": [
       "gender\n",
       "F      21464.845\n",
       "M      26834.295\n",
       "XNA    32624.825\n",
       "Name: total_income, dtype: float64"
      ]
     },
     "execution_count": 79,
     "metadata": {},
     "output_type": "execute_result"
    }
   ],
   "source": [
    "# Exibindo a mediana dos dados agrupados por gênero.\n",
    "completos.groupby('gender')['total_income'].median()"
   ]
  },
  {
   "cell_type": "code",
   "execution_count": 80,
   "id": "dbf8e35e",
   "metadata": {},
   "outputs": [
    {
     "data": {
      "text/plain": [
       "income_type\n",
       "business         32397.165026\n",
       "civil servant    27343.729582\n",
       "employee         25820.841683\n",
       "others           16588.410500\n",
       "retiree          21940.394503\n",
       "Name: total_income, dtype: float64"
      ]
     },
     "execution_count": 80,
     "metadata": {},
     "output_type": "execute_result"
    }
   ],
   "source": [
    "# Exibindo a média dos dados agrupados por tipo de renda.\n",
    "completos.groupby('income_type')['total_income'].mean()"
   ]
  },
  {
   "cell_type": "code",
   "execution_count": 81,
   "id": "44fb250c",
   "metadata": {},
   "outputs": [
    {
     "data": {
      "text/plain": [
       "income_type\n",
       "business         27583.3600\n",
       "civil servant    24071.6695\n",
       "employee         22815.1035\n",
       "others           12652.6895\n",
       "retiree          18962.3180\n",
       "Name: total_income, dtype: float64"
      ]
     },
     "execution_count": 81,
     "metadata": {},
     "output_type": "execute_result"
    }
   ],
   "source": [
    "# Exibindo a mediana dos dados agrupados por tipo de renda.\n",
    "completos.groupby('income_type')['total_income'].median()"
   ]
  },
  {
   "cell_type": "code",
   "execution_count": 82,
   "id": "5fadf61b",
   "metadata": {},
   "outputs": [
    {
     "data": {
      "text/plain": [
       "family_status\n",
       "civil partnership    26694.428597\n",
       "divorced             27189.354550\n",
       "married              27041.784689\n",
       "unmarried            26934.069805\n",
       "widow / widower      22984.208556\n",
       "Name: total_income, dtype: float64"
      ]
     },
     "execution_count": 82,
     "metadata": {},
     "output_type": "execute_result"
    }
   ],
   "source": [
    "# Exibindo a média dos dados agrupados por status familiar.\n",
    "completos.groupby('family_status')['total_income'].mean()"
   ]
  },
  {
   "cell_type": "code",
   "execution_count": 83,
   "id": "b7176b7e",
   "metadata": {},
   "outputs": [
    {
     "data": {
      "text/plain": [
       "family_status\n",
       "civil partnership    23186.534\n",
       "divorced             23515.096\n",
       "married              23389.540\n",
       "unmarried            23149.028\n",
       "widow / widower      20514.190\n",
       "Name: total_income, dtype: float64"
      ]
     },
     "execution_count": 83,
     "metadata": {},
     "output_type": "execute_result"
    }
   ],
   "source": [
    "# Exibindo a mediana dos dados agrupados por status familiar.\n",
    "completos.groupby('family_status')['total_income'].median()"
   ]
  },
  {
   "cell_type": "code",
   "execution_count": 84,
   "id": "3928062d",
   "metadata": {},
   "outputs": [
    {
     "data": {
      "text/plain": [
       "children\n",
       "0    26422.404866\n",
       "1    27368.627863\n",
       "2    27478.854282\n",
       "3    29322.623993\n",
       "4    27289.829647\n",
       "5    27268.847250\n",
       "Name: total_income, dtype: float64"
      ]
     },
     "execution_count": 84,
     "metadata": {},
     "output_type": "execute_result"
    }
   ],
   "source": [
    "# Exibindo a média dos dados agrupados por quantidade de crianças.\n",
    "completos.groupby('children')['total_income'].mean()"
   ]
  },
  {
   "cell_type": "code",
   "execution_count": 85,
   "id": "c5c92ef8",
   "metadata": {},
   "outputs": [
    {
     "data": {
      "text/plain": [
       "children\n",
       "0    23029.9535\n",
       "1    23660.5630\n",
       "2    23136.1155\n",
       "3    25155.4480\n",
       "4    24981.6340\n",
       "5    29816.2255\n",
       "Name: total_income, dtype: float64"
      ]
     },
     "execution_count": 85,
     "metadata": {},
     "output_type": "execute_result"
    }
   ],
   "source": [
    "# Exibindo a mediana dos dados agrupados por quantidade de crianças.\n",
    "completos.groupby('children')['total_income'].median()"
   ]
  },
  {
   "cell_type": "markdown",
   "id": "9dd6a820",
   "metadata": {},
   "source": [
    "<font face='Calibri' color=\"#001A56\" size=+0.8>\n",
    "Levamos em consideração todas as caracteristicas que por ventura possam de algum formar interferir na renda do índíviduo. Os que mais apresentaram váriação foram: Educação e ocupação, portanto usarei essas caracteristicas para definir os valores que serão utilizados para preencher os dados faltantes, utilizaremos as medianas pois é comun encontrar valores atipicos de renda entre pessoas com diferentes profissões e graus de escolaridade.\n",
    "\n",
    "Também iremos corrigir as categorias da coluna educação, alterando bachelor's degree e graduate degree para some college, para que não fiquem amostras muito pequenas e também por serem informações muito semelhantes."
   ]
  },
  {
   "cell_type": "code",
   "execution_count": 86,
   "id": "1de31654",
   "metadata": {},
   "outputs": [
    {
     "data": {
      "text/plain": [
       "education            income_type  \n",
       "bachelor's degree    business         32300.7300\n",
       "                     civil servant    27601.7775\n",
       "                     employee         26502.5190\n",
       "                     others           24073.9310\n",
       "                     retiree          23078.5230\n",
       "graduate degree      civil servant    17822.7570\n",
       "                     employee         31771.3210\n",
       "                     retiree          28334.2150\n",
       "primary education    business         21887.8250\n",
       "                     civil servant    23734.2870\n",
       "                     employee         20159.1860\n",
       "                     retiree          16415.7850\n",
       "secondary education  business         25451.3100\n",
       "                     civil servant    21864.4750\n",
       "                     employee         21848.8175\n",
       "                     others            9102.8900\n",
       "                     retiree          18374.8570\n",
       "some college         business         28778.7440\n",
       "                     civil servant    25694.7750\n",
       "                     employee         24209.4300\n",
       "                     retiree          19221.9030\n",
       "Name: total_income, dtype: float64"
      ]
     },
     "execution_count": 86,
     "metadata": {},
     "output_type": "execute_result"
    }
   ],
   "source": [
    "# Calculando a mediana\n",
    "completos.groupby(['education', 'income_type'])['total_income'].median()"
   ]
  },
  {
   "cell_type": "code",
   "execution_count": 87,
   "id": "545627ff",
   "metadata": {},
   "outputs": [
    {
     "data": {
      "text/html": [
       "<div>\n",
       "<style scoped>\n",
       "    .dataframe tbody tr th:only-of-type {\n",
       "        vertical-align: middle;\n",
       "    }\n",
       "\n",
       "    .dataframe tbody tr th {\n",
       "        vertical-align: top;\n",
       "    }\n",
       "\n",
       "    .dataframe thead th {\n",
       "        text-align: right;\n",
       "    }\n",
       "</style>\n",
       "<table border=\"1\" class=\"dataframe\">\n",
       "  <thead>\n",
       "    <tr style=\"text-align: right;\">\n",
       "      <th></th>\n",
       "      <th>children</th>\n",
       "      <th>days_employed</th>\n",
       "      <th>dob_years</th>\n",
       "      <th>education</th>\n",
       "      <th>education_id</th>\n",
       "      <th>family_status</th>\n",
       "      <th>family_status_id</th>\n",
       "      <th>gender</th>\n",
       "      <th>income_type</th>\n",
       "      <th>debt</th>\n",
       "      <th>total_income</th>\n",
       "      <th>purpose</th>\n",
       "      <th>faixa_etaria</th>\n",
       "    </tr>\n",
       "  </thead>\n",
       "  <tbody>\n",
       "    <tr>\n",
       "      <th>0</th>\n",
       "      <td>1</td>\n",
       "      <td>8437.673028</td>\n",
       "      <td>42</td>\n",
       "      <td>bachelor's degree</td>\n",
       "      <td>0</td>\n",
       "      <td>married</td>\n",
       "      <td>0</td>\n",
       "      <td>F</td>\n",
       "      <td>employee</td>\n",
       "      <td>0</td>\n",
       "      <td>40620.102</td>\n",
       "      <td>purchase of the house</td>\n",
       "      <td>41 - 50</td>\n",
       "    </tr>\n",
       "    <tr>\n",
       "      <th>1</th>\n",
       "      <td>1</td>\n",
       "      <td>4024.803754</td>\n",
       "      <td>36</td>\n",
       "      <td>secondary education</td>\n",
       "      <td>1</td>\n",
       "      <td>married</td>\n",
       "      <td>0</td>\n",
       "      <td>F</td>\n",
       "      <td>employee</td>\n",
       "      <td>0</td>\n",
       "      <td>17932.802</td>\n",
       "      <td>car purchase</td>\n",
       "      <td>31 - 40</td>\n",
       "    </tr>\n",
       "    <tr>\n",
       "      <th>2</th>\n",
       "      <td>0</td>\n",
       "      <td>5623.422610</td>\n",
       "      <td>33</td>\n",
       "      <td>secondary education</td>\n",
       "      <td>1</td>\n",
       "      <td>married</td>\n",
       "      <td>0</td>\n",
       "      <td>M</td>\n",
       "      <td>employee</td>\n",
       "      <td>0</td>\n",
       "      <td>23341.752</td>\n",
       "      <td>purchase of the house</td>\n",
       "      <td>31 - 40</td>\n",
       "    </tr>\n",
       "    <tr>\n",
       "      <th>3</th>\n",
       "      <td>3</td>\n",
       "      <td>4124.747207</td>\n",
       "      <td>32</td>\n",
       "      <td>secondary education</td>\n",
       "      <td>1</td>\n",
       "      <td>married</td>\n",
       "      <td>0</td>\n",
       "      <td>M</td>\n",
       "      <td>employee</td>\n",
       "      <td>0</td>\n",
       "      <td>42820.568</td>\n",
       "      <td>supplementary education</td>\n",
       "      <td>31 - 40</td>\n",
       "    </tr>\n",
       "    <tr>\n",
       "      <th>4</th>\n",
       "      <td>0</td>\n",
       "      <td>3402.660720</td>\n",
       "      <td>53</td>\n",
       "      <td>secondary education</td>\n",
       "      <td>1</td>\n",
       "      <td>civil partnership</td>\n",
       "      <td>1</td>\n",
       "      <td>F</td>\n",
       "      <td>retiree</td>\n",
       "      <td>0</td>\n",
       "      <td>25378.572</td>\n",
       "      <td>to have a wedding</td>\n",
       "      <td>51 - 60</td>\n",
       "    </tr>\n",
       "  </tbody>\n",
       "</table>\n",
       "</div>"
      ],
      "text/plain": [
       "   children  days_employed  dob_years            education  education_id  \\\n",
       "0         1    8437.673028         42    bachelor's degree             0   \n",
       "1         1    4024.803754         36  secondary education             1   \n",
       "2         0    5623.422610         33  secondary education             1   \n",
       "3         3    4124.747207         32  secondary education             1   \n",
       "4         0    3402.660720         53  secondary education             1   \n",
       "\n",
       "       family_status  family_status_id gender income_type  debt  total_income  \\\n",
       "0            married                 0      F    employee     0     40620.102   \n",
       "1            married                 0      F    employee     0     17932.802   \n",
       "2            married                 0      M    employee     0     23341.752   \n",
       "3            married                 0      M    employee     0     42820.568   \n",
       "4  civil partnership                 1      F     retiree     0     25378.572   \n",
       "\n",
       "                   purpose faixa_etaria  \n",
       "0    purchase of the house      41 - 50  \n",
       "1             car purchase      31 - 40  \n",
       "2    purchase of the house      31 - 40  \n",
       "3  supplementary education      31 - 40  \n",
       "4        to have a wedding      51 - 60  "
      ]
     },
     "execution_count": 87,
     "metadata": {},
     "output_type": "execute_result"
    }
   ],
   "source": [
    "# Aplicando a mediana para completar os valores ausentes.\n",
    "df['total_income'] = df['total_income'].fillna(df.groupby(['education', 'income_type'])['total_income'].transform('median'))\n",
    "\n",
    "# Exibindo as primeiras linhas.\n",
    "df.head()"
   ]
  },
  {
   "cell_type": "code",
   "execution_count": 88,
   "id": "915cceaa",
   "metadata": {},
   "outputs": [
    {
     "data": {
      "text/plain": [
       "0"
      ]
     },
     "execution_count": 88,
     "metadata": {},
     "output_type": "execute_result"
    }
   ],
   "source": [
    "# Checando a quantidade de valores ausentes.\n",
    "df['total_income'].isna().sum()"
   ]
  },
  {
   "cell_type": "code",
   "execution_count": 89,
   "id": "f4359374",
   "metadata": {},
   "outputs": [
    {
     "name": "stdout",
     "output_type": "stream",
     "text": [
      "<class 'pandas.core.frame.DataFrame'>\n",
      "RangeIndex: 21454 entries, 0 to 21453\n",
      "Data columns (total 13 columns):\n",
      " #   Column            Non-Null Count  Dtype  \n",
      "---  ------            --------------  -----  \n",
      " 0   children          21454 non-null  int64  \n",
      " 1   days_employed     19351 non-null  float64\n",
      " 2   dob_years         21454 non-null  int64  \n",
      " 3   education         21454 non-null  object \n",
      " 4   education_id      21454 non-null  int64  \n",
      " 5   family_status     21454 non-null  object \n",
      " 6   family_status_id  21454 non-null  int64  \n",
      " 7   gender            21454 non-null  object \n",
      " 8   income_type       21454 non-null  object \n",
      " 9   debt              21454 non-null  int64  \n",
      " 10  total_income      21454 non-null  float64\n",
      " 11  purpose           21454 non-null  object \n",
      " 12  faixa_etaria      21454 non-null  object \n",
      "dtypes: float64(2), int64(5), object(6)\n",
      "memory usage: 2.1+ MB\n"
     ]
    }
   ],
   "source": [
    "# Exibindo as informações do DataFrame.\n",
    "df.info()"
   ]
  },
  {
   "cell_type": "markdown",
   "id": "1809f5c4",
   "metadata": {},
   "source": [
    "<font face='Calibri' color=\"#001A56\" size=+0.8>\n",
    "Os valores ausentes em <b>total_income</b> foram preenchidos, trataremos agora dos valores ausentes em <b>days_employed</b>"
   ]
  },
  {
   "cell_type": "code",
   "execution_count": 90,
   "id": "d2203ee6",
   "metadata": {},
   "outputs": [
    {
     "data": {
      "text/plain": [
       "faixa_etaria  education          \n",
       "+60           bachelor's degree      3892.685842\n",
       "              graduate degree        3569.305175\n",
       "              primary education      3668.410832\n",
       "              secondary education    3655.598692\n",
       "              some college           3692.325292\n",
       "0 - 20        bachelor's degree       612.671321\n",
       "              secondary education     662.012702\n",
       "              some college            755.821207\n",
       "21 - 30       bachelor's degree      1301.704617\n",
       "              primary education      1144.210723\n",
       "              secondary education    1326.427736\n",
       "              some college           1085.780728\n",
       "31 - 40       bachelor's degree      2112.041380\n",
       "              graduate degree        4159.753909\n",
       "              primary education      1954.419571\n",
       "              secondary education    2125.439918\n",
       "              some college           1662.684701\n",
       "41 - 50       bachelor's degree      2746.677964\n",
       "              graduate degree         409.200149\n",
       "              primary education      1837.067860\n",
       "              secondary education    2840.296908\n",
       "              some college           2536.709083\n",
       "51 - 60       bachelor's degree      3451.375754\n",
       "              graduate degree        5352.038180\n",
       "              primary education      3396.273740\n",
       "              secondary education    3458.266831\n",
       "              some college           2848.086201\n",
       "Name: days_employed, dtype: float64"
      ]
     },
     "execution_count": 90,
     "metadata": {},
     "output_type": "execute_result"
    }
   ],
   "source": [
    "# Exibindo a media de days_employed por faixa etaria e education.\n",
    "df.groupby(['faixa_etaria', 'education'])['days_employed'].mean()"
   ]
  },
  {
   "cell_type": "code",
   "execution_count": 91,
   "id": "665d26f5",
   "metadata": {},
   "outputs": [
    {
     "data": {
      "text/plain": [
       "faixa_etaria  education          \n",
       "+60           bachelor's degree      3649.448997\n",
       "              graduate degree        3569.305175\n",
       "              primary education      3638.075315\n",
       "              secondary education    3631.221820\n",
       "              some college           3587.324754\n",
       "0 - 20        bachelor's degree       592.068159\n",
       "              secondary education     685.687432\n",
       "              some college            796.983636\n",
       "21 - 30       bachelor's degree      1084.094015\n",
       "              primary education       949.705772\n",
       "              secondary education    1090.010820\n",
       "              some college            891.699189\n",
       "31 - 40       bachelor's degree      1645.805469\n",
       "              graduate degree        4159.753909\n",
       "              primary education      1290.149755\n",
       "              secondary education    1667.330899\n",
       "              some college           1245.013118\n",
       "41 - 50       bachelor's degree      2094.889867\n",
       "              graduate degree         409.200149\n",
       "              primary education      1066.040399\n",
       "              secondary education    2203.078545\n",
       "              some college           2100.473217\n",
       "51 - 60       bachelor's degree      3442.268744\n",
       "              graduate degree        5352.038180\n",
       "              primary education      3491.876613\n",
       "              secondary education    3485.964744\n",
       "              some college           2992.151849\n",
       "Name: days_employed, dtype: float64"
      ]
     },
     "execution_count": 91,
     "metadata": {},
     "output_type": "execute_result"
    }
   ],
   "source": [
    "# Exibindo a mediana de days_employed por faixa etaria e education.\n",
    "df.groupby(['faixa_etaria', 'education'])['days_employed'].median()"
   ]
  },
  {
   "cell_type": "markdown",
   "id": "0f2d25f8",
   "metadata": {},
   "source": [
    "<font face='Calibri' color=\"#001A56\" size=+0.8>\n",
    "Utilizaremos a mediana devido a presença de valores atipicos. Por exemplo, a diferença de dias empregados entre uma pessoa com 20 anos de idade pode ser muito diferente de uma pessoa de 50 anos de idade. O mesmo podemos inferir de uma pessoa que concluiu apenas o ensino primário de outra que concluiu alguma faculdade, pois quem completou apenas o ensino primário provavelmente começou a trabalhar mais jovem."
   ]
  },
  {
   "cell_type": "code",
   "execution_count": 92,
   "id": "a3dcf02c",
   "metadata": {},
   "outputs": [
    {
     "data": {
      "text/html": [
       "<style type=\"text/css\">\n",
       "#T_24ba9_row0_col0, #T_24ba9_row0_col2, #T_24ba9_row0_col3, #T_24ba9_row0_col4, #T_24ba9_row5_col1 {\n",
       "  background-color: #08306b;\n",
       "  color: #f1f1f1;\n",
       "}\n",
       "#T_24ba9_row0_col1 {\n",
       "  background-color: #3e8ec4;\n",
       "  color: #f1f1f1;\n",
       "}\n",
       "#T_24ba9_row1_col0, #T_24ba9_row1_col3, #T_24ba9_row1_col4, #T_24ba9_row2_col2, #T_24ba9_row4_col1 {\n",
       "  background-color: #f7fbff;\n",
       "  color: #000000;\n",
       "}\n",
       "#T_24ba9_row1_col1, #T_24ba9_row1_col2, #T_24ba9_row2_col1 {\n",
       "  background-color: #000000;\n",
       "  color: #f1f1f1;\n",
       "}\n",
       "#T_24ba9_row2_col0, #T_24ba9_row3_col4 {\n",
       "  background-color: #d7e6f5;\n",
       "  color: #000000;\n",
       "}\n",
       "#T_24ba9_row2_col3 {\n",
       "  background-color: #dce9f6;\n",
       "  color: #000000;\n",
       "}\n",
       "#T_24ba9_row2_col4 {\n",
       "  background-color: #f1f7fd;\n",
       "  color: #000000;\n",
       "}\n",
       "#T_24ba9_row3_col0 {\n",
       "  background-color: #a8cee4;\n",
       "  color: #000000;\n",
       "}\n",
       "#T_24ba9_row3_col1 {\n",
       "  background-color: #1f6eb3;\n",
       "  color: #f1f1f1;\n",
       "}\n",
       "#T_24ba9_row3_col2 {\n",
       "  background-color: #deebf7;\n",
       "  color: #000000;\n",
       "}\n",
       "#T_24ba9_row3_col3 {\n",
       "  background-color: #abd0e6;\n",
       "  color: #000000;\n",
       "}\n",
       "#T_24ba9_row4_col0 {\n",
       "  background-color: #6fb0d7;\n",
       "  color: #f1f1f1;\n",
       "}\n",
       "#T_24ba9_row4_col2 {\n",
       "  background-color: #eef5fc;\n",
       "  color: #000000;\n",
       "}\n",
       "#T_24ba9_row4_col3 {\n",
       "  background-color: #66abd4;\n",
       "  color: #f1f1f1;\n",
       "}\n",
       "#T_24ba9_row4_col4 {\n",
       "  background-color: #79b5d9;\n",
       "  color: #000000;\n",
       "}\n",
       "#T_24ba9_row5_col0 {\n",
       "  background-color: #084285;\n",
       "  color: #f1f1f1;\n",
       "}\n",
       "#T_24ba9_row5_col2 {\n",
       "  background-color: #083d7f;\n",
       "  color: #f1f1f1;\n",
       "}\n",
       "#T_24ba9_row5_col3 {\n",
       "  background-color: #083c7d;\n",
       "  color: #f1f1f1;\n",
       "}\n",
       "#T_24ba9_row5_col4 {\n",
       "  background-color: #1967ad;\n",
       "  color: #f1f1f1;\n",
       "}\n",
       "</style>\n",
       "<table id=\"T_24ba9\">\n",
       "  <thead>\n",
       "    <tr>\n",
       "      <th class=\"index_name level0\" >education</th>\n",
       "      <th id=\"T_24ba9_level0_col0\" class=\"col_heading level0 col0\" >bachelor's degree</th>\n",
       "      <th id=\"T_24ba9_level0_col1\" class=\"col_heading level0 col1\" >graduate degree</th>\n",
       "      <th id=\"T_24ba9_level0_col2\" class=\"col_heading level0 col2\" >primary education</th>\n",
       "      <th id=\"T_24ba9_level0_col3\" class=\"col_heading level0 col3\" >secondary education</th>\n",
       "      <th id=\"T_24ba9_level0_col4\" class=\"col_heading level0 col4\" >some college</th>\n",
       "    </tr>\n",
       "    <tr>\n",
       "      <th class=\"index_name level0\" >faixa_etaria</th>\n",
       "      <th class=\"blank col0\" >&nbsp;</th>\n",
       "      <th class=\"blank col1\" >&nbsp;</th>\n",
       "      <th class=\"blank col2\" >&nbsp;</th>\n",
       "      <th class=\"blank col3\" >&nbsp;</th>\n",
       "      <th class=\"blank col4\" >&nbsp;</th>\n",
       "    </tr>\n",
       "  </thead>\n",
       "  <tbody>\n",
       "    <tr>\n",
       "      <th id=\"T_24ba9_level0_row0\" class=\"row_heading level0 row0\" >+60</th>\n",
       "      <td id=\"T_24ba9_row0_col0\" class=\"data row0 col0\" >3649.448997</td>\n",
       "      <td id=\"T_24ba9_row0_col1\" class=\"data row0 col1\" >3569.305175</td>\n",
       "      <td id=\"T_24ba9_row0_col2\" class=\"data row0 col2\" >3638.075315</td>\n",
       "      <td id=\"T_24ba9_row0_col3\" class=\"data row0 col3\" >3631.221820</td>\n",
       "      <td id=\"T_24ba9_row0_col4\" class=\"data row0 col4\" >3587.324754</td>\n",
       "    </tr>\n",
       "    <tr>\n",
       "      <th id=\"T_24ba9_level0_row1\" class=\"row_heading level0 row1\" >0 - 20</th>\n",
       "      <td id=\"T_24ba9_row1_col0\" class=\"data row1 col0\" >592.068159</td>\n",
       "      <td id=\"T_24ba9_row1_col1\" class=\"data row1 col1\" >nan</td>\n",
       "      <td id=\"T_24ba9_row1_col2\" class=\"data row1 col2\" >nan</td>\n",
       "      <td id=\"T_24ba9_row1_col3\" class=\"data row1 col3\" >685.687432</td>\n",
       "      <td id=\"T_24ba9_row1_col4\" class=\"data row1 col4\" >796.983636</td>\n",
       "    </tr>\n",
       "    <tr>\n",
       "      <th id=\"T_24ba9_level0_row2\" class=\"row_heading level0 row2\" >21 - 30</th>\n",
       "      <td id=\"T_24ba9_row2_col0\" class=\"data row2 col0\" >1084.094015</td>\n",
       "      <td id=\"T_24ba9_row2_col1\" class=\"data row2 col1\" >nan</td>\n",
       "      <td id=\"T_24ba9_row2_col2\" class=\"data row2 col2\" >949.705772</td>\n",
       "      <td id=\"T_24ba9_row2_col3\" class=\"data row2 col3\" >1090.010820</td>\n",
       "      <td id=\"T_24ba9_row2_col4\" class=\"data row2 col4\" >891.699189</td>\n",
       "    </tr>\n",
       "    <tr>\n",
       "      <th id=\"T_24ba9_level0_row3\" class=\"row_heading level0 row3\" >31 - 40</th>\n",
       "      <td id=\"T_24ba9_row3_col0\" class=\"data row3 col0\" >1645.805469</td>\n",
       "      <td id=\"T_24ba9_row3_col1\" class=\"data row3 col1\" >4159.753909</td>\n",
       "      <td id=\"T_24ba9_row3_col2\" class=\"data row3 col2\" >1290.149755</td>\n",
       "      <td id=\"T_24ba9_row3_col3\" class=\"data row3 col3\" >1667.330899</td>\n",
       "      <td id=\"T_24ba9_row3_col4\" class=\"data row3 col4\" >1245.013118</td>\n",
       "    </tr>\n",
       "    <tr>\n",
       "      <th id=\"T_24ba9_level0_row4\" class=\"row_heading level0 row4\" >41 - 50</th>\n",
       "      <td id=\"T_24ba9_row4_col0\" class=\"data row4 col0\" >2094.889867</td>\n",
       "      <td id=\"T_24ba9_row4_col1\" class=\"data row4 col1\" >409.200149</td>\n",
       "      <td id=\"T_24ba9_row4_col2\" class=\"data row4 col2\" >1066.040399</td>\n",
       "      <td id=\"T_24ba9_row4_col3\" class=\"data row4 col3\" >2203.078545</td>\n",
       "      <td id=\"T_24ba9_row4_col4\" class=\"data row4 col4\" >2100.473217</td>\n",
       "    </tr>\n",
       "    <tr>\n",
       "      <th id=\"T_24ba9_level0_row5\" class=\"row_heading level0 row5\" >51 - 60</th>\n",
       "      <td id=\"T_24ba9_row5_col0\" class=\"data row5 col0\" >3442.268744</td>\n",
       "      <td id=\"T_24ba9_row5_col1\" class=\"data row5 col1\" >5352.038180</td>\n",
       "      <td id=\"T_24ba9_row5_col2\" class=\"data row5 col2\" >3491.876613</td>\n",
       "      <td id=\"T_24ba9_row5_col3\" class=\"data row5 col3\" >3485.964744</td>\n",
       "      <td id=\"T_24ba9_row5_col4\" class=\"data row5 col4\" >2992.151849</td>\n",
       "    </tr>\n",
       "  </tbody>\n",
       "</table>\n"
      ],
      "text/plain": [
       "<pandas.io.formats.style.Styler at 0x2019e5958e0>"
      ]
     },
     "execution_count": 92,
     "metadata": {},
     "output_type": "execute_result"
    }
   ],
   "source": [
    "df.pivot_table(index='faixa_etaria', columns='education', values='days_employed', aggfunc='median').style.background_gradient(cmap = 'Blues')"
   ]
  },
  {
   "cell_type": "markdown",
   "id": "ad53edf5",
   "metadata": {},
   "source": [
    "<font face='Calibri' color=\"#001A56\" size=+0.8>\n",
    "Como é possível observar na tabela acima, temos diferentes medianas de 'days_employed' para diferentes grupos de 'education' e 'faixa_etaria', por esse motivo irei agrupar os dados segundo essas variáveis. A utilização da mediana se deve a possível presença de valores atípicos que podem distorcer a média."
   ]
  },
  {
   "cell_type": "code",
   "execution_count": 94,
   "id": "f5a7922e",
   "metadata": {},
   "outputs": [
    {
     "data": {
      "text/html": [
       "<div>\n",
       "<style scoped>\n",
       "    .dataframe tbody tr th:only-of-type {\n",
       "        vertical-align: middle;\n",
       "    }\n",
       "\n",
       "    .dataframe tbody tr th {\n",
       "        vertical-align: top;\n",
       "    }\n",
       "\n",
       "    .dataframe thead th {\n",
       "        text-align: right;\n",
       "    }\n",
       "</style>\n",
       "<table border=\"1\" class=\"dataframe\">\n",
       "  <thead>\n",
       "    <tr style=\"text-align: right;\">\n",
       "      <th></th>\n",
       "      <th>children</th>\n",
       "      <th>days_employed</th>\n",
       "      <th>dob_years</th>\n",
       "      <th>education</th>\n",
       "      <th>education_id</th>\n",
       "      <th>family_status</th>\n",
       "      <th>family_status_id</th>\n",
       "      <th>gender</th>\n",
       "      <th>income_type</th>\n",
       "      <th>debt</th>\n",
       "      <th>total_income</th>\n",
       "      <th>purpose</th>\n",
       "      <th>faixa_etaria</th>\n",
       "    </tr>\n",
       "  </thead>\n",
       "  <tbody>\n",
       "    <tr>\n",
       "      <th>0</th>\n",
       "      <td>1</td>\n",
       "      <td>8437.673028</td>\n",
       "      <td>42</td>\n",
       "      <td>bachelor's degree</td>\n",
       "      <td>0</td>\n",
       "      <td>married</td>\n",
       "      <td>0</td>\n",
       "      <td>F</td>\n",
       "      <td>employee</td>\n",
       "      <td>0</td>\n",
       "      <td>40620.102</td>\n",
       "      <td>purchase of the house</td>\n",
       "      <td>41 - 50</td>\n",
       "    </tr>\n",
       "    <tr>\n",
       "      <th>1</th>\n",
       "      <td>1</td>\n",
       "      <td>4024.803754</td>\n",
       "      <td>36</td>\n",
       "      <td>secondary education</td>\n",
       "      <td>1</td>\n",
       "      <td>married</td>\n",
       "      <td>0</td>\n",
       "      <td>F</td>\n",
       "      <td>employee</td>\n",
       "      <td>0</td>\n",
       "      <td>17932.802</td>\n",
       "      <td>car purchase</td>\n",
       "      <td>31 - 40</td>\n",
       "    </tr>\n",
       "    <tr>\n",
       "      <th>2</th>\n",
       "      <td>0</td>\n",
       "      <td>5623.422610</td>\n",
       "      <td>33</td>\n",
       "      <td>secondary education</td>\n",
       "      <td>1</td>\n",
       "      <td>married</td>\n",
       "      <td>0</td>\n",
       "      <td>M</td>\n",
       "      <td>employee</td>\n",
       "      <td>0</td>\n",
       "      <td>23341.752</td>\n",
       "      <td>purchase of the house</td>\n",
       "      <td>31 - 40</td>\n",
       "    </tr>\n",
       "    <tr>\n",
       "      <th>3</th>\n",
       "      <td>3</td>\n",
       "      <td>4124.747207</td>\n",
       "      <td>32</td>\n",
       "      <td>secondary education</td>\n",
       "      <td>1</td>\n",
       "      <td>married</td>\n",
       "      <td>0</td>\n",
       "      <td>M</td>\n",
       "      <td>employee</td>\n",
       "      <td>0</td>\n",
       "      <td>42820.568</td>\n",
       "      <td>supplementary education</td>\n",
       "      <td>31 - 40</td>\n",
       "    </tr>\n",
       "    <tr>\n",
       "      <th>4</th>\n",
       "      <td>0</td>\n",
       "      <td>3402.660720</td>\n",
       "      <td>53</td>\n",
       "      <td>secondary education</td>\n",
       "      <td>1</td>\n",
       "      <td>civil partnership</td>\n",
       "      <td>1</td>\n",
       "      <td>F</td>\n",
       "      <td>retiree</td>\n",
       "      <td>0</td>\n",
       "      <td>25378.572</td>\n",
       "      <td>to have a wedding</td>\n",
       "      <td>51 - 60</td>\n",
       "    </tr>\n",
       "  </tbody>\n",
       "</table>\n",
       "</div>"
      ],
      "text/plain": [
       "   children  days_employed  dob_years            education  education_id  \\\n",
       "0         1    8437.673028         42    bachelor's degree             0   \n",
       "1         1    4024.803754         36  secondary education             1   \n",
       "2         0    5623.422610         33  secondary education             1   \n",
       "3         3    4124.747207         32  secondary education             1   \n",
       "4         0    3402.660720         53  secondary education             1   \n",
       "\n",
       "       family_status  family_status_id gender income_type  debt  total_income  \\\n",
       "0            married                 0      F    employee     0     40620.102   \n",
       "1            married                 0      F    employee     0     17932.802   \n",
       "2            married                 0      M    employee     0     23341.752   \n",
       "3            married                 0      M    employee     0     42820.568   \n",
       "4  civil partnership                 1      F     retiree     0     25378.572   \n",
       "\n",
       "                   purpose faixa_etaria  \n",
       "0    purchase of the house      41 - 50  \n",
       "1             car purchase      31 - 40  \n",
       "2    purchase of the house      31 - 40  \n",
       "3  supplementary education      31 - 40  \n",
       "4        to have a wedding      51 - 60  "
      ]
     },
     "execution_count": 94,
     "metadata": {},
     "output_type": "execute_result"
    }
   ],
   "source": [
    "# Preenchendo dados ausentes em days_employed.\n",
    "df['days_employed'] = df['days_employed'].fillna(\n",
    "    df.groupby(['faixa_etaria','education'])['days_employed'].transform('median'))\n",
    "\n",
    "# Exibindo as primeiras linhas da tabela.\n",
    "df.head()"
   ]
  },
  {
   "cell_type": "code",
   "execution_count": 95,
   "id": "c8c92656",
   "metadata": {},
   "outputs": [
    {
     "name": "stdout",
     "output_type": "stream",
     "text": [
      "<class 'pandas.core.frame.DataFrame'>\n",
      "RangeIndex: 21454 entries, 0 to 21453\n",
      "Data columns (total 13 columns):\n",
      " #   Column            Non-Null Count  Dtype  \n",
      "---  ------            --------------  -----  \n",
      " 0   children          21454 non-null  int64  \n",
      " 1   days_employed     21454 non-null  float64\n",
      " 2   dob_years         21454 non-null  int64  \n",
      " 3   education         21454 non-null  object \n",
      " 4   education_id      21454 non-null  int64  \n",
      " 5   family_status     21454 non-null  object \n",
      " 6   family_status_id  21454 non-null  int64  \n",
      " 7   gender            21454 non-null  object \n",
      " 8   income_type       21454 non-null  object \n",
      " 9   debt              21454 non-null  int64  \n",
      " 10  total_income      21454 non-null  float64\n",
      " 11  purpose           21454 non-null  object \n",
      " 12  faixa_etaria      21454 non-null  object \n",
      "dtypes: float64(2), int64(5), object(6)\n",
      "memory usage: 2.1+ MB\n"
     ]
    }
   ],
   "source": [
    "df.info()"
   ]
  },
  {
   "cell_type": "markdown",
   "id": "e9f04b5f",
   "metadata": {},
   "source": [
    "<font face='Calibri' color=\"#001A56\" size=+0.8>\n",
    "Como podemos observar, os valores ausentes foram preenchidos.</font>\n",
    "    \n",
    "    \n",
    "    \n",
    "\n",
    "[Voltar ao Índice](#back)"
   ]
  },
  {
   "cell_type": "markdown",
   "id": "1ad927cb",
   "metadata": {},
   "source": [
    "<a id='categorias'></a>\n",
    "<h3><font face='Calibri' color=\"#013294\" size=+2.0>\n",
    "Categorização de dados\n",
    "</font></h3>\n",
    "<p>\n",
    "    <font face='Calibri' color=\"#001A56\" size=+0.8>\n",
    "Iremos categorizar os dados da coluna <b>purpose</b>, e da coluna <b>total_income</b>. A coluna <b>purpose</b> traz diferentes descrições para o mesmo objetivo de empréstimo, por esse motivo iremos categorizar de forma mais clara e concisa. A coluna <b>total_income</b> também será categorizada pois as hipóteses trazem perguntas relacionadas ao nível de renda, da forma que os dados estão dísponíveis é muito dificil ter a visibilidade por nível, por esse motivo serão categorizados."
   ]
  },
  {
   "cell_type": "code",
   "execution_count": 96,
   "id": "c27c8830",
   "metadata": {},
   "outputs": [
    {
     "data": {
      "text/plain": [
       "wedding ceremony                            791\n",
       "having a wedding                            768\n",
       "to have a wedding                           765\n",
       "real estate transactions                    675\n",
       "buy commercial real estate                  661\n",
       "housing transactions                        652\n",
       "buying property for renting out             651\n",
       "transactions with commercial real estate    650\n",
       "purchase of the house                       646\n",
       "housing                                     646\n",
       "purchase of the house for my family         638\n",
       "construction of own property                635\n",
       "property                                    633\n",
       "transactions with my real estate            627\n",
       "building a real estate                      624\n",
       "buy real estate                             621\n",
       "purchase of my own house                    620\n",
       "building a property                         619\n",
       "housing renovation                          607\n",
       "buy residential real estate                 606\n",
       "buying my own car                           505\n",
       "going to university                         496\n",
       "car                                         494\n",
       "second-hand car purchase                    486\n",
       "to own a car                                478\n",
       "buying a second-hand car                    478\n",
       "cars                                        478\n",
       "to buy a car                                471\n",
       "car purchase                                461\n",
       "supplementary education                     460\n",
       "purchase of a car                           455\n",
       "university education                        452\n",
       "education                                   447\n",
       "to get a supplementary education            446\n",
       "getting an education                        442\n",
       "profile education                           436\n",
       "getting higher education                    426\n",
       "to become educated                          408\n",
       "Name: purpose, dtype: int64"
      ]
     },
     "execution_count": 96,
     "metadata": {},
     "output_type": "execute_result"
    }
   ],
   "source": [
    "# Contando os valores da coluna purpose.\n",
    "df['purpose'].value_counts()"
   ]
  },
  {
   "cell_type": "code",
   "execution_count": 97,
   "id": "203c3f83",
   "metadata": {},
   "outputs": [
    {
     "data": {
      "text/plain": [
       "array(['purchase of the house', 'car purchase', 'supplementary education',\n",
       "       'to have a wedding', 'housing transactions', 'education',\n",
       "       'having a wedding', 'purchase of the house for my family',\n",
       "       'buy real estate', 'buy commercial real estate',\n",
       "       'buy residential real estate', 'construction of own property',\n",
       "       'property', 'building a property', 'buying a second-hand car',\n",
       "       'buying my own car', 'transactions with commercial real estate',\n",
       "       'building a real estate', 'housing',\n",
       "       'transactions with my real estate', 'cars', 'to become educated',\n",
       "       'second-hand car purchase', 'getting an education', 'car',\n",
       "       'wedding ceremony', 'to get a supplementary education',\n",
       "       'purchase of my own house', 'real estate transactions',\n",
       "       'getting higher education', 'to own a car', 'purchase of a car',\n",
       "       'profile education', 'university education',\n",
       "       'buying property for renting out', 'to buy a car',\n",
       "       'housing renovation', 'going to university'], dtype=object)"
      ]
     },
     "execution_count": 97,
     "metadata": {},
     "output_type": "execute_result"
    }
   ],
   "source": [
    "# Verificando os valores unicos da coluna purpose.\n",
    "df['purpose'].unique()"
   ]
  },
  {
   "cell_type": "code",
   "execution_count": 98,
   "id": "39cac0fd",
   "metadata": {},
   "outputs": [
    {
     "data": {
      "text/html": [
       "<div>\n",
       "<style scoped>\n",
       "    .dataframe tbody tr th:only-of-type {\n",
       "        vertical-align: middle;\n",
       "    }\n",
       "\n",
       "    .dataframe tbody tr th {\n",
       "        vertical-align: top;\n",
       "    }\n",
       "\n",
       "    .dataframe thead th {\n",
       "        text-align: right;\n",
       "    }\n",
       "</style>\n",
       "<table border=\"1\" class=\"dataframe\">\n",
       "  <thead>\n",
       "    <tr style=\"text-align: right;\">\n",
       "      <th></th>\n",
       "      <th>children</th>\n",
       "      <th>days_employed</th>\n",
       "      <th>dob_years</th>\n",
       "      <th>education</th>\n",
       "      <th>education_id</th>\n",
       "      <th>family_status</th>\n",
       "      <th>family_status_id</th>\n",
       "      <th>gender</th>\n",
       "      <th>income_type</th>\n",
       "      <th>debt</th>\n",
       "      <th>total_income</th>\n",
       "      <th>purpose</th>\n",
       "      <th>faixa_etaria</th>\n",
       "      <th>objetivo</th>\n",
       "    </tr>\n",
       "  </thead>\n",
       "  <tbody>\n",
       "    <tr>\n",
       "      <th>0</th>\n",
       "      <td>1</td>\n",
       "      <td>8437.673028</td>\n",
       "      <td>42</td>\n",
       "      <td>bachelor's degree</td>\n",
       "      <td>0</td>\n",
       "      <td>married</td>\n",
       "      <td>0</td>\n",
       "      <td>F</td>\n",
       "      <td>employee</td>\n",
       "      <td>0</td>\n",
       "      <td>40620.102</td>\n",
       "      <td>purchase of the house</td>\n",
       "      <td>41 - 50</td>\n",
       "      <td>imóveis</td>\n",
       "    </tr>\n",
       "    <tr>\n",
       "      <th>1</th>\n",
       "      <td>1</td>\n",
       "      <td>4024.803754</td>\n",
       "      <td>36</td>\n",
       "      <td>secondary education</td>\n",
       "      <td>1</td>\n",
       "      <td>married</td>\n",
       "      <td>0</td>\n",
       "      <td>F</td>\n",
       "      <td>employee</td>\n",
       "      <td>0</td>\n",
       "      <td>17932.802</td>\n",
       "      <td>car purchase</td>\n",
       "      <td>31 - 40</td>\n",
       "      <td>automóvel</td>\n",
       "    </tr>\n",
       "    <tr>\n",
       "      <th>2</th>\n",
       "      <td>0</td>\n",
       "      <td>5623.422610</td>\n",
       "      <td>33</td>\n",
       "      <td>secondary education</td>\n",
       "      <td>1</td>\n",
       "      <td>married</td>\n",
       "      <td>0</td>\n",
       "      <td>M</td>\n",
       "      <td>employee</td>\n",
       "      <td>0</td>\n",
       "      <td>23341.752</td>\n",
       "      <td>purchase of the house</td>\n",
       "      <td>31 - 40</td>\n",
       "      <td>imóveis</td>\n",
       "    </tr>\n",
       "    <tr>\n",
       "      <th>3</th>\n",
       "      <td>3</td>\n",
       "      <td>4124.747207</td>\n",
       "      <td>32</td>\n",
       "      <td>secondary education</td>\n",
       "      <td>1</td>\n",
       "      <td>married</td>\n",
       "      <td>0</td>\n",
       "      <td>M</td>\n",
       "      <td>employee</td>\n",
       "      <td>0</td>\n",
       "      <td>42820.568</td>\n",
       "      <td>supplementary education</td>\n",
       "      <td>31 - 40</td>\n",
       "      <td>educação</td>\n",
       "    </tr>\n",
       "    <tr>\n",
       "      <th>4</th>\n",
       "      <td>0</td>\n",
       "      <td>3402.660720</td>\n",
       "      <td>53</td>\n",
       "      <td>secondary education</td>\n",
       "      <td>1</td>\n",
       "      <td>civil partnership</td>\n",
       "      <td>1</td>\n",
       "      <td>F</td>\n",
       "      <td>retiree</td>\n",
       "      <td>0</td>\n",
       "      <td>25378.572</td>\n",
       "      <td>to have a wedding</td>\n",
       "      <td>51 - 60</td>\n",
       "      <td>casamento</td>\n",
       "    </tr>\n",
       "  </tbody>\n",
       "</table>\n",
       "</div>"
      ],
      "text/plain": [
       "   children  days_employed  dob_years            education  education_id  \\\n",
       "0         1    8437.673028         42    bachelor's degree             0   \n",
       "1         1    4024.803754         36  secondary education             1   \n",
       "2         0    5623.422610         33  secondary education             1   \n",
       "3         3    4124.747207         32  secondary education             1   \n",
       "4         0    3402.660720         53  secondary education             1   \n",
       "\n",
       "       family_status  family_status_id gender income_type  debt  total_income  \\\n",
       "0            married                 0      F    employee     0     40620.102   \n",
       "1            married                 0      F    employee     0     17932.802   \n",
       "2            married                 0      M    employee     0     23341.752   \n",
       "3            married                 0      M    employee     0     42820.568   \n",
       "4  civil partnership                 1      F     retiree     0     25378.572   \n",
       "\n",
       "                   purpose faixa_etaria   objetivo  \n",
       "0    purchase of the house      41 - 50    imóveis  \n",
       "1             car purchase      31 - 40  automóvel  \n",
       "2    purchase of the house      31 - 40    imóveis  \n",
       "3  supplementary education      31 - 40   educação  \n",
       "4        to have a wedding      51 - 60  casamento  "
      ]
     },
     "execution_count": 98,
     "metadata": {},
     "output_type": "execute_result"
    }
   ],
   "source": [
    "# Selecionando as descrições e conversões.\n",
    "conversão = { 'wedding ceremony' : 'casamento',\n",
    "            'having a wedding' : 'casamento',\n",
    "            'to have a wedding' : 'casamento',\n",
    "            'buying my own car' : 'automóvel',\n",
    "            'car':'automóvel',\n",
    "            'second-hand car purchase':'automóvel',\n",
    "            'to own a car':'automóvel',\n",
    "            'buying a second-hand car':'automóvel',\n",
    "            'cars':'automóvel',\n",
    "            'to buy a car':'automóvel',\n",
    "            'car purchase':'automóvel',\n",
    "            'purchase of a car':'automóvel',\n",
    "            'going to university':'educação',\n",
    "            'supplementary education':'educação',\n",
    "            'university education':'educação',\n",
    "            'to get a supplementary education':'educação',\n",
    "            'education':'educação',\n",
    "            'getting an education':'educação',\n",
    "            'profile education':'educação',\n",
    "            'getting higher education':'educação',\n",
    "            'to become educated':'educação',\n",
    "            'real estate transactions':'imóveis',\n",
    "            'buy commercial real estate':'imóveis',\n",
    "            'buying property for renting out':'imóveis',\n",
    "            'housing transactions':'imóveis',\n",
    "            'transactions with commercial real estate':'imóveis',\n",
    "            'housing':'imóveis',\n",
    "            'purchase of the house':'imóveis',\n",
    "            'purchase of the house for my family ':'imóveis',\n",
    "            'construction of own property':'imóveis',\n",
    "            'property':'imóveis',\n",
    "            'transactions with my real estate':'imóveis',\n",
    "            'building a real estate':'imóveis',\n",
    "            'buy real estate':'imóveis',\n",
    "            'building a property':'imóveis',\n",
    "            'purchase of my own house':'imóveis',\n",
    "            'housing renovation':'imóveis',\n",
    "            'buy residential real estate':'imóveis',\n",
    "            'buying my own car':'imóveis',\n",
    "}\n",
    "\n",
    "\n",
    "# Alocando as novas descrições na coluna objetivo.\n",
    "df['objetivo'] = df['purpose'].map(conversão)\n",
    "\n",
    "# Exibindo as primeiras linhas da tabela.\n",
    "df.head()"
   ]
  },
  {
   "cell_type": "markdown",
   "id": "cc08a5d6",
   "metadata": {},
   "source": [
    "<font face='Calibri' color=\"#001A56\" size=+0.8>\n",
    "A categorização conforme o objetivo do empréstimo foi realizada e alocada na coluna <b>objetivo</b>, agora iremos realizar a categorização pela renda total, iremos utilizar os seguintes intervalos:\n",
    "<ul>\n",
    "<li>Abaixo de 15.000.\n",
    "<li>15.000 - 19.999.\n",
    "<li>20.000 - 24.999.\n",
    "<li>25.000 - 29.999.\n",
    "<li>30.000 - 34.999.\n",
    "<li>Acima de 35.000.\n",
    "</ul>    \n",
    "Os intervalos foram definidos dessa forma para que os grupos ficassem com tamanhos parecidos. E que não ficassem com muitos intervalos."
   ]
  },
  {
   "cell_type": "code",
   "execution_count": 99,
   "id": "9ae4a117",
   "metadata": {},
   "outputs": [
    {
     "data": {
      "text/plain": [
       "count     21454.000000\n",
       "mean      26470.476968\n",
       "std       15722.057710\n",
       "min        3306.762000\n",
       "25%       17202.553250\n",
       "50%       22993.274000\n",
       "75%       31729.172000\n",
       "max      362496.645000\n",
       "Name: total_income, dtype: float64"
      ]
     },
     "execution_count": 99,
     "metadata": {},
     "output_type": "execute_result"
    }
   ],
   "source": [
    "df['total_income'].describe()"
   ]
  },
  {
   "cell_type": "code",
   "execution_count": 100,
   "id": "8f39519b",
   "metadata": {},
   "outputs": [
    {
     "data": {
      "text/plain": [
       "'acima de 35.000'"
      ]
     },
     "execution_count": 100,
     "metadata": {},
     "output_type": "execute_result"
    }
   ],
   "source": [
    "# Função para categorização de dados.\n",
    "def niveis_de_renda(row):\n",
    "    if row['total_income'] < 15000:\n",
    "        return 'abaixo de 15.000'    \n",
    "    if row['total_income'] < 20000:\n",
    "        return '15.000 - 19.999'\n",
    "    if row['total_income'] < 25000:\n",
    "        return '20.000 - 24.999'\n",
    "    if row['total_income'] < 30000:\n",
    "        return '25.000 - 29.999'\n",
    "    if row['total_income'] < 35000:\n",
    "        return '30.000 - 34.999'\n",
    "    if row['total_income'] >= 35000:\n",
    "        return 'acima de 35.000'\n",
    "    \n",
    "# Testando função\n",
    "niveis_de_renda(df.iloc[0])"
   ]
  },
  {
   "cell_type": "code",
   "execution_count": 101,
   "id": "8e09e151",
   "metadata": {},
   "outputs": [
    {
     "data": {
      "text/html": [
       "<div>\n",
       "<style scoped>\n",
       "    .dataframe tbody tr th:only-of-type {\n",
       "        vertical-align: middle;\n",
       "    }\n",
       "\n",
       "    .dataframe tbody tr th {\n",
       "        vertical-align: top;\n",
       "    }\n",
       "\n",
       "    .dataframe thead th {\n",
       "        text-align: right;\n",
       "    }\n",
       "</style>\n",
       "<table border=\"1\" class=\"dataframe\">\n",
       "  <thead>\n",
       "    <tr style=\"text-align: right;\">\n",
       "      <th></th>\n",
       "      <th>children</th>\n",
       "      <th>days_employed</th>\n",
       "      <th>dob_years</th>\n",
       "      <th>education</th>\n",
       "      <th>education_id</th>\n",
       "      <th>family_status</th>\n",
       "      <th>family_status_id</th>\n",
       "      <th>gender</th>\n",
       "      <th>income_type</th>\n",
       "      <th>debt</th>\n",
       "      <th>total_income</th>\n",
       "      <th>purpose</th>\n",
       "      <th>faixa_etaria</th>\n",
       "      <th>objetivo</th>\n",
       "      <th>nivel_de_renda</th>\n",
       "    </tr>\n",
       "  </thead>\n",
       "  <tbody>\n",
       "    <tr>\n",
       "      <th>0</th>\n",
       "      <td>1</td>\n",
       "      <td>8437.673028</td>\n",
       "      <td>42</td>\n",
       "      <td>bachelor's degree</td>\n",
       "      <td>0</td>\n",
       "      <td>married</td>\n",
       "      <td>0</td>\n",
       "      <td>F</td>\n",
       "      <td>employee</td>\n",
       "      <td>0</td>\n",
       "      <td>40620.102</td>\n",
       "      <td>purchase of the house</td>\n",
       "      <td>41 - 50</td>\n",
       "      <td>imóveis</td>\n",
       "      <td>acima de 35.000</td>\n",
       "    </tr>\n",
       "    <tr>\n",
       "      <th>1</th>\n",
       "      <td>1</td>\n",
       "      <td>4024.803754</td>\n",
       "      <td>36</td>\n",
       "      <td>secondary education</td>\n",
       "      <td>1</td>\n",
       "      <td>married</td>\n",
       "      <td>0</td>\n",
       "      <td>F</td>\n",
       "      <td>employee</td>\n",
       "      <td>0</td>\n",
       "      <td>17932.802</td>\n",
       "      <td>car purchase</td>\n",
       "      <td>31 - 40</td>\n",
       "      <td>automóvel</td>\n",
       "      <td>15.000 - 19.999</td>\n",
       "    </tr>\n",
       "    <tr>\n",
       "      <th>2</th>\n",
       "      <td>0</td>\n",
       "      <td>5623.422610</td>\n",
       "      <td>33</td>\n",
       "      <td>secondary education</td>\n",
       "      <td>1</td>\n",
       "      <td>married</td>\n",
       "      <td>0</td>\n",
       "      <td>M</td>\n",
       "      <td>employee</td>\n",
       "      <td>0</td>\n",
       "      <td>23341.752</td>\n",
       "      <td>purchase of the house</td>\n",
       "      <td>31 - 40</td>\n",
       "      <td>imóveis</td>\n",
       "      <td>20.000 - 24.999</td>\n",
       "    </tr>\n",
       "    <tr>\n",
       "      <th>3</th>\n",
       "      <td>3</td>\n",
       "      <td>4124.747207</td>\n",
       "      <td>32</td>\n",
       "      <td>secondary education</td>\n",
       "      <td>1</td>\n",
       "      <td>married</td>\n",
       "      <td>0</td>\n",
       "      <td>M</td>\n",
       "      <td>employee</td>\n",
       "      <td>0</td>\n",
       "      <td>42820.568</td>\n",
       "      <td>supplementary education</td>\n",
       "      <td>31 - 40</td>\n",
       "      <td>educação</td>\n",
       "      <td>acima de 35.000</td>\n",
       "    </tr>\n",
       "    <tr>\n",
       "      <th>4</th>\n",
       "      <td>0</td>\n",
       "      <td>3402.660720</td>\n",
       "      <td>53</td>\n",
       "      <td>secondary education</td>\n",
       "      <td>1</td>\n",
       "      <td>civil partnership</td>\n",
       "      <td>1</td>\n",
       "      <td>F</td>\n",
       "      <td>retiree</td>\n",
       "      <td>0</td>\n",
       "      <td>25378.572</td>\n",
       "      <td>to have a wedding</td>\n",
       "      <td>51 - 60</td>\n",
       "      <td>casamento</td>\n",
       "      <td>25.000 - 29.999</td>\n",
       "    </tr>\n",
       "  </tbody>\n",
       "</table>\n",
       "</div>"
      ],
      "text/plain": [
       "   children  days_employed  dob_years            education  education_id  \\\n",
       "0         1    8437.673028         42    bachelor's degree             0   \n",
       "1         1    4024.803754         36  secondary education             1   \n",
       "2         0    5623.422610         33  secondary education             1   \n",
       "3         3    4124.747207         32  secondary education             1   \n",
       "4         0    3402.660720         53  secondary education             1   \n",
       "\n",
       "       family_status  family_status_id gender income_type  debt  total_income  \\\n",
       "0            married                 0      F    employee     0     40620.102   \n",
       "1            married                 0      F    employee     0     17932.802   \n",
       "2            married                 0      M    employee     0     23341.752   \n",
       "3            married                 0      M    employee     0     42820.568   \n",
       "4  civil partnership                 1      F     retiree     0     25378.572   \n",
       "\n",
       "                   purpose faixa_etaria   objetivo   nivel_de_renda  \n",
       "0    purchase of the house      41 - 50    imóveis  acima de 35.000  \n",
       "1             car purchase      31 - 40  automóvel  15.000 - 19.999  \n",
       "2    purchase of the house      31 - 40    imóveis  20.000 - 24.999  \n",
       "3  supplementary education      31 - 40   educação  acima de 35.000  \n",
       "4        to have a wedding      51 - 60  casamento  25.000 - 29.999  "
      ]
     },
     "execution_count": 101,
     "metadata": {},
     "output_type": "execute_result"
    }
   ],
   "source": [
    "# Aplicando função em uma nova coluna.\n",
    "df['nivel_de_renda'] = df.apply(niveis_de_renda, axis=1)\n",
    "\n",
    "#Exibindo as primeiras linhas da coluna.\n",
    "df.head()"
   ]
  },
  {
   "cell_type": "code",
   "execution_count": 102,
   "id": "a05d04c5",
   "metadata": {},
   "outputs": [
    {
     "data": {
      "text/plain": [
       "20.000 - 24.999     4352\n",
       "acima de 35.000     4068\n",
       "15.000 - 19.999     3957\n",
       "abaixo de 15.000    3743\n",
       "25.000 - 29.999     3296\n",
       "30.000 - 34.999     2038\n",
       "Name: nivel_de_renda, dtype: int64"
      ]
     },
     "execution_count": 102,
     "metadata": {},
     "output_type": "execute_result"
    }
   ],
   "source": [
    "# Contado os valores em cada categoria.\n",
    "df['nivel_de_renda'].value_counts()"
   ]
  },
  {
   "cell_type": "markdown",
   "id": "8791169f",
   "metadata": {},
   "source": [
    "<font face='Calibri' color=\"#001A56\" size=+0.8>\n",
    "    Os dados foram distribuidos entre as categorias, agora iremos verificar nossas hipóteses.</font>\n",
    "        \n",
    "    \n",
    "    \n",
    "\n",
    "[Voltar ao Índice](#back)"
   ]
  },
  {
   "cell_type": "markdown",
   "id": "ec73115d",
   "metadata": {},
   "source": [
    "<a id='hypotheses'></a>\n",
    "<h2><font face='Calibri' color=\"#001A56\" size=+3.0>\n",
    "Etapa 3. Verificando hipóteses\n",
    "    </font></h2>\n",
    "    <p>\n",
    "    \n",
    "<a id='h1'></a>\n",
    "<h3><font face='Calibri' color=\"#013294\" size=+2.0>\n",
    "Hipótese 1: Existe uma correlação entre o nível de renda e do pagamento em dia?\n",
    "    </font></h3>\n"
   ]
  },
  {
   "cell_type": "code",
   "execution_count": 103,
   "id": "a9c19714",
   "metadata": {},
   "outputs": [
    {
     "data": {
      "text/plain": [
       "0    0.91885\n",
       "1    0.08115\n",
       "Name: debt, dtype: float64"
      ]
     },
     "execution_count": 103,
     "metadata": {},
     "output_type": "execute_result"
    }
   ],
   "source": [
    "# Proporção dos clientes que deixaram de pagar empréstimos.\n",
    "df['debt'].value_counts(normalize=True)"
   ]
  },
  {
   "cell_type": "code",
   "execution_count": 104,
   "id": "c29093a1",
   "metadata": {},
   "outputs": [
    {
     "data": {
      "text/plain": [
       "20.000 - 24.999     4352\n",
       "acima de 35.000     4068\n",
       "15.000 - 19.999     3957\n",
       "abaixo de 15.000    3743\n",
       "25.000 - 29.999     3296\n",
       "30.000 - 34.999     2038\n",
       "Name: nivel_de_renda, dtype: int64"
      ]
     },
     "execution_count": 104,
     "metadata": {},
     "output_type": "execute_result"
    }
   ],
   "source": [
    "# Contagem dos clientes em cada nível de renda.\n",
    "df['nivel_de_renda'].value_counts()"
   ]
  },
  {
   "cell_type": "code",
   "execution_count": 105,
   "id": "46f4aa97",
   "metadata": {},
   "outputs": [
    {
     "data": {
      "text/plain": [
       "nivel_de_renda    debt\n",
       "15.000 - 19.999   0       0.914076\n",
       "                  1       0.085924\n",
       "20.000 - 24.999   0       0.911305\n",
       "                  1       0.088695\n",
       "25.000 - 29.999   0       0.917172\n",
       "                  1       0.082828\n",
       "30.000 - 34.999   0       0.924436\n",
       "                  1       0.075564\n",
       "abaixo de 15.000  0       0.920385\n",
       "                  1       0.079615\n",
       "acima de 35.000   0       0.928712\n",
       "                  1       0.071288\n",
       "Name: debt, dtype: float64"
      ]
     },
     "execution_count": 105,
     "metadata": {},
     "output_type": "execute_result"
    }
   ],
   "source": [
    "# Proporções agrupando por nível de renda.\n",
    "df.groupby('nivel_de_renda')['debt'].value_counts(normalize=True)"
   ]
  },
  {
   "cell_type": "code",
   "execution_count": 106,
   "id": "84ab72a0",
   "metadata": {},
   "outputs": [
    {
     "data": {
      "text/plain": [
       "nivel_de_renda\n",
       "15.000 - 19.999     0.015848\n",
       "20.000 - 24.999     0.017992\n",
       "25.000 - 29.999     0.012725\n",
       "30.000 - 34.999     0.007178\n",
       "abaixo de 15.000    0.013890\n",
       "acima de 35.000     0.013517\n",
       "Name: debt, dtype: float64"
      ]
     },
     "execution_count": 106,
     "metadata": {},
     "output_type": "execute_result"
    }
   ],
   "source": [
    "# Proporção do total de clientes;\n",
    "df.groupby('nivel_de_renda')['debt'].sum() / df['nivel_de_renda'].count()"
   ]
  },
  {
   "cell_type": "markdown",
   "id": "efdfbead",
   "metadata": {},
   "source": [
    "<a id='h1_conclusao'></a>\n",
    "<h4><font face='Calibri' color=\"#1E90B6\" size=+2.0>\n",
    "Conclusões\n",
    "</font></h4>\n",
    "    <p>\n",
    "<font face='Calibri' color=\"#001A56\" size=+0.8>\n",
    "Não existe relação direta entre o nível de renda e o pagamento em dia, o grupo de pessoas com renda entre 20.000 e 24.999 são os mais inadimplentes com uma taxa de 8,86%, e também podemos observar que a partir desse grupo quanto maior o nível de renda menor a taxa de inadimplência.\n",
    "    \n",
    "[Voltar ao Índice](#back)"
   ]
  },
  {
   "cell_type": "markdown",
   "id": "9a52cd3f",
   "metadata": {},
   "source": [
    "<a id='h1'></a>\n",
    "<h3><font face='Calibri' color=\"#013294\" size=+2.0>\n",
    "Hipótese 1: Existe uma correlação entre o status familiar e o pagamento em dia?\n",
    "    </font></h3>"
   ]
  },
  {
   "cell_type": "code",
   "execution_count": 108,
   "id": "2fb195e2",
   "metadata": {},
   "outputs": [
    {
     "data": {
      "text/plain": [
       "married              12339\n",
       "civil partnership     4151\n",
       "unmarried             2810\n",
       "divorced              1195\n",
       "widow / widower        959\n",
       "Name: family_status, dtype: int64"
      ]
     },
     "execution_count": 108,
     "metadata": {},
     "output_type": "execute_result"
    }
   ],
   "source": [
    "# Contagem dos clientes de cada status familiar.\n",
    "df['family_status'].value_counts()"
   ]
  },
  {
   "cell_type": "code",
   "execution_count": 109,
   "id": "154de5e7",
   "metadata": {},
   "outputs": [
    {
     "data": {
      "text/plain": [
       "family_status      debt\n",
       "civil partnership  0        3763\n",
       "                   1         388\n",
       "divorced           0        1110\n",
       "                   1          85\n",
       "married            0       11408\n",
       "                   1         931\n",
       "unmarried          0        2536\n",
       "                   1         274\n",
       "widow / widower    0         896\n",
       "                   1          63\n",
       "Name: debt, dtype: int64"
      ]
     },
     "execution_count": 109,
     "metadata": {},
     "output_type": "execute_result"
    }
   ],
   "source": [
    "# Contagem de inadimplentes por status familiar.\n",
    "df.groupby('family_status')['debt'].value_counts(normalize=False)"
   ]
  },
  {
   "cell_type": "code",
   "execution_count": 110,
   "id": "9894029a",
   "metadata": {},
   "outputs": [
    {
     "data": {
      "text/plain": [
       "family_status      debt\n",
       "civil partnership  0       0.906529\n",
       "                   1       0.093471\n",
       "divorced           0       0.928870\n",
       "                   1       0.071130\n",
       "married            0       0.924548\n",
       "                   1       0.075452\n",
       "unmarried          0       0.902491\n",
       "                   1       0.097509\n",
       "widow / widower    0       0.934307\n",
       "                   1       0.065693\n",
       "Name: debt, dtype: float64"
      ]
     },
     "execution_count": 110,
     "metadata": {},
     "output_type": "execute_result"
    }
   ],
   "source": [
    "# Proporções de inadimplentes agrupado por status familiar.\n",
    "df.groupby('family_status')['debt'].value_counts(normalize=True)"
   ]
  },
  {
   "cell_type": "code",
   "execution_count": 111,
   "id": "f028a594",
   "metadata": {},
   "outputs": [
    {
     "data": {
      "text/plain": [
       "family_status\n",
       "civil partnership    0.018085\n",
       "divorced             0.003962\n",
       "married              0.043395\n",
       "unmarried            0.012772\n",
       "widow / widower      0.002937\n",
       "Name: debt, dtype: float64"
      ]
     },
     "execution_count": 111,
     "metadata": {},
     "output_type": "execute_result"
    }
   ],
   "source": [
    "# Proporção do total de clientes.\n",
    "df.groupby('family_status')['debt'].sum() / df['nivel_de_renda'].count()"
   ]
  },
  {
   "cell_type": "markdown",
   "id": "a4984cb3",
   "metadata": {},
   "source": [
    "<a id='h2_conclusao'></a>\n",
    "<h4><font face='Calibri' color=\"#1E90B6\" size=+2.0>\n",
    "Conclusões\n",
    "</font></h4>\n",
    "    <p>\n",
    "<font face='Calibri' color=\"#001A56\" size=+0.8>\n",
    "Quando observamos apenas a distribuição dos inadimplentes temos a impressão que pessoas que são casadas ou vivem com alguém tendem a ser mais inadimplentes, porém quando analisamos a taxa de inadimplência dentro de cada grupo do status familiar vemos que essa tendência não existe, ou seja não há relação entre o status familiar e o pagamento em dia. Porém também podemos concluir que alguns grupos são mais inadimplentes que outros como solteiros e pessoas que vivem juntos (civil partnership).\n",
    "    \n",
    "[Voltar ao Índice](#back)"
   ]
  },
  {
   "cell_type": "markdown",
   "id": "100bf46b",
   "metadata": {},
   "source": [
    "<a id='h3'></a>\n",
    "<h3><font face='Calibri' color=\"#013294\" size=+2.0>\n",
    "    Hipótese 3: Existe uma correlação entre o número de crianças e o pagamento em dia?\n",
    "  </font></h3>\n",
    "<p>"
   ]
  },
  {
   "cell_type": "code",
   "execution_count": 112,
   "id": "412005bd",
   "metadata": {},
   "outputs": [
    {
     "data": {
      "text/plain": [
       "0    14091\n",
       "1     4855\n",
       "2     2128\n",
       "3      330\n",
       "4       41\n",
       "5        9\n",
       "Name: children, dtype: int64"
      ]
     },
     "execution_count": 112,
     "metadata": {},
     "output_type": "execute_result"
    }
   ],
   "source": [
    "# Contagem dos clientes conforme a quantidade de filhos.\n",
    "df['children'].value_counts()"
   ]
  },
  {
   "cell_type": "code",
   "execution_count": 113,
   "id": "8f9d2ea0",
   "metadata": {},
   "outputs": [
    {
     "data": {
      "text/plain": [
       "children  debt\n",
       "0         0       13028\n",
       "          1        1063\n",
       "1         0        4410\n",
       "          1         445\n",
       "2         0        1926\n",
       "          1         202\n",
       "3         0         303\n",
       "          1          27\n",
       "4         0          37\n",
       "          1           4\n",
       "5         0           9\n",
       "Name: debt, dtype: int64"
      ]
     },
     "execution_count": 113,
     "metadata": {},
     "output_type": "execute_result"
    }
   ],
   "source": [
    "# Distribuição conforme quantidade de filhos e inadimplência.\n",
    "df.groupby('children')['debt'].value_counts(normalize=False)"
   ]
  },
  {
   "cell_type": "code",
   "execution_count": 114,
   "id": "f86e5956",
   "metadata": {},
   "outputs": [
    {
     "data": {
      "text/plain": [
       "children  debt\n",
       "0         0       0.924562\n",
       "          1       0.075438\n",
       "1         0       0.908342\n",
       "          1       0.091658\n",
       "2         0       0.905075\n",
       "          1       0.094925\n",
       "3         0       0.918182\n",
       "          1       0.081818\n",
       "4         0       0.902439\n",
       "          1       0.097561\n",
       "5         0       1.000000\n",
       "Name: debt, dtype: float64"
      ]
     },
     "execution_count": 114,
     "metadata": {},
     "output_type": "execute_result"
    }
   ],
   "source": [
    "# Proporção de inadimplência conforme quantidade de filhos.\n",
    "df.groupby('children')['debt'].value_counts(normalize=True)"
   ]
  },
  {
   "cell_type": "code",
   "execution_count": 115,
   "id": "9b17220c",
   "metadata": {},
   "outputs": [
    {
     "data": {
      "text/plain": [
       "children\n",
       "0    0.049548\n",
       "1    0.020742\n",
       "2    0.009415\n",
       "3    0.001259\n",
       "4    0.000186\n",
       "5    0.000000\n",
       "Name: debt, dtype: float64"
      ]
     },
     "execution_count": 115,
     "metadata": {},
     "output_type": "execute_result"
    }
   ],
   "source": [
    "# Proporção do totalde clientes.\n",
    "df.groupby('children')['debt'].sum() / df['nivel_de_renda'].count()"
   ]
  },
  {
   "cell_type": "markdown",
   "id": "d5d91d0e",
   "metadata": {},
   "source": [
    "<a id='h3_conclusao'></a>\n",
    "<h4><font face='Calibri' color=\"#1E90B6\" size=+2.0>\n",
    "Conclusões\n",
    "</font></h4>\n",
    "    <p>\n",
    "<font face='Calibri' color=\"#001A56\" size=+0.8>\n",
    "Analisando os dados de forma global somos levados a concluir que quanto maior o número de crianças menor a taxa de inadimplência dos clientes, porém devemos levar em consideração também o tamanho dos grupos, o que não nos permite chegar a essa conclusão. Quando observamos a taxa de inadimplência em cada grupo com diferente quantidade de crianças, concluímos que não há relação entre eles.\n",
    "    \n",
    "[Voltar ao Índice](#back)"
   ]
  },
  {
   "cell_type": "markdown",
   "id": "18e4dbeb",
   "metadata": {},
   "source": [
    "<a id='h4'></a>\n",
    "<h3><font face='Calibri' color=\"#013294\" size=+2.0>\n",
    "    Hipótese 4: Como a finalidade do crédito afeta a taxa de inadimplência?\n",
    "  </font></h3>\n",
    "<p>"
   ]
  },
  {
   "cell_type": "code",
   "execution_count": 116,
   "id": "2acc8ae7",
   "metadata": {},
   "outputs": [
    {
     "data": {
      "text/plain": [
       "objetivo   debt\n",
       "automóvel  0       3444\n",
       "           1        357\n",
       "casamento  0       2138\n",
       "           1        186\n",
       "educação   0       3643\n",
       "           1        370\n",
       "imóveis    0       9895\n",
       "           1        783\n",
       "Name: debt, dtype: int64"
      ]
     },
     "execution_count": 116,
     "metadata": {},
     "output_type": "execute_result"
    }
   ],
   "source": [
    "# Distribuição de inadimplência agrupada por objetivo.\n",
    "df.groupby('objetivo')['debt'].value_counts(normalize=False)"
   ]
  },
  {
   "cell_type": "code",
   "execution_count": 117,
   "id": "0ac0d448",
   "metadata": {},
   "outputs": [
    {
     "data": {
      "text/plain": [
       "objetivo   debt\n",
       "automóvel  0       0.906077\n",
       "           1       0.093923\n",
       "casamento  0       0.919966\n",
       "           1       0.080034\n",
       "educação   0       0.907800\n",
       "           1       0.092200\n",
       "imóveis    0       0.926672\n",
       "           1       0.073328\n",
       "Name: debt, dtype: float64"
      ]
     },
     "execution_count": 117,
     "metadata": {},
     "output_type": "execute_result"
    }
   ],
   "source": [
    "# Proporção de inadimplência agrupada por objetivo.\n",
    "df.groupby('objetivo')['debt'].value_counts(normalize=True)"
   ]
  },
  {
   "cell_type": "code",
   "execution_count": 118,
   "id": "57c366ec",
   "metadata": {},
   "outputs": [
    {
     "data": {
      "text/plain": [
       "objetivo\n",
       "automóvel    0.016640\n",
       "casamento    0.008670\n",
       "educação     0.017246\n",
       "imóveis      0.036497\n",
       "Name: debt, dtype: float64"
      ]
     },
     "execution_count": 118,
     "metadata": {},
     "output_type": "execute_result"
    }
   ],
   "source": [
    "# Proporção sobre o total de clientes.\n",
    "df.groupby('objetivo')['debt'].sum() / df['nivel_de_renda'].count()"
   ]
  },
  {
   "cell_type": "markdown",
   "id": "5c87958e",
   "metadata": {},
   "source": [
    "<a id='h4_conclusao'></a>\n",
    "<h4><font face='Calibri' color=\"#1E90B6\" size=+2.0>\n",
    "Conclusões\n",
    "</font></h4>\n",
    "    <p>\n",
    "<font face='Calibri' color=\"#001A56\" size=+0.8>\n",
    "As finalidades de crédito com maior taxa de inadimplência são aquelas ligadas à compra de automóveis e educação, enquanto aquelas ligada a casamento e a imóveis são as menores taxas, embora as solicitações de crédito para imóveis seja a mais recorrente.\n",
    "    \n",
    "[Voltar ao Índice](#back)"
   ]
  },
  {
   "cell_type": "markdown",
   "id": "688d772c",
   "metadata": {},
   "source": [
    "<a id='h5'></a>\n",
    "<h3><font face='Calibri' color=\"#013294\" size=+2.0>\n",
    "    Hipótese 5: Existe uma correlação entre a educação e o pagamento em dia?\n",
    "  </font></h3>\n",
    "<p>"
   ]
  },
  {
   "cell_type": "code",
   "execution_count": 119,
   "id": "d02322de",
   "metadata": {},
   "outputs": [
    {
     "data": {
      "text/plain": [
       "education            debt\n",
       "bachelor's degree    0        4972\n",
       "                     1         278\n",
       "graduate degree      0           6\n",
       "primary education    0         251\n",
       "                     1          31\n",
       "secondary education  0       13808\n",
       "                     1        1364\n",
       "some college         0         676\n",
       "                     1          68\n",
       "Name: debt, dtype: int64"
      ]
     },
     "execution_count": 119,
     "metadata": {},
     "output_type": "execute_result"
    }
   ],
   "source": [
    "# Distribuição de inadimplência agrupada por grau de educação.\n",
    "df.groupby('education')['debt'].value_counts(normalize=False)"
   ]
  },
  {
   "cell_type": "code",
   "execution_count": 120,
   "id": "4e3cdc4f",
   "metadata": {},
   "outputs": [
    {
     "data": {
      "text/plain": [
       "education            debt\n",
       "bachelor's degree    0       0.947048\n",
       "                     1       0.052952\n",
       "graduate degree      0       1.000000\n",
       "primary education    0       0.890071\n",
       "                     1       0.109929\n",
       "secondary education  0       0.910098\n",
       "                     1       0.089902\n",
       "some college         0       0.908602\n",
       "                     1       0.091398\n",
       "Name: debt, dtype: float64"
      ]
     },
     "execution_count": 120,
     "metadata": {},
     "output_type": "execute_result"
    }
   ],
   "source": [
    "# Proporção de inadimplência agrupada por grau de educação.\n",
    "df.groupby('education')['debt'].value_counts(normalize=True)"
   ]
  },
  {
   "cell_type": "code",
   "execution_count": 121,
   "id": "cef2bafb",
   "metadata": {},
   "outputs": [
    {
     "data": {
      "text/plain": [
       "education\n",
       "bachelor's degree      0.012958\n",
       "graduate degree        0.000000\n",
       "primary education      0.001445\n",
       "secondary education    0.063578\n",
       "some college           0.003170\n",
       "Name: debt, dtype: float64"
      ]
     },
     "execution_count": 121,
     "metadata": {},
     "output_type": "execute_result"
    }
   ],
   "source": [
    "# Proporção sobre o total de clientes.\n",
    "df.groupby('education')['debt'].sum() / df['nivel_de_renda'].count()"
   ]
  },
  {
   "cell_type": "markdown",
   "id": "2a715bd8",
   "metadata": {},
   "source": [
    "<a id='h5_conclusao'></a>\n",
    "<h4><font face='Calibri' color=\"#1E90B6\" size=+2.0>\n",
    "Conclusões\n",
    "</font></h4>\n",
    "    <p>\n",
    "<font face='Calibri' color=\"#001A56\" size=+0.8>\n",
    "Na educação podemos observar uma relação com a inadimplência, quanto maior o grau de de educação menor a taxa de inadimplência.\n",
    "    \n",
    "[Voltar ao Índice](#back)"
   ]
  },
  {
   "cell_type": "markdown",
   "id": "1649bc23",
   "metadata": {},
   "source": [
    "<a id='end'></a>\n",
    "<h2><font face='Calibri' color=\"#001A56\" size=+3.0>\n",
    "Conclusão\n",
    "     </font></h2>\n",
    "    <p>\n",
    "    \n",
    "<font face='Calibri' color=\"#001A56\" size=+0.8>\n",
    "Inicialmente encontramos valores ausentes em duas colunas, <b>total_income</b> e <b>days_employed</b>, que foram preenchidos. Para preencher os valores ausentes de <b>total_income</b> calculamos a médiana da renda total dos demais clientes levando em consideração a ocupação e o nível de educação. Para preencher os valores ausentes de <b>days_employed</b> calculamos a mediana dos dias empregado dos demais clientes levando em consideração a faixa etária e o nível de educação. Para ambos foi utilizado a mediana pois existe a possibilidade de valores atípicos em ambos casos.\n",
    "\n",
    "Quanto aos valores duplicados, realizamos a exclusão por representar uma pequena quantidade(0,32% do total).\n",
    "\n",
    "Na coluna <b>education</b> encontramos a mesma informação escrita de formas diferentes (escritras em maiúsculas e minúsculas), então alteramos todas para minúsculas para que não houvesse divisão do mesmo grupo de dados.\n",
    "\n",
    "Na coluna <b>children</b> encontramos números negativos onde provavelmente trata-se de um erro de digitação, o mesmo foi corrigido retirando o sinal negativo(-). Também nessa coluna encontramos um número muito alto (20), o que provavelmente trata-se de um erro de digitação, alterado para 2.\n",
    "\n",
    "Na coluna <b>days_employed</b> verificamos a presença de números positivos e negativos, os dados positivos são dos clientes desempregados e aposentados, portanto consideramos um erro no imput de dados, provalvemente foram invertidas as datas de inicio e data final. Para esse problema corrigimos os valores negativos, substituindo por positivos. Também nessa coluna encontramos valores extremamente altos, sendo a quantidade de dias mais alta que a própria idade do cliente, nesse casso realizamos a divisão do número por 100, por acreditar que tenha sido um erro de digitação (acrescimo de zeros).\n",
    "\n",
    "Encontramos na coluna <b>dob_years</b> idades com valor igual a 0. Substituimos pela média de idade levando em consideração o gênero, não utilizamos a mediana pois aparentemente não temos valores atípicos nessa característica.\n",
    "\n",
    "Na coluna <b>income_type</b> não detectamos nenhum erro, mas realizamos algumas aterações. Alteramos <i>\"entrepreneur\"</i> para <i>\"business\"</i>, pois são as mesmas atividades e também <i>\"unemployed\"</i>, <i>\"student\"</i> e <i>\"paternity / maternity leave\"<i>, para <i>\"others\"<i>, pois são amostras muito pequenas.\n",
    "\n",
    "Criamos algumas colunas para categorização de dados para que facilitasse a análise e manipução de dados, foram:\n",
    "<ul>\n",
    "<li><b>faixa etária</b>: utilizada para calcular as médias e medianas que preencheram valores ausentes.\n",
    "<li><b>objetivo</b>: utizado para descrever a finalidade da solicitação do empréstimo de forma clara e consisa.\n",
    "<li><b>nível de renda</b>: utilizada para facilitar a analise da relação entre renda e inadimplência.\n",
    "</ul>\n",
    "Após tudo isso, concluímos que:\n",
    "<ol>\n",
    "<b><li>Existe uma correlação entre o nível de renda e o pagamento em dia?</b> Não, porém pessoas com renda entre 20.000 e 24.999 são os mais inadimplentes com uma taxa de 8,79%. A partir de 25.000, quanto maior for a renda menos será a taxa de inadimplência.\n",
    "<b><li>Existe uma correlação entre o status familiar e o pagamento em dia?</b> Não, mas solteiros e pessoas em união estável (civil partnership) tendem a ser mais inadimplentes em relação as outras com status familiar diferente desses.\n",
    "<b><li>Existe uma correlação entre a quantidade de crianças e o pagamento em dia?</b> Não, mas podemos observar que aqueles que não tem crianças tem menores taxas de inadimplência.\n",
    "<b><li>Como a finalidade do crédito afeta a taxa de inadimplência?</b> As finalidades de crédito com maior taxa de inadimplência são aquelas ligadas à compra de automóveis e educação, enquanto aquelas ligada a casamento e a imóveis são as menores taxas, embora as solicitações de crédito para imóveis seja a mais recorrente.\n",
    "<b><li>Existe uma correlação entre a educação e o pagamento em dia?</b> Sim, quanto menor o grau de educação dos clientes maior a taxa de inadimplência.\n",
    "</ol>    \n",
    "\n",
    "[Voltar ao Índice](#back) \n",
    "    <p>\n",
    "<hr>"
   ]
  },
  {
   "cell_type": "markdown",
   "id": "e6222c52",
   "metadata": {},
   "source": [
    "<a id='fontes'></a>\n",
    "<h2><font face='Calibri' color=\"#001A56\" size=+3.0>\n",
    "Fontes\n",
    "     </font></h2>\n",
    "    <p>\n",
    "    \n",
    "<font face='Calibri' color=\"#001A56\" size=+0.8>\n",
    "<ul>\n",
    "<li> Documentação da biblioteca <a href=\"https://pandas.pydata.org/docs/\" target=\"_blank\">Pandas."
   ]
  },
  {
   "cell_type": "markdown",
   "id": "bd71490f",
   "metadata": {},
   "source": [
    "<a id='contato'></a>\n",
    "<h2><font face='Calibri' color=\"#001A56\" size=+3.0>\n",
    "Contatos\n",
    "     </font></h2>\n",
    "    <p>\n",
    "<font face='Calibri' color=\"#001A56\" size=+0.8>\n",
    "    <ul>\n",
    "    <li><b>Autor:</b> Maycon Douglas dos Santos\n",
    "    <p>    \n",
    "    <li><b>E-mail:</b> mayconds13@live.com\n",
    "    <p>  \n",
    "    <li><b>LinkedIn:</b> <a href=\"https://www.linkedin.com/in/maycondouglasdossantos/\"> linkedin.com/in/maycondouglasdossantos </a>\n",
    "    <p>    \n",
    "    <li><b>GitHub:</b> <a href=\"https://github.com/mayconddsantos\"> github.com/mayconddsantos </a>\n",
    "    <p>    \n",
    "    <li><b>Repositório deste projeto:</b><a href=\"https://github.com/mayconddsantos/Projetos_Practicum\"> github.com/mayconddsantos/Projetos_Practicum </a>"
   ]
  },
  {
   "cell_type": "code",
   "execution_count": null,
   "id": "854c9901",
   "metadata": {},
   "outputs": [],
   "source": []
  }
 ],
 "metadata": {
  "kernelspec": {
   "display_name": "Python 3 (ipykernel)",
   "language": "python",
   "name": "python3"
  },
  "language_info": {
   "codemirror_mode": {
    "name": "ipython",
    "version": 3
   },
   "file_extension": ".py",
   "mimetype": "text/x-python",
   "name": "python",
   "nbconvert_exporter": "python",
   "pygments_lexer": "ipython3",
   "version": "3.9.12"
  }
 },
 "nbformat": 4,
 "nbformat_minor": 5
}
